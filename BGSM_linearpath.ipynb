{
 "cells": [
  {
   "cell_type": "code",
   "execution_count": 13,
   "metadata": {},
   "outputs": [],
   "source": [
    "using LightGraphs, RCall, LightGraphsFlows, Suppressor, Gadfly, DataFrames, CSV"
   ]
  },
  {
   "cell_type": "code",
   "execution_count": 110,
   "metadata": {},
   "outputs": [],
   "source": [
    "R\"library('genlasso')\";\n",
    "include(\"code/BGSM_general.jl\");\n",
    "include(\"code/BGSM_biclust.jl\");\n",
    "include(\"code/model_selection.jl\");\n",
    "include(\"code/l0pen.jl\");"
   ]
  },
  {
   "cell_type": "code",
   "execution_count": 18,
   "metadata": {},
   "outputs": [
    {
     "data": {
      "text/plain": [
       "get_data (generic function with 1 method)"
      ]
     },
     "execution_count": 18,
     "metadata": {},
     "output_type": "execute_result"
    }
   ],
   "source": [
    "function get_data(n,s; signal = 5)\n",
    "    g = PathGraph(n);\n",
    "    D = -incidence_matrix(g, oriented = true)';\n",
    "    J = pinv(full(D)) + 1/n;\n",
    "    delta = signal * [zeros(n-1-s);randn(s)]\n",
    "    theta = J * delta;\n",
    "    y = theta + randn(n);\n",
    "    return Dict([(:y, y), (:theta, theta)])\n",
    "end"
   ]
  },
  {
   "cell_type": "code",
   "execution_count": 19,
   "metadata": {},
   "outputs": [
    {
     "data": {
      "text/plain": [
       "BGSM (generic function with 1 method)"
      ]
     },
     "execution_count": 19,
     "metadata": {},
     "output_type": "execute_result"
    }
   ],
   "source": [
    "function BGSM(y, D)\n",
    "    v0_range = 1e-2 * 2.^(0:9); a = Inf; bgsm1 = 0; bgsm2 = 0;\n",
    "    t = 0;\n",
    "    for i = 1:length(v0_range)\n",
    "        tic();\n",
    "        temp = BGSM_general(y,D, v0 = v0_range[i], v1 = 1e4, B = n, b = sum(size(D)),\n",
    "                                    convtol = 1e-8, iter = 100, verbose = false);\n",
    "        t = t + toc();\n",
    "        bgsm_ms = model_selection(temp);\n",
    "        if bgsm_ms[:score] < a\n",
    "            a = bgsm_ms[:score];\n",
    "            bgsm1 = temp[:alpha] + temp[:theta];\n",
    "            bgsm2 = bgsm_ms[:t_full];\n",
    "        end\n",
    "    end\n",
    "    \n",
    "    return Dict([(:1, bgsm1), (:2, bgsm2), (:t, t)])\n",
    "end"
   ]
  },
  {
   "cell_type": "code",
   "execution_count": 20,
   "metadata": {},
   "outputs": [
    {
     "data": {
      "text/plain": [
       "sim (generic function with 1 method)"
      ]
     },
     "execution_count": 20,
     "metadata": {},
     "output_type": "execute_result"
    }
   ],
   "source": [
    "function sim(n; s = floor(Int,n/20), repnum = 10, signal = 5)\n",
    "    mse_bgsm = zeros(repnum); mse_fl = zeros(repnum); mse_l0 = zeros(repnum);\n",
    "    mse_mean = zeros(3); t = zeros(3);\n",
    "    changes = zeros(3);\n",
    "\n",
    "    for i = 1:repnum\n",
    "        srand(i);\n",
    "        d = get_data(n,s; signal = signal); y = d[:y]; theta = d[:theta];\n",
    "        tic();\n",
    "        @rput y;\n",
    "        R\"out =  trendfilter(y, ord=0);\";\n",
    "        t[2] = t[2] + toc();\n",
    "        R\"cv = cv.trendfilter(out);\n",
    "                 out_fl = coef(out, lambda=cv$lambda.min, verbose = FALSE)$beta;\";\n",
    "        @rget out_fl;\n",
    "        \n",
    "        g = PathGraph(n);\n",
    "        D = -incidence_matrix(g, oriented = true)';\n",
    "    \n",
    "        out_bgsm = BGSM(y, D);\n",
    "        t[1] = t[1] + out_bgsm[:t];\n",
    "        \n",
    "        tic();\n",
    "        out_l0 = local_minimizer(y,g, lambda = (1 + log(n/s)) * 3, delta = 10/sqrt(n));\n",
    "        t[3] = t[3] + toc();\n",
    "        \n",
    "        changes[1] += sum(abs.(D*out_bgsm[:2]) .> 1e-8);\n",
    "        changes[2] += sum(abs.(D*out_fl) .> 1e-8);\n",
    "        changes[3] += sum(abs.(D*out_l0) .> 1e-8);\n",
    "        \n",
    "        mse_bgsm[i] = norm(theta - out_bgsm[:2])^2/n;\n",
    "        mse_fl[i] = norm(theta - out_fl)^2/n;\n",
    "        mse_l0[i] = norm(theta - out_l0)^2/n;\n",
    "        \n",
    "        mse_mean = [mean(mse_bgsm); mean(mse_fl); mean(mse_l0)];\n",
    "        \n",
    "    end\n",
    "    \n",
    "    return Dict([(:bgsm, mse_bgsm), (:fuzedlasso, mse_fl),\n",
    "                 (:penl0, mse_l0), (:mean, mse_mean), (:t, t), (:c, changes/(n-1)/repnum) ])\n",
    "end"
   ]
  },
  {
   "cell_type": "code",
   "execution_count": 41,
   "metadata": {},
   "outputs": [
    {
     "name": "stdout",
     "output_type": "stream",
     "text": [
      "[0.0397346, 0.290495, 0.0815291]\n",
      "[0.0320997, 0.494194, 0.262053]\n",
      "[0.0582738, 0.821921, 0.62852]\n",
      "[0.0958751, 1.28794, 2.21527]\n",
      "[0.185541, 2.55636, 6.20228]\n",
      "[0.509778, 4.18042, 21.6173]\n",
      "[0.652593, 7.67377, 91.5189]\n",
      "[1.95356, 17.2372, 341.126]\n"
     ]
    }
   ],
   "source": [
    "res = zeros(10, 3); c = zeros(10,3); temp = 0; n = 0;\n",
    "t = zeros(10,3)\n",
    "for i = 1:8\n",
    "    @suppress begin\n",
    "        n = floor(Int,sqrt(3)^(i+5)); s = 5;\n",
    "        temp = sim(n; s = s, repnum = 5); # for the plot we did repnum = 10\n",
    "        res[i,:] = temp[:mean];\n",
    "        c[i,:] = temp[:c];\n",
    "        t[i,:] = temp[:t];\n",
    "    end\n",
    "    println(temp[:t])\n",
    "end"
   ]
  },
  {
   "cell_type": "code",
   "execution_count": 42,
   "metadata": {},
   "outputs": [
    {
     "data": {
      "text/plain": [
       "10×3 Array{Float64,2}:\n",
       " 1.5062     1.47754    1.03762  \n",
       " 0.545365   0.956705   0.577066 \n",
       " 0.425391   0.557889   0.404794 \n",
       " 0.243046   0.349741   0.200504 \n",
       " 0.181307   0.207293   0.193844 \n",
       " 0.0486524  0.122058   0.126125 \n",
       " 0.0266966  0.0772873  0.0581294\n",
       " 0.027755   0.0478158  0.0330306\n",
       " 0.0        0.0        0.0      \n",
       " 0.0        0.0        0.0      "
      ]
     },
     "execution_count": 42,
     "metadata": {},
     "output_type": "execute_result"
    }
   ],
   "source": [
    "res"
   ]
  },
  {
   "cell_type": "code",
   "execution_count": 50,
   "metadata": {},
   "outputs": [],
   "source": [
    "x = floor.(Int,sqrt(3).^((1:10)+5));\n",
    "r1 = DataFrame(x = repeat(x[1:8], outer = 3), y = res[1:8,:][:],\n",
    "                t = t[1:8,:][:], c = c[1:8,:][:],\n",
    "                method = repeat([\"BGSM\";\"Genlasso\";\"L0pen\"], inner = 8));"
   ]
  },
  {
   "cell_type": "code",
   "execution_count": 51,
   "metadata": {},
   "outputs": [],
   "source": [
    "p1 = Gadfly.plot(r1, x = :x, y = :y, color = :method, shape = :method, Geom.point, Geom.line,\n",
    "                Scale.x_log10, Scale.y_log10, Coord.cartesian(xmin = 1, xmax = 3.6),\n",
    "                Guide.title(\"mean squared error\"), Guide.xlabel(\"n\"), Guide.ylabel(\"mse\"),\n",
    "                Theme(point_size = 4pt, key_position = :none),\n",
    "                shape = repeat([Shape.square, Shape.utriangle, Shape.cross], inner = 10));\n",
    "p2 = Gadfly.plot(r1, x = :x, y = :t, color = :method, shape = :method, Geom.point, Geom.line,\n",
    "                Scale.x_log10, Scale.y_log10, Coord.cartesian(xmin = 1, xmax = 3.6),\n",
    "                Guide.title(\"computation time\"), Guide.xlabel(\"n\"), Guide.ylabel(\"time(sec)\"),\n",
    "                Theme(point_size = 4pt),\n",
    "                shape = repeat([Shape.square, Shape.utriangle, Shape.cross], inner = 10))\n",
    "p3 = Gadfly.plot(r1, x = :x, y = :c, color = :method, shape = :method, Geom.point, Geom.line,\n",
    "                Scale.x_log10, Scale.y_log10, Coord.cartesian(xmin = 1, xmax = 3.6),\n",
    "                Guide.title(\"number of changes\"), Guide.xlabel(\"n\"), Guide.ylabel(\"time(sec)\"),\n",
    "                Theme(point_size = 4pt, key_position = :none),\n",
    "                shape = repeat([Shape.square, Shape.utriangle, Shape.cross], inner = 10));"
   ]
  },
  {
   "cell_type": "code",
   "execution_count": 52,
   "metadata": {},
   "outputs": [],
   "source": [
    "CSV.write(\"result/linearpath1.txt\", r1, delim = ',');"
   ]
  },
  {
   "cell_type": "code",
   "execution_count": 53,
   "metadata": {},
   "outputs": [],
   "source": [
    "set_default_plot_size(45cm, 13cm)\n",
    "F9 = title(hstack(compose(context(0, 0, 14cm, 13cm), render(p1)),\n",
    "    compose(context(0, 0, 14cm, 13cm), render(p3)),\n",
    "    compose(context(0, 0, 16cm, 13cm), render(p2))), \"linear path graph\")\n",
    "Gadfly.draw(PDF(\"F9.pdf\"), F9);"
   ]
  }
 ],
 "metadata": {
  "kernelspec": {
   "display_name": "Julia 0.6.2",
   "language": "julia",
   "name": "julia-0.6"
  },
  "language_info": {
   "file_extension": ".jl",
   "mimetype": "application/julia",
   "name": "julia",
   "version": "0.6.2"
  }
 },
 "nbformat": 4,
 "nbformat_minor": 2
}

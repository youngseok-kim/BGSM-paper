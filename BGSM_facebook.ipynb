{
 "cells": [
  {
   "cell_type": "code",
   "execution_count": 30,
   "metadata": {},
   "outputs": [],
   "source": [
    "using DataFrames, PyPlot, LightGraphs, Cairo, Fontconfig, Colors, CSV, RCall"
   ]
  },
  {
   "cell_type": "code",
   "execution_count": 9,
   "metadata": {},
   "outputs": [],
   "source": [
    "include(\"code/BGSM_effective_resistance.jl\");\n",
    "include(\"code/model_selection.jl\");"
   ]
  },
  {
   "cell_type": "code",
   "execution_count": 4,
   "metadata": {},
   "outputs": [],
   "source": [
    "using PyCall, Suppressor\n",
    "@pyimport GraphSegment\n",
    "@pyimport numpy"
   ]
  },
  {
   "cell_type": "code",
   "execution_count": 7,
   "metadata": {},
   "outputs": [],
   "source": [
    "edge = CSV.read(\"data/facebook_combined.txt\", delim = ' ', header = false);"
   ]
  },
  {
   "cell_type": "code",
   "execution_count": 11,
   "metadata": {},
   "outputs": [],
   "source": [
    "p = maximum(Matrix(edge)) + 1;\n",
    "m = size(edge,1)\n",
    "G = SimpleGraph(p);\n",
    "for i = 1:m\n",
    "    add_edge!(G,(edge[i,1] + 1, edge[i,2] + 1));\n",
    "end\n",
    "D = -incidence_matrix(G, oriented = true)';\n",
    "R = effective_resistance(G, D);\n",
    "m,p = size(D)\n",
    "edges = repeat([(0,0)],m);\n",
    "for i = 1:m\n",
    "    temp = find(D[i,:] .!= 0);\n",
    "    edges[i] = (temp[1]-1, temp[2]-1);\n",
    "end"
   ]
  },
  {
   "cell_type": "code",
   "execution_count": 12,
   "metadata": {},
   "outputs": [
    {
     "data": {
      "text/plain": [
       "651-element Array{Int64,1}:\n",
       "   136\n",
       "   422\n",
       "   616\n",
       "  1101\n",
       "  1164\n",
       "  1165\n",
       "  1166\n",
       "  1167\n",
       "  1168\n",
       "  1169\n",
       "  1170\n",
       "  1171\n",
       "  1261\n",
       "     ⋮\n",
       " 37624\n",
       " 37625\n",
       " 37626\n",
       " 37627\n",
       " 37628\n",
       " 37983\n",
       " 37984\n",
       " 37985\n",
       " 37986\n",
       " 37987\n",
       " 37988\n",
       " 37989"
      ]
     },
     "execution_count": 12,
     "metadata": {},
     "output_type": "execute_result"
    }
   ],
   "source": [
    "srand(4)\n",
    "src = rand(1:p, 4); distance = zeros(p,4); col = zeros(Int, p);\n",
    "for i = 1:4\n",
    "    temp = dijkstra_shortest_paths(G, src[i]).dists;\n",
    "    distance[:,i] = temp;\n",
    "end\n",
    "for i = 1:p\n",
    "    col[i] = findmin(distance[i,:])[2]\n",
    "end\n",
    "col = [1;3;4;2][col];\n",
    "tind = find(abs.(D * col) .> 1e-8)"
   ]
  },
  {
   "cell_type": "code",
   "execution_count": null,
   "metadata": {},
   "outputs": [],
   "source": [
    "srand(1);\n",
    "y = 1 * col + rand(length(col));\n",
    "bgsm = zeros(length(y),20);\n",
    "for i = 1:20\n",
    "    res1      = BGSM_effective_resistance(y,D,R, v0 = 1e-2 * 1.3^(i-1), verbose = false);\n",
    "    mss1      = model_selection(res1);\n",
    "    bgsm[:,i] = mss1[:beta]\n",
    "    println(\"score: \", mss1[:score],\" and # of comp: \",length(mss1[:c]))\n",
    "end"
   ]
  },
  {
   "cell_type": "code",
   "execution_count": null,
   "metadata": {},
   "outputs": [],
   "source": [
    "score: 12151.633900812532 and # of comp: 121\n",
    "score: 12020.560921841163 and # of comp: 80\n",
    "score: 11980.284708900073 and # of comp: 69\n",
    "score: 11928.87261252071 and # of comp: 52\n",
    "score: 11889.941024092788 and # of comp: 36\n",
    "score: 11868.968094220054 and # of comp: 29\n",
    "score: 11855.589736676691 and # of comp: 24\n",
    "score: 11830.90384801837 and # of comp: 17\n",
    "score: 11833.214245491812 and # of comp: 18\n",
    "score: 11832.043330719634 and # of comp: 18\n",
    "score: 11838.156592081814 and # of comp: 20\n",
    "score: 11897.758839308966 and # of comp: 38\n",
    "score: 11950.901300074196 and # of comp: 54\n",
    "score: 11990.039511186842 and # of comp: 66\n",
    "score: 12124.72318887452 and # of comp: 107\n",
    "score: 12242.162047456217 and # of comp: 143\n",
    "score: 12405.588282914472 and # of comp: 194\n",
    "score: 12584.535457823442 and # of comp: 253\n",
    "score: 12697.776412446008 and # of comp: 311\n",
    "score: 12317.789141977904 and # of comp: 4039"
   ]
  },
  {
   "cell_type": "code",
   "execution_count": 14,
   "metadata": {},
   "outputs": [
    {
     "name": "stdout",
     "output_type": "stream",
     "text": [
      "score: 23033.07959219604 and # of comp: 3\n",
      "mse: 0.21338918972677118 fdr: 0.0 power : 0.7357910906298003\n"
     ]
    }
   ],
   "source": [
    "srand(1);\n",
    "y         = 1 * col +  rand(length(col));\n",
    "res1      = BGSM_effective_resistance(y,D,R, v0 = 1e-2 * 1.3^(8-1), b = size(D,1), verbose = false);\n",
    "mss1      = model_selection(res1);\n",
    "println(\"score: \", mss1[:score],\" and # of comp: \",length(mss1[:c]))\n",
    "nzind     = find(abs.(D * mss1[:beta]) .> 1e-8);\n",
    "tp        = length(findin(tind, nzind));\n",
    "println(\"mse: \", norm(y - mss1[:beta])^2/p,\" fdr: \", 1 - tp/length(nzind),\" power : \", tp/length(tind))"
   ]
  },
  {
   "cell_type": "code",
   "execution_count": 13,
   "metadata": {},
   "outputs": [
    {
     "name": "stdout",
     "output_type": "stream",
     "text": [
      "1\n",
      "2\n",
      "3\n",
      "4\n",
      "5\n"
     ]
    },
    {
     "ename": "LoadError",
     "evalue": "\u001b[91msyntax: unexpected \"end\"\u001b[39m",
     "output_type": "error",
     "traceback": [
      "\u001b[91msyntax: unexpected \"end\"\u001b[39m",
      "",
      "Stacktrace:",
      " [1] \u001b[1minclude_string\u001b[22m\u001b[22m\u001b[1m(\u001b[22m\u001b[22m::String, ::String\u001b[1m)\u001b[22m\u001b[22m at \u001b[1m./loading.jl:522\u001b[22m\u001b[22m"
     ]
    }
   ],
   "source": [
    "srand(1)\n",
    "y = 1 * col +  rand(length(col));\n",
    "B     = 5;\n",
    "err   = zeros(20, B);\n",
    "out_l0pen = 0;\n",
    "srand(1);\n",
    "for b = 1:B\n",
    "    println(b);\n",
    "    for i = 1:20\n",
    "        out_l0pen = GraphSegment.GraphSegment(y,edges, 1.5^(8-i), delta = 1, weights = R, verbose = false);\n",
    "        sigma     = 1;\n",
    "        alpha     = 0.2;\n",
    "        z         = alpha * sigma * randn(p);\n",
    "        y1        = y + z;\n",
    "        y2        = y - z/alpha^2;\n",
    "        mu1       = GraphSegment.GraphSegment(y1,edges, 1.5^(8-i), delta = 1, weights = R, verbose = false);\n",
    "        err[i,b]  = norm(y2 - mu1)^2/p;\n",
    "    end\n",
    "end\n",
    "l0pen = GraphSegment.GraphSegment(y,edges, 1.5^(8-findmin(sum(err,2))[2]), delta = 1, weights = R, verbose = false)\n",
    "nzind = find(abs.(D * l0pen) .> 1e-8);\n",
    "tp    = length(findin(tind, nzind));\n",
    "println(\"mse: \", norm(y-l0pen)^2/p,\" fdr: \", 1 - tp/length(nzind),\" power : \", tp/length(tind))"
   ]
  },
  {
   "cell_type": "code",
   "execution_count": 15,
   "metadata": {},
   "outputs": [
    {
     "name": "stdout",
     "output_type": "stream",
     "text": [
      "mse: 0.17913921989894008 fdr: 0.1235955056179775 power : 0.4792626728110599\n"
     ]
    }
   ],
   "source": [
    "\n",
    "l0pen = GraphSegment.GraphSegment(y,edges, 1.5^(8-findmin(sum(err,2))[2]), delta = 1, weights = R, verbose = false)\n",
    "nzind = find(abs.(D * l0pen) .> 1e-8);\n",
    "tp    = length(findin(tind, nzind));\n",
    "println(\"mse: \", norm(y-l0pen)^2/p,\" fdr: \", 1 - tp/length(nzind),\" power : \", tp/length(tind))"
   ]
  },
  {
   "cell_type": "code",
   "execution_count": null,
   "metadata": {},
   "outputs": [],
   "source": [
    "srand(1);\n",
    "y = 2 * col + rand(length(col));\n",
    "bgsm = zeros(length(y),20);\n",
    "for i = 1:20\n",
    "    res1      = BGSM_effective_resistance(y,D,R, v0 = 1e-3 * 1.3^(i-1), verbose = false);\n",
    "    mss1      = model_selection(res1);\n",
    "    bgsm[:,i] = mss1[:beta]\n",
    "    println(\"score: \", mss1[:score],\" and # of comp: \",length(mss1[:c]))\n",
    "end"
   ]
  },
  {
   "cell_type": "code",
   "execution_count": null,
   "metadata": {},
   "outputs": [],
   "source": [
    "score: 12255.07631585365 and # of comp: 172\n",
    "score: 12206.604339587655 and # of comp: 126\n",
    "score: 12109.805660278449 and # of comp: 99\n",
    "score: 12029.451524543623 and # of comp: 77\n",
    "score: 11943.051013455246 and # of comp: 53\n",
    "score: 11904.441390564012 and # of comp: 42\n",
    "score: 11864.972103692558 and # of comp: 26\n",
    "score: 11821.032574445853 and # of comp: 13\n",
    "score: 11796.694905576913 and # of comp: 6\n",
    "score: 11790.470361521864 and # of comp: 5\n",
    "score: 11790.470361521864 and # of comp: 5\n",
    "score: 11790.470361521864 and # of comp: 5\n",
    "score: 11790.470361521864 and # of comp: 5\n",
    "score: 11793.681987472992 and # of comp: 6\n",
    "score: 11801.269862669367 and # of comp: 8\n",
    "score: 11807.55635229327 and # of comp: 10\n",
    "score: 11821.865050838645 and # of comp: 14\n",
    "score: 11824.438092604189 and # of comp: 15\n",
    "score: 11829.582439023 and # of comp: 17\n",
    "score: 11843.857384477915 and # of comp: 21"
   ]
  },
  {
   "cell_type": "code",
   "execution_count": 17,
   "metadata": {},
   "outputs": [
    {
     "name": "stdout",
     "output_type": "stream",
     "text": [
      "score: 23027.79417807265 and # of comp: 4\n",
      "mse: 0.08430369416781858 fdr: 0.006172839506172867 power : 0.989247311827957\n"
     ]
    }
   ],
   "source": [
    "srand(1);\n",
    "y         = 2 * col +  rand(length(col));\n",
    "res1      = BGSM_effective_resistance(y,D,R, v0 = 1e-2 * 1.3^(11-1), b = size(D,1), verbose = false);\n",
    "mss1      = model_selection(res1);\n",
    "println(\"score: \", mss1[:score],\" and # of comp: \",length(mss1[:c]))\n",
    "nzind     = find(abs.(D * mss1[:beta]) .> 1e-8);\n",
    "tp        = length(findin(tind, nzind));\n",
    "println(\"mse: \", norm(y - mss1[:beta])^2/p,\" fdr: \", 1 - tp/length(nzind),\" power : \", tp/length(tind))"
   ]
  },
  {
   "cell_type": "code",
   "execution_count": 18,
   "metadata": {},
   "outputs": [
    {
     "name": "stdout",
     "output_type": "stream",
     "text": [
      "1\n",
      "2\n",
      "3\n",
      "4\n",
      "5\n",
      "mse: 0.08538727086248098 fdr: 0.023400936037441533 power : 0.9615975422427036\n"
     ]
    }
   ],
   "source": [
    "srand(1)\n",
    "y = 2 * col +  rand(length(col));\n",
    "B     = 5;\n",
    "err   = zeros(20, B);\n",
    "out_l0pen = 0;\n",
    "srand(1);\n",
    "for b = 1:B\n",
    "    println(b);\n",
    "    for i = 1:20\n",
    "        out_l0pen = GraphSegment.GraphSegment(y,edges, 1.5^(8-i), delta = 1, weights = R, verbose = false);\n",
    "        sigma     = 1;\n",
    "        alpha     = 0.2;\n",
    "        z         = alpha * sigma * randn(p);\n",
    "        y1        = y + z;\n",
    "        y2        = y - z/alpha^2;\n",
    "        mu1       = GraphSegment.GraphSegment(y1,edges, 1.5^(8-i), delta = 1, weights = R, verbose = false);\n",
    "        err[i,b]  = norm(y2 - mu1)^2/p;\n",
    "    end\n",
    "end\n",
    "l0pen = GraphSegment.GraphSegment(y,edges, 1.5^(8-findmin(sum(err,2))[2]), delta = 1, weights = R, verbose = false)\n",
    "nzind = find(abs.(D * l0pen) .> 1e-8);\n",
    "tp    = length(findin(tind, nzind));\n",
    "println(\"mse: \", norm(y-l0pen)^2/p,\" fdr: \", 1 - tp/length(nzind),\" power : \", tp/length(tind))"
   ]
  },
  {
   "cell_type": "code",
   "execution_count": null,
   "metadata": {},
   "outputs": [],
   "source": [
    "srand(1);\n",
    "y = 3 * col + rand(length(col));\n",
    "bgsm = zeros(length(y),20);\n",
    "for i = 1:20\n",
    "    res1      = BGSM_effective_resistance(y,D,R, v0 = 1e-3 * 1.3^(i-1), verbose = false);\n",
    "    mss1      = model_selection(res1);\n",
    "    bgsm[:,i] = mss1[:beta]\n",
    "    println(\"score: \", mss1[:score],\" and # of comp: \",length(mss1[:c]))\n",
    "end"
   ]
  },
  {
   "cell_type": "code",
   "execution_count": null,
   "metadata": {},
   "outputs": [],
   "source": [
    "score: 11980.558854908842 and # of comp: 62\n",
    "score: 11915.588746247817 and # of comp: 45\n",
    "score: 11888.356506533179 and # of comp: 33\n",
    "score: 11838.749165800391 and # of comp: 18\n",
    "score: 11806.990479485921 and # of comp: 9\n",
    "score: 11796.69490559552 and # of comp: 6\n",
    "score: 11790.47036154062 and # of comp: 5\n",
    "score: 11790.47036154062 and # of comp: 5\n",
    "score: 11790.47036154062 and # of comp: 5\n",
    "score: 11790.47036154062 and # of comp: 5\n",
    "score: 11790.47036154062 and # of comp: 5\n",
    "score: 11790.47036154062 and # of comp: 5\n",
    "score: 11790.47036154062 and # of comp: 5\n",
    "score: 11784.682700652913 and # of comp: 4\n",
    "score: 11801.269870464053 and # of comp: 8\n",
    "score: 11801.269870464053 and # of comp: 8\n",
    "score: 11808.65111532856 and # of comp: 10\n",
    "score: 11825.834698375442 and # of comp: 15\n",
    "score: 11833.362919618381 and # of comp: 17\n",
    "score: 11835.95579271776 and # of comp: 19"
   ]
  },
  {
   "cell_type": "code",
   "execution_count": 20,
   "metadata": {},
   "outputs": [
    {
     "name": "stdout",
     "output_type": "stream",
     "text": [
      "score: 23027.898359978382 and # of comp: 4\n",
      "mse: 0.0854350377336627 fdr: 0.006172839506172867 power : 0.989247311827957\n"
     ]
    }
   ],
   "source": [
    "srand(1);\n",
    "y         = 3 * col +  rand(length(col));\n",
    "res1      = BGSM_effective_resistance(y,D,R, v0 = 1e-2 * 1.3^(13-1), b = size(D,1), verbose = false);\n",
    "mss1      = model_selection(res1);\n",
    "println(\"score: \", mss1[:score],\" and # of comp: \",length(mss1[:c]))\n",
    "nzind     = find(abs.(D * mss1[:beta]) .> 1e-8);\n",
    "tp        = length(findin(tind, nzind));\n",
    "println(\"mse: \", norm(y - mss1[:beta])^2/p,\" fdr: \", 1 - tp/length(nzind),\" power : \", tp/length(tind))"
   ]
  },
  {
   "cell_type": "code",
   "execution_count": 21,
   "metadata": {},
   "outputs": [
    {
     "name": "stdout",
     "output_type": "stream",
     "text": [
      "1\n",
      "2\n",
      "3\n",
      "4\n",
      "5\n",
      "mse: 0.08352323138298105 fdr: 0.0 power : 1.0\n"
     ]
    }
   ],
   "source": [
    "srand(1)\n",
    "y = 3 * col +  rand(length(col));\n",
    "B     = 5;\n",
    "err   = zeros(20, B);\n",
    "out_l0pen = 0;\n",
    "srand(1);\n",
    "for b = 1:B\n",
    "    println(b);\n",
    "    for i = 1:20\n",
    "        out_l0pen = GraphSegment.GraphSegment(y,edges, 1.5^(8-i), delta = 1, weights = R, verbose = false);\n",
    "        sigma     = 1;\n",
    "        alpha     = 0.2;\n",
    "        z         = alpha * sigma * randn(p);\n",
    "        y1        = y + z;\n",
    "        y2        = y - z/alpha^2;\n",
    "        mu1       = GraphSegment.GraphSegment(y1,edges, 1.5^(8-i), delta = 1, weights = R, verbose = false);\n",
    "        err[i,b]  = norm(y2 - mu1)^2/p;\n",
    "    end\n",
    "end\n",
    "l0pen = GraphSegment.GraphSegment(y,edges, 1.5^(8-findmin(sum(err,2))[2]), delta = 1, weights = R, verbose = false)\n",
    "nzind = find(abs.(D * l0pen) .> 1e-8);\n",
    "tp    = length(findin(tind, nzind));\n",
    "println(\"mse: \", norm(y-l0pen)^2/p,\" fdr: \", 1 - tp/length(nzind),\" power : \", tp/length(tind))"
   ]
  },
  {
   "cell_type": "code",
   "execution_count": null,
   "metadata": {},
   "outputs": [],
   "source": [
    "srand(1);\n",
    "y = 4 * col + rand(length(col));\n",
    "bgsm = zeros(length(y),20);\n",
    "for i = 1:20\n",
    "    res1      = BGSM_effective_resistance(y,D,R, v0 = 1e-3 * 1.3^(i-1), verbose = false);\n",
    "    mss1      = model_selection(res1);\n",
    "    bgsm[:,i] = mss1[:beta]\n",
    "    println(\"score: \", mss1[:score],\" and # of comp: \",length(mss1[:c]))\n",
    "end"
   ]
  },
  {
   "cell_type": "code",
   "execution_count": null,
   "metadata": {},
   "outputs": [],
   "source": [
    "score: 11861.347571671451 and # of comp: 25\n",
    "score: 11821.656670445736 and # of comp: 13\n",
    "score: 11796.69490562165 and # of comp: 6\n",
    "score: 11790.470361566908 and # of comp: 5\n",
    "score: 11790.470361566908 and # of comp: 5\n",
    "score: 11784.682700678086 and # of comp: 4\n",
    "score: 11784.682700678086 and # of comp: 4\n",
    "score: 11784.682700678086 and # of comp: 4\n",
    "score: 11790.470361566908 and # of comp: 5\n",
    "score: 11790.470361566908 and # of comp: 5\n",
    "score: 11790.470361566908 and # of comp: 5\n",
    "score: 11790.470361566908 and # of comp: 5\n",
    "score: 11790.470361566908 and # of comp: 5\n",
    "score: 11784.682700678086 and # of comp: 4\n",
    "score: 11795.168115065522 and # of comp: 6\n",
    "score: 11801.269881970078 and # of comp: 8\n",
    "score: 11812.000695589306 and # of comp: 11\n",
    "score: 11829.370834485193 and # of comp: 16\n",
    "score: 11836.95454120653 and # of comp: 18\n",
    "score: 11836.048632331234 and # of comp: 19"
   ]
  },
  {
   "cell_type": "code",
   "execution_count": 22,
   "metadata": {},
   "outputs": [
    {
     "name": "stdout",
     "output_type": "stream",
     "text": [
      "score: 23028.04807279172 and # of comp: 4\n",
      "mse: 0.0870609177212256 fdr: 0.006172839506172867 power : 0.989247311827957\n"
     ]
    }
   ],
   "source": [
    "srand(1);\n",
    "y         = 4 * col +  rand(length(col));\n",
    "res1      = BGSM_effective_resistance(y,D,R, v0 = 1e-2 * 1.3^(13-1), b = size(D,1), verbose = false);\n",
    "mss1      = model_selection(res1);\n",
    "println(\"score: \", mss1[:score],\" and # of comp: \",length(mss1[:c]))\n",
    "nzind     = find(abs.(D * mss1[:beta]) .> 1e-8);\n",
    "tp        = length(findin(tind, nzind));\n",
    "println(\"mse: \", norm(y - mss1[:beta])^2/p,\" fdr: \", 1 - tp/length(nzind),\" power : \", tp/length(tind))"
   ]
  },
  {
   "cell_type": "code",
   "execution_count": 23,
   "metadata": {},
   "outputs": [
    {
     "name": "stdout",
     "output_type": "stream",
     "text": [
      "1\n",
      "2\n",
      "3\n",
      "4\n",
      "5\n",
      "mse: 0.08352323138298105 fdr: 0.0 power : 1.0\n"
     ]
    }
   ],
   "source": [
    "srand(1)\n",
    "y = 4 * col +  rand(length(col));\n",
    "B     = 5;\n",
    "err   = zeros(20, B);\n",
    "out_l0pen = 0;\n",
    "srand(1);\n",
    "for b = 1:B\n",
    "    println(b);\n",
    "    for i = 1:20\n",
    "        out_l0pen = GraphSegment.GraphSegment(y,edges, 1.5^(8-i), delta = 1, weights = R, verbose = false);\n",
    "        sigma     = 1;\n",
    "        alpha     = 0.2;\n",
    "        z         = alpha * sigma * randn(p);\n",
    "        y1        = y + z;\n",
    "        y2        = y - z/alpha^2;\n",
    "        mu1       = GraphSegment.GraphSegment(y1,edges, 1.5^(8-i), delta = 1, weights = R, verbose = false);\n",
    "        err[i,b]  = norm(y2 - mu1)^2/p;\n",
    "    end\n",
    "end\n",
    "l0pen = GraphSegment.GraphSegment(y,edges, 1.5^(8-findmin(sum(err,2))[2]), delta = 1, weights = R, verbose = false)\n",
    "nzind = find(abs.(D * l0pen) .> 1e-8);\n",
    "tp    = length(findin(tind, nzind));\n",
    "println(\"mse: \", norm(y-l0pen)^2/p,\" fdr: \", 1 - tp/length(nzind),\" power : \", tp/length(tind))"
   ]
  },
  {
   "cell_type": "code",
   "execution_count": null,
   "metadata": {},
   "outputs": [],
   "source": [
    "srand(1);\n",
    "y = 5 * col + rand(length(col));\n",
    "bgsm = zeros(length(y),20);\n",
    "for i = 1:20\n",
    "    res1      = BGSM_effective_resistance(y,D,R, v0 = 1e-3 * 1.3^(i-1), verbose = false);\n",
    "    mss1      = model_selection(res1);\n",
    "    bgsm[:,i] = mss1[:beta]\n",
    "    println(\"score: \", mss1[:score],\" and # of comp: \",length(mss1[:c]))\n",
    "end"
   ]
  },
  {
   "cell_type": "code",
   "execution_count": 24,
   "metadata": {},
   "outputs": [
    {
     "name": "stdout",
     "output_type": "stream",
     "text": [
      "score: 23028.243306386972 and # of comp: 4\n",
      "mse: 0.08918133413050733 fdr: 0.006172839506172867 power : 0.989247311827957\n"
     ]
    }
   ],
   "source": [
    "srand(1);\n",
    "y         = 5 * col +  rand(length(col));\n",
    "res1      = BGSM_effective_resistance(y,D,R, v0 = 1e-2 * 1.3^(13-1), b = size(D,1), verbose = false);\n",
    "mss1      = model_selection(res1);\n",
    "println(\"score: \", mss1[:score],\" and # of comp: \",length(mss1[:c]))\n",
    "nzind     = find(abs.(D * mss1[:beta]) .> 1e-8);\n",
    "tp        = length(findin(tind, nzind));\n",
    "println(\"mse: \", norm(y - mss1[:beta])^2/p,\" fdr: \", 1 - tp/length(nzind),\" power : \", tp/length(tind))"
   ]
  },
  {
   "cell_type": "code",
   "execution_count": 25,
   "metadata": {},
   "outputs": [
    {
     "name": "stdout",
     "output_type": "stream",
     "text": [
      "1\n",
      "2\n",
      "3\n",
      "4\n",
      "5\n",
      "mse: 0.08352323138298105 fdr: 0.0 power : 1.0\n"
     ]
    }
   ],
   "source": [
    "srand(1)\n",
    "y = 5 * col +  rand(length(col));\n",
    "B     = 5;\n",
    "err   = zeros(20, B);\n",
    "out_l0pen = 0;\n",
    "srand(1);\n",
    "for b = 1:B\n",
    "    println(b);\n",
    "    for i = 1:20\n",
    "        out_l0pen = GraphSegment.GraphSegment(y,edges, 1.5^(8-i), delta = 1, weights = R, verbose = false);\n",
    "        sigma     = 1;\n",
    "        alpha     = 0.2;\n",
    "        z         = alpha * sigma * randn(p);\n",
    "        y1        = y + z;\n",
    "        y2        = y - z/alpha^2;\n",
    "        mu1       = GraphSegment.GraphSegment(y1,edges, 1.5^(8-i), delta = 1, weights = R, verbose = false);\n",
    "        err[i,b]  = norm(y2 - mu1)^2/p;\n",
    "    end\n",
    "end\n",
    "l0pen = GraphSegment.GraphSegment(y,edges, 1.5^(8-findmin(sum(err,2))[2]), delta = 1, weights = R, verbose = false)\n",
    "nzind = find(abs.(D * l0pen) .> 1e-8);\n",
    "tp    = length(findin(tind, nzind));\n",
    "println(\"mse: \", norm(y-l0pen)^2/p,\" fdr: \", 1 - tp/length(nzind),\" power : \", tp/length(tind))"
   ]
  },
  {
   "cell_type": "code",
   "execution_count": 19,
   "metadata": {},
   "outputs": [],
   "source": [
    "mse = zeros(5,3); fdr = zeros(5,3); power = zeros(5,3);"
   ]
  },
  {
   "cell_type": "code",
   "execution_count": 28,
   "metadata": {},
   "outputs": [
    {
     "data": {
      "text/plain": [
       "5×9 Array{Float64,2}:\n",
       " 0.213389   0.0  0.179139   0.0         …  0.123596   0.735791  0.0  0.479263\n",
       " 0.0843037  0.0  0.0853873  0.00617284     0.0234009  0.989247  0.0  0.961598\n",
       " 0.085435   0.0  0.0835232  0.00617284     0.0        0.989247  0.0  1.0     \n",
       " 0.0870609  0.0  0.0835232  0.00617284     0.0        0.989247  0.0  1.0     \n",
       " 0.0891813  0.0  0.0835232  0.00617284     0.0        0.989247  0.0  1.0     "
      ]
     },
     "execution_count": 28,
     "metadata": {},
     "output_type": "execute_result"
    }
   ],
   "source": [
    "[mse fdr power]"
   ]
  },
  {
   "cell_type": "code",
   "execution_count": 26,
   "metadata": {},
   "outputs": [],
   "source": [
    "mse[1,1] = 0.21338918972677118; fdr[1,1] = 0.0; power[1,1] = 0.7357910906298003;\n",
    "mse[2,1] = 0.08430369416781858; fdr[2,1] = 0.006172839506172867; power[2,1] = 0.989247311827957;\n",
    "mse[3,1] = 0.0854350377336627; fdr[3,1] = 0.006172839506172867; power[3,1] = 0.989247311827957;\n",
    "mse[4,1] = 0.0870609177212256; fdr[4,1] = 0.006172839506172867; power[4,1] = 0.989247311827957;\n",
    "mse[5,1] = 0.08918133413050733; fdr[5,1] = 0.006172839506172867; power[5,1] = 0.989247311827957;"
   ]
  },
  {
   "cell_type": "code",
   "execution_count": 27,
   "metadata": {},
   "outputs": [],
   "source": [
    "mse[1,3] = 0.17913921989894008; fdr[1,3] = 0.1235955056179775; power[1,3] = 0.4792626728110599;\n",
    "mse[2,3] = 0.08538727086248098; fdr[2,3] = 0.023400936037441533; power[2,3] = 0.9615975422427036;\n",
    "mse[3,3] = 0.08352323138298105; power[3,3] = 1.0;\n",
    "mse[4,3] = 0.08352323138298105; power[4,3] = 1.0\n",
    "mse[5,3] = 0.08352323138298105; power[5,3] = 1.0;"
   ]
  },
  {
   "cell_type": "code",
   "execution_count": 32,
   "metadata": {},
   "outputs": [
    {
     "data": {
      "text/plain": [
       "4039×88234 Array{Float64,2}:\n",
       "  0.00289791    0.000300549   0.00301747   …  -0.000129717   0.000422164\n",
       " -0.0644612     0.000233963  -0.000476691     -0.000129717   0.000422164\n",
       "  0.00283132   -0.127743      0.00293125      -0.000129717   0.000422164\n",
       " -0.000596254   0.000214327  -0.064376        -0.000129717   0.000422164\n",
       "  0.00265509    0.00029471    0.00275823      -0.000129717   0.000422164\n",
       " -0.0013572     0.000236377  -0.000485253  …  -0.000129717   0.000422164\n",
       "  0.00288156   -0.00181777    0.0029969       -0.000129717   0.000422164\n",
       " -0.000565754   0.000214127  -0.000762637     -0.000129717   0.000422164\n",
       "  0.00280505   -0.00021418    0.00289508      -0.000129717   0.000422164\n",
       " -0.00100621    0.000211917  -0.00310716      -0.000129717   0.000422164\n",
       " -0.000569644   0.000216368  -0.00176909   …  -0.000129717   0.000422164\n",
       "  0.00289791    0.000300549   0.00301747      -0.000129717   0.000422164\n",
       "  0.00289791    0.000300549   0.00301747      -0.000129717   0.000422164\n",
       "  ⋮                                        ⋱                            \n",
       "  4.79695e-5    0.000244129   6.68648e-5       0.16251      -0.0287713  \n",
       "  4.79695e-5    0.000244129   6.68648e-5       0.0111408    -0.0264296  \n",
       "  4.79695e-5    0.000244129   6.68648e-5       0.00860243   -0.0279965  \n",
       "  4.79695e-5    0.000244129   6.68648e-5   …   0.00309734   -0.0307496  \n",
       "  4.79695e-5    0.000244129   6.68648e-5       0.00842113    0.0611334  \n",
       "  4.79695e-5    0.000244129   6.68648e-5       0.0855563    -0.0283839  \n",
       "  4.79695e-5    0.000244129   6.68648e-5       0.00538945   -0.0299457  \n",
       "  4.79695e-5    0.000244129   6.68648e-5       0.00323975   -0.029208   \n",
       "  4.79695e-5    0.000244129   6.68648e-5   …   0.00860243   -0.0279965  \n",
       "  4.79695e-5    0.000244129   6.68648e-5       0.00797192   -0.0282695  \n",
       "  4.79695e-5    0.000244129   6.68648e-5       0.00530201   -0.0319654  \n",
       "  4.79695e-5    0.000244129   6.68648e-5      -0.0951139    -0.132306   "
      ]
     },
     "execution_count": 32,
     "metadata": {},
     "output_type": "execute_result"
    }
   ],
   "source": [
    "X = pinv(full(D)); R\"library(glmnet);\"; @rput X;"
   ]
  },
  {
   "cell_type": "code",
   "execution_count": 35,
   "metadata": {},
   "outputs": [
    {
     "name": "stdout",
     "output_type": "stream",
     "text": [
      "mse: 6.984472083790452 fdr: -35.166666666666664 power : 1.0\n",
      "mse: 22.71608527725031 fdr: -39.6875 power : 1.0\n",
      "mse: 47.479199695903745 fdr: -39.6875 power : 1.0\n",
      "mse: 81.40120542125827 fdr: -42.4 power : 1.0\n",
      "mse: 124.33981248739053 fdr: -39.6875 power : 1.0\n"
     ]
    }
   ],
   "source": [
    "y = 1 * col +  rand(length(col));\n",
    "@rput y; \n",
    "R\"y = y - mean(y);\n",
    "res1 = cv.glmnet(X, y, family='gaussian', standardize = FALSE);\";\n",
    "R\"genl = coef(res1)[-1];\"; @rget genl;\n",
    "nzind = find(abs.(genl) .> 1e-8);\n",
    "println(\"mse: \", norm(y-X * genl)^2/p,\" fdr: \", 1 - tp/length(nzind),\" power : \", tp/length(tind))\n",
    "y = 2 * col +  rand(length(col));\n",
    "@rput y; \n",
    "R\"y = y - mean(y);\n",
    "res2 = cv.glmnet(X, y, family='gaussian', standardize = FALSE);\";\n",
    "R\"genl = coef(res2)[-1];\"; @rget genl;\n",
    "nzind = find(abs.(genl) .> 1e-8);\n",
    "println(\"mse: \", norm(y-X * genl)^2/p,\" fdr: \", 1 - tp/length(nzind),\" power : \", tp/length(tind))\n",
    "y = 3 * col +  rand(length(col));\n",
    "@rput y; \n",
    "R\"y = y - mean(y);\n",
    "res3 = cv.glmnet(X, y, family='gaussian', standardize = FALSE);\";\n",
    "R\"genl = coef(res3)[-1];\"; @rget genl;\n",
    "nzind = find(abs.(genl) .> 1e-8);\n",
    "println(\"mse: \", norm(y-X * genl)^2/p,\" fdr: \", 1 - tp/length(nzind),\" power : \", tp/length(tind))\n",
    "y = 4 * col +  rand(length(col));\n",
    "@rput y; \n",
    "R\"y = y - mean(y);\n",
    "res4 = cv.glmnet(X, y, family='gaussian', standardize = FALSE);\";\n",
    "R\"genl = coef(res4)[-1];\"; @rget genl;\n",
    "nzind = find(abs.(genl) .> 1e-8);\n",
    "println(\"mse: \", norm(y-X * genl)^2/p,\" fdr: \", 1 - tp/length(nzind),\" power : \", tp/length(tind))\n",
    "y = 5 * col +  rand(length(col));\n",
    "@rput y; \n",
    "R\"y = y - mean(y);\n",
    "res5 = cv.glmnet(X, y, family='gaussian', standardize = FALSE);\";\n",
    "R\"genl = coef(res5)[-1];\"; @rget genl;\n",
    "nzind = find(abs.(genl) .> 1e-8);\n",
    "println(\"mse: \", norm(y-X * genl)^2/p,\" fdr: \", 1 - tp/length(nzind),\" power : \", tp/length(tind))"
   ]
  },
  {
   "cell_type": "code",
   "execution_count": 39,
   "metadata": {},
   "outputs": [],
   "source": [
    "nzind = find(abs.(genl) .> 1e-8);"
   ]
  },
  {
   "cell_type": "code",
   "execution_count": null,
   "metadata": {},
   "outputs": [],
   "source": [
    "y = 1 * col +  rand(length(col));\n",
    "R\"genl = coef(res1)[-1];\"; @rget genl;\n",
    "nzind = find(abs.(D * X * genl) .> 1e-8);\n",
    "tp    = length(findin(tind, nzind));\n",
    "println(\"mse: \", norm(y- mean(y) - X * genl)^2/p,\" fdr: \", 1 - tp/length(nzind),\" power : \", tp/length(tind))\n",
    "y = 2 * col +  rand(length(col));\n",
    "R\"genl = coef(res2)[-1];\"; @rget genl;\n",
    "nzind = find(abs.(D * X * genl) .> 1e-8);\n",
    "tp    = length(findin(tind, nzind));\n",
    "println(\"mse: \", norm(y- mean(y) - X * genl)^2/p,\" fdr: \", 1 - tp/length(nzind),\" power : \", tp/length(tind))\n",
    "y = 3 * col +  rand(length(col));\n",
    "R\"genl = coef(res3)[-1];\"; @rget genl;\n",
    "nzind = find(abs.(D * X * genl) .> 1e-8);\n",
    "tp    = length(findin(tind, nzind));\n",
    "println(\"mse: \", norm(y- mean(y) - X * genl)^2/p,\" fdr: \", 1 - tp/length(nzind),\" power : \", tp/length(tind))\n",
    "y = 4 * col +  rand(length(col));\n",
    "R\"genl = coef(res4)[-1];\"; @rget genl;\n",
    "nzind = find(abs.(D * X * genl) .> 1e-8);\n",
    "tp    = length(findin(tind, nzind));\n",
    "println(\"mse: \", norm(y- mean(y) - X * genl)^2/p,\" fdr: \", 1 - tp/length(nzind),\" power : \", tp/length(tind))\n",
    "y = 5 * col +  rand(length(col));\n",
    "R\"genl = coef(res5)[-1];\"; @rget genl;\n",
    "nzind = find(abs.(D * X * genl) .> 1e-8);\n",
    "tp    = length(findin(tind, nzind));\n",
    "println(\"mse: \", norm(y- mean(y) - X * genl)^2/p,\" fdr: \", 1 - tp/length(nzind),\" power : \", tp/length(tind))"
   ]
  },
  {
   "cell_type": "code",
   "execution_count": 52,
   "metadata": {},
   "outputs": [],
   "source": [
    "df = DataFrame(mse = mse[:], fdr = fdr[:], power = power[:],\n",
    "                signal = [1:5;1:5;1:5], method = repeat([\"BGSM\",\"Genlasso\",\"L0pen\"], inner = 5))\n",
    "CSV.write(\"result/facebook1.txt\", df, delim = ',');"
   ]
  },
  {
   "cell_type": "code",
   "execution_count": 57,
   "metadata": {},
   "outputs": [
    {
     "data": {
      "text/plain": [
       "(1758, 778, 750, 753)"
      ]
     },
     "execution_count": 57,
     "metadata": {},
     "output_type": "execute_result"
    }
   ],
   "source": [
    "sum(col .== 1), sum(col .== 2), sum(col .== 3), sum(col .== 4), "
   ]
  }
 ],
 "metadata": {
  "kernelspec": {
   "display_name": "Julia 0.6.2",
   "language": "julia",
   "name": "julia-0.6"
  },
  "language_info": {
   "file_extension": ".jl",
   "mimetype": "application/julia",
   "name": "julia",
   "version": "0.6.2"
  }
 },
 "nbformat": 4,
 "nbformat_minor": 2
}

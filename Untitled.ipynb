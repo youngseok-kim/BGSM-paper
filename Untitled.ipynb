{
 "cells": [
  {
   "cell_type": "code",
   "execution_count": null,
   "metadata": {},
   "outputs": [],
   "source": [
    "# a function for BSGM_cartesian (Section 5.2.)\n",
    "\n",
    "# y       : a matrix of data\n",
    "# init    : initialization of y\n",
    "\n",
    "function BSGM_cartesian(    y, D1, D2;\n",
    "                            init = y,\n",
    "                            v0 = 1e-1, v1 = 1e4,\n",
    "                            nu1, nu2,\n",
    "                            X1 = zeros(0,0), X2 = zeros(0,0),\n",
    "                            w1 = zeros(0), w2 = zeros(0),\n",
    "                            eta1, eta2,\n",
    "                            convtol = 1e-10, orthotol = 1e-10,  \n",
    "                            iter = 1000)\n",
    "                            \n",
    "    \n",
    "    # initialize\n",
    "    n1,n2 = size(Y);\n",
    "    theta = copy(init);\n",
    "    q1 = randn(n1,k1);\n",
    "    q2 = randn(k2,n2);\n",
    "    \n",
    "    # loop start\n",
    "    for i = 1:iter\n",
    "        Theta, Mu1, Q1 = update(Y,Theta,Mu1,sigma,v0);\n",
    "        Theta, Mu2, Q2 = update(Y',Theta',Mu2',sigma,v0, transposed = true);\n",
    "    end\n",
    "    \n",
    "    # get a final estimate\n",
    "    A = (Q2'*Diagonal(1./sum(Q2,2)[:]) * Q2);\n",
    "    B = (Q1*Diagonal(1./sum(Q1,1)[:]) * Q1')\n",
    "    g1 = Graph(A .> 1e-3)\n",
    "    g2 = Graph(B .> 1e-3)\n",
    "    c1 = connected_components(g1);\n",
    "    c2 = connected_components(g2);\n",
    "    ind = c2[1];\n",
    "    for i = 2:length(c2)\n",
    "        ind = [ind;c2[i]];\n",
    "    end\n",
    "    Final = (B * Theta)[ind,:];\n",
    "    \n",
    "    return Final, ind, A, B, Theta\n",
    "end"
   ]
  }
 ],
 "metadata": {
  "kernelspec": {
   "display_name": "Julia 0.6.2",
   "language": "julia",
   "name": "julia-0.6"
  },
  "language_info": {
   "file_extension": ".jl",
   "mimetype": "application/julia",
   "name": "julia",
   "version": "0.6.2"
  }
 },
 "nbformat": 4,
 "nbformat_minor": 2
}

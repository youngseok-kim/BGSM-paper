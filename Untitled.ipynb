{
 "cells": [
  {
   "cell_type": "code",
   "execution_count": 6,
   "metadata": {},
   "outputs": [
    {
     "data": {
      "text/plain": [
       "30×20 Array{Float64,2}:\n",
       " 10.2973    9.83486   8.52938  …   5.51658     4.75942     5.00125  \n",
       " 10.3824    7.88463   9.46479      4.42039     4.0023      3.61004  \n",
       "  9.40237   9.93323   9.03646      5.57293     4.63774     4.51782  \n",
       "  9.98955  11.2225    8.61489      3.7591      5.99931     5.384    \n",
       "  9.16097  10.5677   10.1343       5.15665     3.71426     5.31266  \n",
       " 10.3111   10.7635    9.38388  …   3.65782     3.08747     4.66143  \n",
       " 12.2951   10.3786    8.28001      5.23826     5.82516     5.17825  \n",
       "  7.73291   9.3544   10.3208       4.50343     4.86381     5.00754  \n",
       " 10.53      9.33535   8.55263      6.19352     6.79925     4.96778  \n",
       " 10.4314    8.19697   9.50773      5.30023     3.89562     5.03704  \n",
       " -4.41629  -6.28905  -5.41309  …   0.409127    0.108481   -1.52508  \n",
       " -4.03673  -5.33527  -3.99807     -0.88967     0.847916   -1.44089  \n",
       " -4.54121  -4.92953  -3.82532     -0.326052    0.594971   -0.0878906\n",
       "  ⋮                            ⋱                                    \n",
       " -4.87923  -5.85006  -2.84057     -0.85543    -0.391958    0.176698 \n",
       " -5.75763  -3.87059  -5.90948      1.0301     -1.28893    -1.01986  \n",
       " -6.72976  -6.34853  -3.85218  …   1.67595    -0.0811132   0.830544 \n",
       " -4.20405  -3.75971  -5.50507     -0.152156   -0.666265   -1.42603  \n",
       " -4.32994  -5.05565  -5.26707      0.26666    -0.630815   -1.06243  \n",
       " -4.44915  -4.24061  -3.50092     -0.668618    0.645479   -0.180593 \n",
       " -5.06337  -5.03027  -4.2027      -0.36883     1.13581    -0.779212 \n",
       " -3.66306  -5.36108  -5.17164  …  -0.301392    0.837996    0.20108  \n",
       " -5.07315  -7.0073   -5.46908      0.0667779  -0.0799246  -0.396073 \n",
       " -5.74546  -5.56886  -4.78238     -0.508801   -0.580084    1.11138  \n",
       " -6.22006  -6.14963  -4.64085     -0.352346   -0.43877    -0.268714 \n",
       " -5.05318  -3.11938  -4.67998      0.288688   -0.504286    2.28583  "
      ]
     },
     "execution_count": 6,
     "metadata": {},
     "output_type": "execute_result"
    }
   ],
   "source": [
    "using PyPlot, LightGraphs\n",
    "srand(1)\n",
    "t = [ones(10,10) * 10 ones(10,10) * 5; -ones(20,10) * 5 zeros(20,10)];\n",
    "y = t + randn(30,20)"
   ]
  },
  {
   "cell_type": "code",
   "execution_count": null,
   "metadata": {},
   "outputs": [],
   "source": [
    "# a function for BSGM_cartesian (Section 5.2.)\n",
    "\n",
    "# y       : a matrix of data\n",
    "# init    : initialization of y\n",
    "\n",
    "function BSGM_cartesian(    y, D1, D2;\n",
    "                            init = y,\n",
    "                            v0 = 1e-1, v1 = 1e4,\n",
    "                            nu1, nu2,\n",
    "                            X1 = zeros(0,0), X2 = zeros(0,0),\n",
    "                            w1 = zeros(0), w2 = zeros(0),\n",
    "                            eta1, eta2,\n",
    "                            convtol = 1e-10, orthotol = 1e-10,  \n",
    "                            iter = 1000)\n",
    "                            \n",
    "    \n",
    "    # get size\n",
    "    n1,n2 = size(y); n = n1 * n2;\n",
    "    m1,p1 = size(D1); m2,p2 = size(D2);\n",
    "    \n",
    "    # initialize\n",
    "    theta = copy(init);\n",
    "    delta1 = zeros(m1); delta2 = zeros(m2);\n",
    "    q1 = zeros(m1); q2 = zeros(m2);\n",
    "    eta1 = 1/2; eta2 = 1/2;\n",
    "    sigmasq1 = 1; sigmasq2 = 1;\n",
    "    \n",
    "    # loop start\n",
    "    for i = 1:iter\n",
    "        \n",
    "        # E-step: update g1\n",
    "        delta1 = sum((D1 * theta).^2,2)/n1;\n",
    "        q1 = 1./( 1 + (1-eta1)/eta1 * sqrt(v0/v1) * exp.(delta1.^2/2 * (1/v0 - 1/v1)/sigmasq1));\n",
    "        \n",
    "        # E-step: update g2\n",
    "        delta1 = sum((D2 * theta').^2,2)/n1;\n",
    "        q2 = 1./( 1 + (1-eta2)/eta2 * sqrt(v0/v1) * exp.(delta2.^2/2 * (1/v0 - 1/v1)/sigmasq2));\n",
    "        \n",
    "        # M-step: update theta\n",
    "        L1 = (speye(n) - q1 * R)/v0;\n",
    "        L2 = \n",
    "        theta = (speye(n) + (speye(n) - Q * R)/v0)\\Y;\n",
    "end"
   ]
  },
  {
   "cell_type": "code",
   "execution_count": 145,
   "metadata": {},
   "outputs": [
    {
     "data": {
      "text/plain": [
       "BSGM_cartesian_clust (generic function with 1 method)"
      ]
     },
     "execution_count": 145,
     "metadata": {},
     "output_type": "execute_result"
    }
   ],
   "source": [
    "# a function for BSGM_cartesian (Section 5.2.)\n",
    "\n",
    "# y       : a matrix of data\n",
    "# init    : initialization of y\n",
    "\n",
    "function BSGM_cartesian_clust(  y;\n",
    "                                init = y,\n",
    "                                v0 = 1e-1,\n",
    "                                convtol = 1e-10,  \n",
    "                                iter = 10)\n",
    "                            \n",
    "    \n",
    "    # get size\n",
    "    n1,n2 = size(y); n = n1 * n2;\n",
    "    \n",
    "    \n",
    "    # initialize\n",
    "    theta = copy(y);\n",
    "    mu1 = copy(y); mu2 = copy(y);\n",
    "    q1 = zeros(n1,n1); q2 = zeros(n2,n2);\n",
    "    sigmasq1 = 1; sigmasq2 = 1;\n",
    "    \n",
    "    # loop start\n",
    "    for i = 1:iter\n",
    "        \n",
    "        # save previous iteration\n",
    "        q1_old = copy(q1);\n",
    "        q2_old = copy(q2);\n",
    "        \n",
    "        # E-step: update g1\n",
    "        d1 = reshape(sum((repmat(theta,n1,1) - kron(mu1,ones(n1))).^2,2),n1,n1);\n",
    "        q1 = exp.(-d1/(2*n2*v0)); q1 = q1 ./ sum(q1,2);\n",
    "        \n",
    "        # E-step: update g2\n",
    "        d2 = reshape(sum((repmat(theta',n2,1) - kron(mu2',ones(n2))).^2,2),n2,n2)';\n",
    "        q2 = exp.(-d2/(2*n1*v0)); q2 = q2 ./ sum(q2,2);\n",
    "        \n",
    "        # M-step: update theta\n",
    "        L1 = (speye(n1) - (q1 ./ sum(q1,1)) * q1')/v0;\n",
    "        L2 = (speye(n2) - (q2 ./ sum(q2,1)) * q2')/v0;\n",
    "        L = kron(L2, speye(n1)) + kron(speye(n2),L1);\n",
    "        theta = reshape((speye(n) + L)\\y[:], n1,n2);\n",
    "        \n",
    "        if norm(q1 - q1_old) + norm(q2 - q2_old) < convtol\n",
    "            break;\n",
    "        end\n",
    "    end\n",
    "    \n",
    "    return theta\n",
    "end"
   ]
  },
  {
   "cell_type": "code",
   "execution_count": 50,
   "metadata": {},
   "outputs": [
    {
     "name": "stdout",
     "output_type": "stream",
     "text": [
      "2.0000001837028147\n",
      "0.17004419306691393\n",
      "0.5003900679173375\n",
      "0.8884479117067327\n",
      "1.21980494178203\n",
      "1.6394966118431034\n",
      "0.7589692573259911\n",
      "0.20417818495716455\n",
      "0.012578419386038639\n",
      "0.00047791631889598524\n",
      "1.7585069674720856e-5\n",
      "6.445950359991946e-7\n",
      "2.3569712379075037e-8\n",
      "8"
     ]
    },
    {
     "data": {
      "image/png": "[encoded data removed]",
      "text/plain": [
       "PyPlot.Figure(PyObject <Figure size 640x480 with 1 Axes>)"
      ]
     },
     "metadata": {},
     "output_type": "display_data"
    },
    {
     "name": "stdout",
     "output_type": "stream",
     "text": [
      ".604311926122744e-10\n",
      "3.138339433844139e-11\n"
     ]
    },
    {
     "data": {
      "text/plain": [
       "PyObject <matplotlib.collections.QuadMesh object at 0x10f7e7390>"
      ]
     },
     "execution_count": 50,
     "metadata": {},
     "output_type": "execute_result"
    }
   ],
   "source": [
    "pcolormesh(BSGM_cartesian_clust(y, v0 = 1e-1, iter = 100), cmap = \"PuBu\")"
   ]
  },
  {
   "cell_type": "code",
   "execution_count": null,
   "metadata": {},
   "outputs": [],
   "source": [
    "# a function for BSGM_cartesian (Section 5.2.)\n",
    "\n",
    "# y       : a matrix of data\n",
    "# init    : initialization of y\n",
    "\n",
    "function BSGM_kronecker_clust(  y;\n",
    "                                init = y,\n",
    "                                v0 = 1e-1,\n",
    "                                convtol = 1e-10,  \n",
    "                                iter = 10)\n",
    "                            \n",
    "    \n",
    "    # get size\n",
    "    n1,n2 = size(y); n = n1 * n2;\n",
    "    g1 = CompleteBipartiteGraph(n1,n2);\n",
    "    g2 = CompleteBipartiteGraph(n2,n1);\n",
    "    p1 = length(edges(g1)); p2 = length(edges(g2));\n",
    "    D1 = -incidence_matrix(g1, oriented = true)';\n",
    "    D2 = -incidence_matrix(g2, oriented = true)';\n",
    "    D12 = kron(D2,D1); D21 = -kron(D2,D1);\n",
    "    D12[D12 .< 0] = 0;\n",
    "    D21[D21 .< 0] = 0;\n",
    "    D = sparse([D12;D21]);\n",
    "    for i = 1:size(D,1)\n",
    "        ind = find(D[i,:] .> 0);\n",
    "        D[i,ind[2]] = -1;\n",
    "    end\n",
    "    \n",
    "    \n",
    "    # initialize\n",
    "    theta = copy(y);\n",
    "    mu1 = copy(y); mu2 = copy(y);\n",
    "    q1 = zeros(n1,n1); q2 = zeros(n2,n2);\n",
    "    sigmasq1 = 1; sigmasq2 = 1;\n",
    "    \n",
    "    # loop start\n",
    "    for i = 1:iter\n",
    "        \n",
    "        # save previous iteration\n",
    "        q1_old = copy(q1);\n",
    "        q2_old = copy(q2);\n",
    "        \n",
    "        # E-step: update g1\n",
    "        d1 = reshape(sum((repmat(theta,n1,1) - kron(mu1,ones(n1))).^2,2),n1,n1);\n",
    "        q1 = exp.(-d1/(2*n2*v0)); q1 = q1 ./ sum(q1,2);\n",
    "        \n",
    "        # E-step: update g2\n",
    "        d2 = reshape(sum((repmat(theta',n2,1) - kron(mu2',ones(n2))).^2,2),n2,n2)';\n",
    "        q2 = exp.(-d2/(2*n1*v0)); q2 = q2 ./ sum(q2,2);\n",
    "        \n",
    "        # M-step: update theta\n",
    "        L1 = (speye(n1) - (q1 ./ sum(q1,1)) * q1')/v0;\n",
    "        L2 = (speye(n2) - (q2 ./ sum(q2,1)) * q2')/v0;\n",
    "        L = kron(L2, speye(n1)) + kron(speye(n2),L1);\n",
    "        theta = reshape((speye(n) + L)\\y[:], n1,n2);\n",
    "        \n",
    "        println(norm(q1 - q1_old) + norm(q2 - q2_old))\n",
    "        \n",
    "        if norm(q1 - q1_old) + norm(q2 - q2_old) < convtol\n",
    "            break;\n",
    "        end\n",
    "    end\n",
    "    \n",
    "    return theta\n",
    "end"
   ]
  },
  {
   "cell_type": "code",
   "execution_count": 167,
   "metadata": {},
   "outputs": [],
   "source": [
    "    # get size\n",
    "    n1,n2 = size(y); n = n1 * n2;\n",
    "    g1 = CompleteBipartiteGraph(n1,3);\n",
    "    g2 = CompleteBipartiteGraph(n2,3);\n",
    "    p1 = length(edges(g1)); p2 = length(edges(g2));\n",
    "    D1 = -incidence_matrix(g1, oriented = true)';\n",
    "    D2 = -incidence_matrix(g2, oriented = true)';\n",
    "    D12 = kron(D2,D1); D21 = -kron(D2,D1);\n",
    "    D12[D12 .< 0] = 0;\n",
    "    D21[D21 .< 0] = 0;\n",
    "    D = sparse([D12;D21]);\n",
    "    for i = 1:size(D,1)\n",
    "        ind = find(D[i,:] .> 0);\n",
    "        D[i,ind[2]] = -1;\n",
    "    end"
   ]
  },
  {
   "cell_type": "code",
   "execution_count": 172,
   "metadata": {},
   "outputs": [
    {
     "data": {
      "text/plain": [
       "759"
      ]
     },
     "execution_count": 172,
     "metadata": {},
     "output_type": "execute_result"
    }
   ],
   "source": [
    "(n1+3) * (n2 + 3)"
   ]
  },
  {
   "cell_type": "code",
   "execution_count": 166,
   "metadata": {},
   "outputs": [
    {
     "data": {
      "text/plain": [
       "600-element Array{Float64,1}:\n",
       " 10.2973  \n",
       " 10.3824  \n",
       "  9.40237 \n",
       "  9.98955 \n",
       "  9.16097 \n",
       " 10.3111  \n",
       " 12.2951  \n",
       "  7.73291 \n",
       " 10.53    \n",
       " 10.4314  \n",
       " -4.41629 \n",
       " -4.03673 \n",
       " -4.54121 \n",
       "  ⋮       \n",
       "  0.176698\n",
       " -1.01986 \n",
       "  0.830544\n",
       " -1.42603 \n",
       " -1.06243 \n",
       " -0.180593\n",
       " -0.779212\n",
       "  0.20108 \n",
       " -0.396073\n",
       "  1.11138 \n",
       " -0.268714\n",
       "  2.28583 "
      ]
     },
     "execution_count": 166,
     "metadata": {},
     "output_type": "execute_result"
    }
   ],
   "source": [
    "y[:]"
   ]
  },
  {
   "cell_type": "code",
   "execution_count": 165,
   "metadata": {},
   "outputs": [
    {
     "data": {
      "text/plain": [
       "759-element SparseVector{Int64,Int64} with 4 stored entries:\n",
       "  [1  ]  =  1\n",
       "  [32 ]  =  0\n",
       "  [661]  =  0\n",
       "  [692]  =  -1"
      ]
     },
     "execution_count": 165,
     "metadata": {},
     "output_type": "execute_result"
    }
   ],
   "source": [
    "D[2,:]"
   ]
  },
  {
   "cell_type": "code",
   "execution_count": 148,
   "metadata": {},
   "outputs": [],
   "source": [
    "g1 = CompleteBipartiteGraph(n1,n2);\n",
    "g2 = CompleteBipartiteGraph(n2,n1);"
   ]
  },
  {
   "cell_type": "code",
   "execution_count": 158,
   "metadata": {},
   "outputs": [],
   "source": [
    "n1, n2 = size(y);\n",
    "g1 = Graph(ones(n1,n1) - eye(n1));\n",
    "g2 = Graph(ones(n2,n2) - eye(n2));\n",
    "p1 = length(edges(g1)); p2 = length(edges(g2));\n",
    "D1 = -incidence_matrix(g1, oriented = true)';\n",
    "D2 = -incidence_matrix(g2, oriented = true)';\n",
    "D12 = kron(D2,D1); D21 = -kron(D2,D1);\n",
    "D12[D12 .< 0] = 0;\n",
    "D21[D21 .< 0] = 0;\n",
    "D = sparse([D12;D21]);\n",
    "for i = 1:size(D,1)\n",
    "    ind = find(D[i,:] .> 0);\n",
    "    D[i,ind[2]] = -1;\n",
    "end"
   ]
  },
  {
   "cell_type": "code",
   "execution_count": 159,
   "metadata": {},
   "outputs": [
    {
     "data": {
      "text/plain": [
       "600-element SparseVector{Int64,Int64} with 4 stored entries:\n",
       "  [1  ]  =  1\n",
       "  [2  ]  =  0\n",
       "  [31 ]  =  0\n",
       "  [32 ]  =  -1"
      ]
     },
     "execution_count": 159,
     "metadata": {},
     "output_type": "execute_result"
    }
   ],
   "source": [
    "D[1,:]"
   ]
  },
  {
   "cell_type": "code",
   "execution_count": 83,
   "metadata": {},
   "outputs": [
    {
     "data": {
      "text/plain": [
       "435×190 Array{Float64,2}:\n",
       "   6.12071     4.12674     0.0415496  …   2.40798     3.97228     2.31897  \n",
       "   0.319591    2.35181     0.741815       1.43416     1.32433     0.190513 \n",
       "   0.879876    4.96258     1.57552        1.23368     1.56052     1.38621  \n",
       "   0.527249    0.425481    2.13256        3.40615     0.0657341   1.96241  \n",
       "   0.444165    4.00889     0.216665       7.11409     2.53609     3.67214  \n",
       "   6.05931    18.25        4.16468    …   0.324506    0.170645    0.854234 \n",
       "   5.30723     0.634903    7.61787        0.491644    0.506946    0.0804526\n",
       "   1.40848     7.0462      4.10198        3.7019      1.7227      3.27623  \n",
       "   4.7672      4.24118     1.47602        2.91999     0.319344    1.2995   \n",
       " 478.202     414.406     453.338         48.1726     70.6726     63.4342   \n",
       " 436.798     362.264     452.357      …  53.7087     83.1093     55.694    \n",
       " 438.528     370.288     502.774         50.0843     59.7902     42.9117   \n",
       " 459.51      473.817     547.104         68.1848     78.6221     45.9009   \n",
       "   ⋮                                  ⋱                                    \n",
       "   2.59554     4.24826     5.37802        2.2195      0.192238    2.08859  \n",
       "   3.77965     0.870314    0.796714       0.735962    8.18763     1.39813  \n",
       "  11.2669      3.27142     6.16728    …   0.643826    0.0270015   1.60189  \n",
       "   3.77983     1.58215     1.40194        1.89153     2.49986     0.684956 \n",
       "   6.92087     2.05526     7.82302        1.43579     0.307348    1.63422  \n",
       "   0.390393    1.04816     2.07831        0.342906    6.70139     2.59376  \n",
       "   1.83797     0.160937    0.122632       0.602366    1.1039      1.45307  \n",
       "   1.77857     0.750843    2.05399    …   0.329792    0.114467    0.0374646\n",
       "   7.63583     0.32756     0.988192       0.461989    5.39309     5.6085   \n",
       "   0.587404    3.28709     2.69598        0.0567692   2.20013     2.49992  \n",
       "   7.16226     1.2086      1.672          0.754786    8.48678    10.8238   \n",
       "  10.8164      2.54186     4.97058        0.552282    7.27067     7.47894  "
      ]
     },
     "execution_count": 83,
     "metadata": {},
     "output_type": "execute_result"
    }
   ],
   "source": [
    " t = y[:]; q1 = ones(p1)/2; q2 = ones(p2)/2; s2 = 1;\n",
    "s = sum(reshape((D*t).^2,p1*p2,2),2)[:]\n",
    "sqds = reshape(sum(reshape((D*t).^2,p1*p2,2),2)[:],p1,p2)"
   ]
  },
  {
   "cell_type": "code",
   "execution_count": 144,
   "metadata": {},
   "outputs": [
    {
     "data": {
      "text/plain": [
       "600-element SparseVector{Int64,Int64} with 4 stored entries:\n",
       "  [1  ]  =  1\n",
       "  [2  ]  =  0\n",
       "  [61 ]  =  0\n",
       "  [62 ]  =  -1"
      ]
     },
     "execution_count": 144,
     "metadata": {},
     "output_type": "execute_result"
    }
   ],
   "source": [
    "D[436,:]"
   ]
  },
  {
   "cell_type": "code",
   "execution_count": 143,
   "metadata": {},
   "outputs": [
    {
     "data": {
      "text/plain": [
       "600-element SparseVector{Int64,Int64} with 4 stored entries:\n",
       "  [1  ]  =  0\n",
       "  [2  ]  =  1\n",
       "  [61 ]  =  -1\n",
       "  [62 ]  =  0"
      ]
     },
     "execution_count": 143,
     "metadata": {},
     "output_type": "execute_result"
    }
   ],
   "source": [
    "D[436 + p1*p2,:]"
   ]
  },
  {
   "cell_type": "code",
   "execution_count": 92,
   "metadata": {},
   "outputs": [
    {
     "data": {
      "text/plain": [
       "2.318967810243437"
      ]
     },
     "execution_count": 92,
     "metadata": {},
     "output_type": "execute_result"
    }
   ],
   "source": [
    "(D[1 + (p2 - 1) * p1,:]' * t)^2 + (D[1 + (p2 + p2 - 1) * p1,:]' * t)^2"
   ]
  }
 ],
 "metadata": {
  "kernelspec": {
   "display_name": "Julia 0.6.2",
   "language": "julia",
   "name": "julia-0.6"
  },
  "language_info": {
   "file_extension": ".jl",
   "mimetype": "application/julia",
   "name": "julia",
   "version": "0.6.2"
  }
 },
 "nbformat": 4,
 "nbformat_minor": 2
}

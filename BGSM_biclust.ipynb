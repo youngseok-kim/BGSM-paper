{
 "cells": [
  {
   "cell_type": "code",
   "execution_count": null,
   "metadata": {},
   "outputs": [],
   "source": [
    "function BSGM_biclust(Y; init = Y, v0 = 1e-1, sigma = 1, seed = 1, iter = 100, k1 = 2, k2 = 2)\n",
    "    \n",
    "    function update(Y,Theta,Mu,sigma,v0; transposed = false)\n",
    "        n = size(Y,1); k = size(Mu,1);\n",
    "        diff_sq = reshape(sum((repeat(Theta,outer = [k,1]) - repeat(Mu,inner = [n,1])).^2,2),n,k);\n",
    "        Q = exp.(-diff_sq/(v0*sigma^2));\n",
    "        Q = Q./ sum(Q,2);\n",
    "        R = Diagonal(1./sum(Q,1)[:]) * Q';\n",
    "        Theta = (eye(n) + (eye(n) - Q * R)/v0)\\Y;\n",
    "        Mu = R * Theta;\n",
    "        if transposed == false return Theta, Mu, Q\n",
    "        else return Theta', Mu', Q'\n",
    "        end\n",
    "    end\n",
    "    \n",
    "    # initialize\n",
    "    srand(seed)\n",
    "    n1,n2 = size(Y);\n",
    "    Theta = init + 0.0 * randn(n1,n2);\n",
    "    S1 = randperm(n1)[1:k1];\n",
    "    S2 = randperm(n2)[1:k2];\n",
    "    Mu1 = init[S1,:] + 0.0 * randn(k1,n2);\n",
    "    Mu2 = init[:,S2] + 0.0 * randn(n1,k2);\n",
    "    Q1 = randn(n1,k1);\n",
    "    Q2 = randn(k2,n2);\n",
    "    \n",
    "    # loop start\n",
    "    for i = 1:iter\n",
    "        Theta, Mu1, Q1 = update(Y,Theta,Mu1,sigma,v0);\n",
    "        Theta, Mu2, Q2 = update(Y',Theta',Mu2',sigma,v0, transposed = true);\n",
    "    end\n",
    "    \n",
    "    # get a final estimate\n",
    "    A = (Q2'*Diagonal(1./sum(Q2,2)[:]) * Q2);\n",
    "    B = (Q1*Diagonal(1./sum(Q1,1)[:]) * Q1')\n",
    "    g1 = Graph(A .> 1e-3)\n",
    "    g2 = Graph(B .> 1e-3)\n",
    "    c1 = connected_components(g1);\n",
    "    c2 = connected_components(g2);\n",
    "    ind = c2[1];\n",
    "    for i = 2:length(c2)\n",
    "        ind = [ind;c2[i]];\n",
    "    end\n",
    "    Final = (B * Theta)[ind,:];\n",
    "    \n",
    "    return Final, ind, A, B, Theta\n",
    "end"
   ]
  }
 ],
 "metadata": {
  "kernelspec": {
   "display_name": "Julia 0.6.2",
   "language": "julia",
   "name": "julia-0.6"
  },
  "language_info": {
   "file_extension": ".jl",
   "mimetype": "application/julia",
   "name": "julia",
   "version": "0.6.2"
  }
 },
 "nbformat": 4,
 "nbformat_minor": 2
}

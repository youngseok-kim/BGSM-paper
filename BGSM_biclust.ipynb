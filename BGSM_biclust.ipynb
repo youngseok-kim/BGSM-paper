{
 "cells": [
  {
   "cell_type": "code",
   "execution_count": 5,
   "metadata": {},
   "outputs": [],
   "source": [
    "using PyPlot, LightGraphs"
   ]
  },
  {
   "cell_type": "code",
   "execution_count": 6,
   "metadata": {},
   "outputs": [
    {
     "data": {
      "text/plain": [
       "20×20 Array{Float64,2}:\n",
       " 10.2973    8.27024   8.71095   8.52938  …   5.37867     5.94013    4.60623  \n",
       " 10.3824   10.7959    9.66473   9.46479      4.48914     4.9315     6.59105  \n",
       "  9.40237  10.6701   10.0705    9.03646      5.26241     4.99871    5.26835  \n",
       "  9.98955  10.5509   10.3418    8.61489      3.38967     4.61464    2.53636  \n",
       "  9.16097   9.93663  11.7352   10.1343       3.22503     5.04414    6.53105  \n",
       " 10.3111   11.3369   11.2999    9.38388  …   4.33354     5.54472    4.47687  \n",
       " 12.2951    9.92685  10.2064    8.28001      6.91683     4.63309    5.58341  \n",
       "  7.73291   9.25454   8.99114  10.3208       5.16946     4.15181    5.07109  \n",
       " 10.53      8.77994   9.14994   8.55263      4.23703     5.72098    4.38983  \n",
       " 10.4314    9.94682  11.1294    9.50773      4.61555     5.86446    6.84181  \n",
       " -4.41629  -5.16514  -6.34853  -5.41309  …  -0.197554    0.353621  -0.280518 \n",
       " -4.03673  -7.11537  -3.75971  -3.99807      1.0981     -0.530365   0.0124829\n",
       " -4.54121  -5.06677  -5.05565  -3.82532      0.151374   -0.529337   0.13181  \n",
       " -5.52234  -3.77754  -4.24061  -6.32697     -0.0221901   1.36138    1.01257  \n",
       " -4.5916   -4.4323   -5.03027  -6.59321      0.844892   -0.794024  -0.176671 \n",
       " -5.05045  -4.2365   -5.36108  -5.43871  …   0.10977    -0.761022   0.0542678\n",
       " -5.69365  -4.6214   -7.0073   -3.7742      -0.559535   -0.954068   0.83258  \n",
       " -6.77383  -5.6456   -5.56886  -3.51091     -0.59949    -2.52371    1.08775  \n",
       " -4.87923  -5.66465  -6.14963  -2.84057      1.63361    -0.114097  -0.599379 \n",
       " -5.75763  -6.80303  -3.11938  -5.90948      0.260064   -1.95986   -1.17484  "
      ]
     },
     "execution_count": 6,
     "metadata": {},
     "output_type": "execute_result"
    }
   ],
   "source": [
    "srand(1)\n",
    "t = [ones(10,10) * 10 ones(10,10) * 5; -ones(10,10) * 5 zeros(10,10)];\n",
    "y = t + randn(20,20)"
   ]
  },
  {
   "cell_type": "code",
   "execution_count": 7,
   "metadata": {},
   "outputs": [
    {
     "data": {
      "image/png": "[encoded data removed]",
      "text/plain": [
       "PyPlot.Figure(PyObject <Figure size 640x480 with 1 Axes>)"
      ]
     },
     "metadata": {},
     "output_type": "display_data"
    },
    {
     "data": {
      "text/plain": [
       "PyObject <matplotlib.collections.QuadMesh object at 0x120a3e510>"
      ]
     },
     "execution_count": 7,
     "metadata": {},
     "output_type": "execute_result"
    }
   ],
   "source": [
    "pcolormesh(y, cmap = \"PuBu\")"
   ]
  },
  {
   "cell_type": "code",
   "execution_count": 95,
   "metadata": {},
   "outputs": [
    {
     "data": {
      "text/plain": [
       "BSGM_biclust (generic function with 1 method)"
      ]
     },
     "execution_count": 95,
     "metadata": {},
     "output_type": "execute_result"
    }
   ],
   "source": [
    "function BGSM_biclust(Y; init = Y, v0 = 1e-1, sigma = 1, seed = 1, iter = 100, k1 = 2, k2 = 2)\n",
    "    \n",
    "    function update(Y,Theta,Mu,sigma,v0; transposed = false)\n",
    "        n = size(Y,1); k = size(Mu,1);\n",
    "        diff_sq = reshape(sum((repeat(Theta,outer = [k,1]) - repeat(Mu,inner = [n,1])).^2,2),n,k);\n",
    "        Q = exp.(-diff_sq/(v0*sigma^2));\n",
    "        Q = Q./ sum(Q,2);\n",
    "        R = Diagonal(1./sum(Q,1)[:]) * Q';\n",
    "        Theta = (eye(n) + (eye(n) - Q * R)/v0)\\Y;\n",
    "        Mu = R * Theta;\n",
    "        if transposed == false return Theta, Mu, Q\n",
    "        else return Theta', Mu', Q'\n",
    "        end\n",
    "    end\n",
    "    \n",
    "    # initialize\n",
    "    srand(seed)\n",
    "    n1,n2 = size(Y);\n",
    "    Theta = init + 0.0 * randn(n1,n2);\n",
    "    S1 = randperm(n1)[1:k1];\n",
    "    S2 = randperm(n2)[1:k2];\n",
    "    Mu1 = init[S1,:] + 0.0 * randn(k1,n2);\n",
    "    Mu2 = init[:,S2] + 0.0 * randn(n1,k2);\n",
    "    Q1 = randn(n1,k1);\n",
    "    Q2 = randn(k2,n2);\n",
    "    \n",
    "    # loop start\n",
    "    for i = 1:iter\n",
    "        Theta, Mu1, Q1 = update(Y,Theta,Mu1,sigma,v0);\n",
    "        Theta, Mu2, Q2 = update(Y',Theta',Mu2',sigma,v0, transposed = true);\n",
    "    end\n",
    "    \n",
    "    # get a final estimate\n",
    "    A = (Q2'*Diagonal(1./sum(Q2,2)[:]) * Q2);\n",
    "    B = (Q1*Diagonal(1./sum(Q1,1)[:]) * Q1')\n",
    "    g1 = Graph(A .> 1e-3)\n",
    "    g2 = Graph(B .> 1e-3)\n",
    "    c1 = connected_components(g1);\n",
    "    c2 = connected_components(g2);\n",
    "    ind = c2[1];\n",
    "    for i = 2:length(c2)\n",
    "        ind = [ind;c2[i]];\n",
    "    end\n",
    "    Final = (B * Theta * A)[ind,:];\n",
    "    \n",
    "    return Final, ind, A, B, Theta\n",
    "end"
   ]
  },
  {
   "cell_type": "code",
   "execution_count": 111,
   "metadata": {},
   "outputs": [
    {
     "data": {
      "image/png": "[encoded data removed]",
      "text/plain": [
       "PyPlot.Figure(PyObject <Figure size 640x480 with 1 Axes>)"
      ]
     },
     "metadata": {},
     "output_type": "display_data"
    },
    {
     "data": {
      "text/plain": [
       "1-element Array{PyCall.PyObject,1}:\n",
       " PyObject <matplotlib.lines.Line2D object at 0x107c700d0>"
      ]
     },
     "execution_count": 111,
     "metadata": {},
     "output_type": "execute_result"
    }
   ],
   "source": [
    "n1, n2 = size(y);\n",
    "g1 = Graph(ones(n1,n1) - eye(n1));\n",
    "g2 = Graph(ones(n2,n2) - eye(n2));\n",
    "p1 = length(edges(g1)); p2 = length(edges(g2));\n",
    "D1 = -incidence_matrix(g1, oriented = true)';\n",
    "D2 = -incidence_matrix(g2, oriented = true)';\n",
    "D12 = kron(D2,D1); D21 = -kron(D2,D1);\n",
    "D12[D12 .< 0] = 0;\n",
    "D21[D21 .< 0] = 0;\n",
    "D = sparse([D12;D21]);\n",
    "for i = 1:size(D,1)\n",
    "    ind = find(D[i,:] .> 0);\n",
    "    D[i,ind[2]] = -1;\n",
    "end"
   ]
  },
  {
   "cell_type": "code",
   "execution_count": 137,
   "metadata": {},
   "outputs": [
    {
     "data": {
      "text/plain": [
       "400-element SparseVector{Int64,Int64} with 4 stored entries:\n",
       "  [1  ]  =  1\n",
       "  [11 ]  =  0\n",
       "  [41 ]  =  0\n",
       "  [51 ]  =  -1"
      ]
     },
     "execution_count": 137,
     "metadata": {},
     "output_type": "execute_result"
    }
   ],
   "source": [
    "D[200,:]"
   ]
  },
  {
   "cell_type": "code",
   "execution_count": 136,
   "metadata": {},
   "outputs": [
    {
     "data": {
      "text/plain": [
       "400-element SparseVector{Int64,Int64} with 4 stored entries:\n",
       "  [1  ]  =  0\n",
       "  [11 ]  =  1\n",
       "  [41 ]  =  -1\n",
       "  [51 ]  =  0"
      ]
     },
     "execution_count": 136,
     "metadata": {},
     "output_type": "execute_result"
    }
   ],
   "source": [
    "D[200 + p1*p2,:]"
   ]
  },
  {
   "cell_type": "code",
   "execution_count": 17,
   "metadata": {},
   "outputs": [],
   "source": [
    "n1, n2 = size(y);\n",
    "g1 = PathGraph(n1); g2 = PathGraph(n2);\n",
    "p1 = length(edges(g1)); p2 = length(edges(g2));\n",
    "D1 = -incidence_matrix(g1, oriented = true)'\n",
    "D2 = -incidence_matrix(g2, oriented = true)'\n",
    "D12 = kron(D2,D1); D21 = -kron(D2,D1);\n",
    "D12[D12 .< 0] = 0;\n",
    "D21[D21 .< 0] = 0;\n",
    "D = sparse([D12;D21]);\n",
    "for i = 1:size(D,1)\n",
    "    ind = find(D[i,:] .> 0);\n",
    "    D[i,ind[2]] = -1;\n",
    "end"
   ]
  },
  {
   "cell_type": "code",
   "execution_count": 126,
   "metadata": {},
   "outputs": [
    {
     "data": {
      "text/plain": [
       "BGSM_kronecker (generic function with 1 method)"
      ]
     },
     "execution_count": 126,
     "metadata": {},
     "output_type": "execute_result"
    }
   ],
   "source": [
    "function BGSM_kronecker(y; v0 = 1e-1, v1 = 1e3, c = 1, iter = 100, graditer = 10)\n",
    "\n",
    "    t = y + 0.0; q1 = ones(p1)/2; q2 = ones(p2)/2; s2 = 1;\n",
    "    for i = 1:iter\n",
    "        sqds = reshape(sum(reshape((D*t).^2,p1*p2,2),2)[:],p1,p2)\n",
    "        t2 = sum(sqds .* repmat(q1,1,p2),1)[:]/n1;\n",
    "        q2 = 1./( 1 + sqrt(v0/v1) * exp.(t2 * (1/v0 - 1/v1)/(2*s2)) )\n",
    "        t1 = sum(sqds .* repmat(q2',p1,1),2)[:]/n2;\n",
    "        q1 = 1./( 1 + sqrt(v0/v1) * exp.(t1 * (c/v0 - c/v1)/(2*s2)) )\n",
    "        tau1 = q1/v0/c + (1-q1)/v1/c;\n",
    "        tau2 = q2/v0 + (1-q2)/v1;\n",
    "        tau = (tau1 .* tau2')[:]; tau = [tau;tau]\n",
    "        for j = 1:graditer\n",
    "            t = t - 1e-6 * (t + D' * (tau .* (D * t)) - y)\n",
    "        end\n",
    "    end\n",
    "    \n",
    "    # get a final estimate\n",
    "    gamma1 = find(q1 .< 0.5); gamma2 = find(q2 .< 0.5);\n",
    "    g1 = PathGraph(n1)\n",
    "    for i in gamma1\n",
    "        rem_edge!(g1,i,i+1)\n",
    "    end\n",
    "    c1 = connected_components(g1);\n",
    "    C1 = zeros(length(c1),n1)\n",
    "    for i = 1:length(c1)\n",
    "        C1[i,c1[i]] = 1;\n",
    "    end\n",
    "    B1 = C1'*inv(C1*C1')*C1;\n",
    "    \n",
    "    g2 = PathGraph(n2)\n",
    "    for i in gamma2\n",
    "        rem_edge!(g2,i,i+1)\n",
    "    end\n",
    "    c2 = connected_components(g2);\n",
    "    C2 = zeros(length(c2),n2)\n",
    "    for i = 1:length(c2)\n",
    "        C2[i,c2[i]] = 1;\n",
    "    end\n",
    "    B2 = C2'*inv(C2*C2')*C2;\n",
    "    final = B1*reshape(t,n1,n2)*B2;\n",
    "    \n",
    "    \n",
    "    return final, reshape(t,n1,n2), c1, c2\n",
    "end"
   ]
  },
  {
   "cell_type": "code",
   "execution_count": 127,
   "metadata": {},
   "outputs": [
    {
     "ename": "LoadError",
     "evalue": "\u001b[91mBoundsError: attempt to access 20-element Array{Array{Int64,1},1} at index [21]\u001b[39m",
     "output_type": "error",
     "traceback": [
      "\u001b[91mBoundsError: attempt to access 20-element Array{Array{Int64,1},1} at index [21]\u001b[39m",
      "",
      "Stacktrace:",
      " [1] \u001b[1mrem_edge!\u001b[22m\u001b[22m\u001b[1m(\u001b[22m\u001b[22m::LightGraphs.SimpleGraphs.SimpleGraph{Int64}, ::LightGraphs.SimpleGraphs.SimpleEdge{Int64}\u001b[1m)\u001b[22m\u001b[22m at \u001b[1m/Users/yosikim/.julia/v0.6/LightGraphs/src/SimpleGraphs/./simplegraph.jl:142\u001b[22m\u001b[22m",
      " [2] \u001b[1mrem_edge!\u001b[22m\u001b[22m\u001b[1m(\u001b[22m\u001b[22m::LightGraphs.SimpleGraphs.SimpleGraph{Int64}, ::Int64, ::Int64\u001b[1m)\u001b[22m\u001b[22m at \u001b[1m/Users/yosikim/.julia/v0.6/LightGraphs/src/SimpleGraphs/SimpleGraphs.jl:70\u001b[22m\u001b[22m",
      " [3] \u001b[1m#BGSM_kronecker#155\u001b[22m\u001b[22m\u001b[1m(\u001b[22m\u001b[22m::Float64, ::Float64, ::Int64, ::Int64, ::Int64, ::Function, ::Array{Float64,1}\u001b[1m)\u001b[22m\u001b[22m at \u001b[1m./In[126]:33\u001b[22m\u001b[22m",
      " [4] \u001b[1m(::#kw##BGSM_kronecker)\u001b[22m\u001b[22m\u001b[1m(\u001b[22m\u001b[22m::Array{Any,1}, ::#BGSM_kronecker, ::Array{Float64,1}\u001b[1m)\u001b[22m\u001b[22m at \u001b[1m./<missing>:0\u001b[22m\u001b[22m"
     ]
    }
   ],
   "source": [
    "final, t, c1, c2 = BGSM_kronecker(y[:], v0 = 1e-1 * 10, c = 1)"
   ]
  },
  {
   "cell_type": "code",
   "execution_count": 103,
   "metadata": {},
   "outputs": [
    {
     "data": {
      "image/png": "[encoded data removed]",
      "text/plain": [
       "PyPlot.Figure(PyObject <Figure size 640x480 with 1 Axes>)"
      ]
     },
     "metadata": {},
     "output_type": "display_data"
    },
    {
     "data": {
      "text/plain": [
       "PyObject <matplotlib.collections.QuadMesh object at 0x13a525750>"
      ]
     },
     "execution_count": 103,
     "metadata": {},
     "output_type": "execute_result"
    }
   ],
   "source": [
    "pcolormesh(final, cmap = \"PuBu\")"
   ]
  },
  {
   "cell_type": "code",
   "execution_count": 55,
   "metadata": {},
   "outputs": [
    {
     "ename": "LoadError",
     "evalue": "\u001b[91mUndefVarError: BGSM_biclust not defined\u001b[39m",
     "output_type": "error",
     "traceback": [
      "\u001b[91mUndefVarError: BGSM_biclust not defined\u001b[39m",
      ""
     ]
    }
   ],
   "source": [
    "Final, ind, A, B, Theta = BGSM_biclust(y, v0 = 1e-1 * 3, k1 = 5, k2 = 5, iter = 2000)\n",
    "pcolormesh(Final, cmap = \"PuBu\")"
   ]
  },
  {
   "cell_type": "code",
   "execution_count": null,
   "metadata": {},
   "outputs": [],
   "source": []
  }
 ],
 "metadata": {
  "kernelspec": {
   "display_name": "Julia 0.6.2",
   "language": "julia",
   "name": "julia-0.6"
  },
  "language_info": {
   "file_extension": ".jl",
   "mimetype": "application/julia",
   "name": "julia",
   "version": "0.6.2"
  }
 },
 "nbformat": 4,
 "nbformat_minor": 2
}

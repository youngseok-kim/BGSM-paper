{
 "cells": [
  {
   "cell_type": "code",
   "execution_count": 1,
   "metadata": {},
   "outputs": [
    {
     "data": {
      "text/plain": [
       "BGSM_clust (generic function with 1 method)"
      ]
     },
     "execution_count": 1,
     "metadata": {},
     "output_type": "execute_result"
    }
   ],
   "source": [
    "# a function for BGSM_general (Section 4)\n",
    "\n",
    "# y : a vector of data\n",
    "# D : graph incidence matrix\n",
    "# X : a design matrix\n",
    "# w : a support vector\n",
    "# nu : a prior precision for alpha\n",
    "# v0, v1 : tuning parameters\n",
    "# a, b : inverse gamma hyperparameters\n",
    "# convtol : convergence tolerance\n",
    "# orthotol : tolerance to check whether w is an eigenvector of X'X\n",
    "# iter : a number of maximum allowed iteration\n",
    "\n",
    "function BGSM_clust(      y, D;                                 # a \n",
    "                          X = zeros(0,0), w = zeros(0),         # a design matrix and a support vector\n",
    "                          nu = 0,                               # a prior precision for alpha\n",
    "                          v0 = 1e-1, v1 = 1e4,                  # tuning parameters\n",
    "                          a = 0, b = 1,                         # inverse gamma hyperparmeters\n",
    "                          A = 1, B = 1,                         # beta bernoulli hyperparmeters\n",
    "                          convtol = 1e-10, orthotol = 1e-10,    # tolerances\n",
    "                          iter = 1000,                          # a number of maximum allowed iteration\n",
    "                          verbose = true)                       # verbose option\n",
    "    \n",
    "    # n is the length of vector y\n",
    "    n = length(y);\n",
    "    m,p = size(D);\n",
    "    if n == p || m == Int(p*(p-1)/2)\n",
    "        error(\"Error : A problem is not defined for a clustering problem. Not yet supported.\")\n",
    "    end\n",
    "    if verbose == true\n",
    "        println(\"A data \\\"y\\\" has input of length \\\"n\\\" = $n\");\n",
    "        println(\"A graph incidence matrix \\\"D\\\" has input of size (\\\"m\\\" = $m,\\\"p\\\" = $p)\");\n",
    "        println(\"A design matrix \\\"X\\\" has no input: use speye(n) as a default, \\\"n\\\" = $n\");\n",
    "        println(\"A support vector \\\"w\\\" has no input: use ones(p) as a default, \\\"p\\\" = $p\");\n",
    "        X = speye(n); w = ones(p);\n",
    "    end\n",
    "    \n",
    "    # initialze\n",
    "    theta = copy(y); mu = copy(y); sigmasq = 1;\n",
    "    \n",
    "    # loop start\n",
    "    for i = 1:iter\n",
    "        \n",
    "        # calculate squared distance\n",
    "        deltasq = reshape(sum((repmat(theta,n,1) - kron(mu,ones(n))).^2,2),n,n);\n",
    "        # update Q\n",
    "        Q = exp.(-deltasq/(v0*sigmasq)); Q = Q./ sum(Q,2);\n",
    "        R = Diagonal(1./sum(Q,1)[:]) * Q'; L = speye(n) - Q * R;\n",
    "        \n",
    "        # update theta, mu, sigma^2\n",
    "        theta = (speye(n) + L/v0)\\y;\n",
    "        mu = R * theta;\n",
    "        sigmasq = (sum((y-theta).^2) + sum((theta - Q * mu).^2)/v0 + b)/(2*n+a+1)/d;\n",
    "    end\n",
    "    \n",
    "    R = Array{Int}(reshape(sum((repmat(mu,n,1) - kron(mu,ones(n))).^2,2),n,n) .< 1e-8);\n",
    "    A = eig(R);\n",
    "    ind = find(A[1] .> 0.5)\n",
    "    B = abs.(A[2][:,ind] .* sqrt.(A[1][ind]'))\n",
    "    B[B .< 0.5] = 0\n",
    "    theta_tilde = B*inv(B'*B)B'*y\n",
    "    return theta, mu, theta_tilde, R, B\n",
    "end"
   ]
  },
  {
   "cell_type": "code",
   "execution_count": 2,
   "metadata": {},
   "outputs": [
    {
     "data": {
      "image/png": "[encoded data removed]",
      "text/plain": [
       "PyPlot.Figure(PyObject <Figure size 640x480 with 1 Axes>)"
      ]
     },
     "metadata": {},
     "output_type": "display_data"
    }
   ],
   "source": [
    "using PyPlot\n",
    "theta = kron([0 0; 5 0; 0 5],ones(10))\n",
    "srand(2)\n",
    "y = theta + randn(30,2);\n",
    "y = y .- mean(y,1)\n",
    "c = repeat([\"darkred\";\"darkblue\";\"darkgreen\"],inner = (10,1));\n",
    "scatter(y[:,1],y[:,2], s = 10);"
   ]
  },
  {
   "cell_type": "code",
   "execution_count": 4,
   "metadata": {},
   "outputs": [
    {
     "ename": "LoadError",
     "evalue": "\u001b[91mMethodError: no method matching BGSM_clust(::Array{Float64,2}; v0=0.003, iter=1000)\u001b[0m\nClosest candidates are:\n  BGSM_clust(::Any, \u001b[91m::Any\u001b[39m; X, w, nu, v0, v1, a, b, A, B, convtol, orthotol, iter, verbose) at In[1]:25\u001b[39m",
     "output_type": "error",
     "traceback": [
      "\u001b[91mMethodError: no method matching BGSM_clust(::Array{Float64,2}; v0=0.003, iter=1000)\u001b[0m\nClosest candidates are:\n  BGSM_clust(::Any, \u001b[91m::Any\u001b[39m; X, w, nu, v0, v1, a, b, A, B, convtol, orthotol, iter, verbose) at In[1]:25\u001b[39m",
      "",
      "Stacktrace:",
      " [1] \u001b[1mmacro expansion\u001b[22m\u001b[22m at \u001b[1m./In[4]:8\u001b[22m\u001b[22m [inlined]",
      " [2] \u001b[1manonymous\u001b[22m\u001b[22m at \u001b[1m./<missing>:?\u001b[22m\u001b[22m"
     ]
    }
   ],
   "source": [
    "fig, axs = subplots(2, 3, figsize = (16, 6))\n",
    "############################################################\n",
    "v0_range = 0.001 * 3.^(1:10); subset = 1:10; s = length(v0_range);\n",
    "t = zeros(s,2,30);\n",
    "res = zeros(s,2,30);\n",
    "siz = zeros(s,30);\n",
    "for i = 1:s\n",
    "    out = BGSM_clust(y, v0 = v0_range[i], iter = 1000)\n",
    "    for j = 1:30\n",
    "        res[i,:,j] = out[2][j,:]\n",
    "        t[i,:,j] = out[3][j,:]\n",
    "        siz[i,j] = sum(out[4],2)[j];\n",
    "    end\n",
    "end\n",
    "############################################################\n",
    "subplot2grid((20,20), (0,11), rowspan = 20, colspan = 10)\n",
    "############################################################\n",
    "for j = 1:30\n",
    "    #plot(t[subset,1,j],t[subset,2,j],\"-o\", color = c[j], linewidth=0.5, alpha = 0.1, ms = 5)\n",
    "    scatter(t[subset,1,j],t[subset,2,j], marker = \"o\", color = c[j],\n",
    "        s = (siz[:,j] + 5), alpha = 0.2);\n",
    "    plot(t[subset,1,j],t[subset,2,j], \"-\", color = c[j],\n",
    "        linewidth=0.1)\n",
    "end\n",
    "plot(0,0, color = \"black\", \"o\", ms = 5)\n",
    "xlabel(\"x1\"); ylabel(\"x2\")\n",
    "title(\"Regularization path of tilde μ reduced to when v0 = 0\")\n",
    "\n",
    "############################################################\n",
    "subplot2grid((20,20), (0,0), rowspan = 20, colspan = 9)\n",
    "############################################################\n",
    "res[1,:,:] = 0; siz[1,:] = 4;\n",
    "subset = 2:10\n",
    "for j = 1:30\n",
    "    scatter(res[subset,1,j],res[subset,2,j], marker = \"o\", color = c[j],\n",
    "        s = (siz[:,j] + 5), alpha = 0.2);\n",
    "    plot(res[subset,1,j],res[subset,2,j], \"-\", color = c[j],\n",
    "        linewidth=0.1)\n",
    "end\n",
    "plot(0,0, color = \"black\", \"o\", ms = 5)\n",
    "xlabel(\"x1\"); ylabel(\"x2\")\n",
    "title(\"Regularization path of hat μ for different v0 values\")\n",
    "############################################################\n",
    "\n",
    "savefig(\"../figure/F2.png\")"
   ]
  }
 ],
 "metadata": {
  "kernelspec": {
   "display_name": "Julia nodeps 0.6.2",
   "language": "julia",
   "name": "julia-nodeps-0.6"
  },
  "language_info": {
   "file_extension": ".jl",
   "mimetype": "application/julia",
   "name": "julia",
   "version": "0.6.2"
  }
 },
 "nbformat": 4,
 "nbformat_minor": 2
}

{
 "cells": [
  {
   "cell_type": "code",
   "execution_count": 1,
   "metadata": {},
   "outputs": [],
   "source": [
    "using PyPlot, LightGraphs"
   ]
  },
  {
   "cell_type": "code",
   "execution_count": 239,
   "metadata": {},
   "outputs": [
    {
     "data": {
      "text/plain": [
       "BGSM_clust_reg (generic function with 1 method)"
      ]
     },
     "execution_count": 239,
     "metadata": {},
     "output_type": "execute_result"
    }
   ],
   "source": [
    "# a function for BGSM_general (Section 4)\n",
    "\n",
    "# y : a vector of data\n",
    "# D : graph incidence matrix\n",
    "# X : a design matrix\n",
    "# w : a support vector\n",
    "# nu : a prior precision for alpha\n",
    "# v0, v1 : tuning parameters\n",
    "# a, b : inverse gamma hyperparameters\n",
    "# convtol : convergence tolerance\n",
    "# orthotol : tolerance to check whether w is an eigenvector of X'X\n",
    "# iter : a number of maximum allowed iteration\n",
    "\n",
    "function BGSM_clust_reg(      y;                                    # a data and a graph\n",
    "                              X = speye(length(n)),                 # a design matrix\n",
    "                              v0 = 1e-1, v1 = 1e4,                  # tuning parameters\n",
    "                              a = 0, b = sum(size(X)),              # inverse gamma hyperparmeters\n",
    "                              A = length(y), B = 1,                 # beta bernoulli hyperparmeters\n",
    "                              convtol = 1e-10, orthotol = 1e-10,    # tolerances\n",
    "                              iter = 1000,                          # a number of maximum allowed iteration\n",
    "                              verbose = true)                       # verbose option\n",
    "    \n",
    "    # check if y is a vector or a matrix\n",
    "    if length(size(y)) == 1\n",
    "        # n = length of y\n",
    "        n = length(y); d = 1;\n",
    "        println(\"\\\"y\\\" is a vector of length $n\");\n",
    "    else\n",
    "        n,d = size(y);\n",
    "        println(\"\\\"y\\\" is a matrix of size $n by $d\");\n",
    "    end\n",
    "\n",
    "    # check if X has an input\n",
    "    if size(X) == (0,0)\n",
    "        X = speye(n);\n",
    "        error(\"A design matrix \\\"X\\\" has no input: use speye(n) as a default, \\\"n\\\" = $n\");\n",
    "    elseif n != size(X,1)\n",
    "        error(\"Error : A length of \\\"y\\\" must be equal to a number of rows in \\\"X\\\".\");\n",
    "    end\n",
    "    \n",
    "    p = size(X,2);\n",
    "    \n",
    "    # initialze\n",
    "    theta = (X'*X + 1e-4 * speye(p))\\(X'*y);\n",
    "    mu = copy(theta);\n",
    "    sigmasq = 1;\n",
    "    q = ones(p)/p;\n",
    "    \n",
    "    # loop start\n",
    "    for i = 1:iter\n",
    "        \n",
    "        # save for convergence check\n",
    "        q_old = copy(q);\n",
    "        \n",
    "        # E-step : update q and tau\n",
    "        q = 1 ./ (1 + exp.(-2*sum(theta.*mu,2)[:]/(d * sigmasq * v0)));\n",
    "        tau = Diagonal;\n",
    "        \n",
    "        # M-step : update theta, delta, sigma^2\n",
    "        theta = (X'*X + Diagonal(tau))\\(X'*y);\n",
    "        mu = theta .* (2 * q - 1);\n",
    "        sigmasq = (sum((y - X*theta).^2) + sum((theta - mu).^2)/v0 + b)/(n+p+a+1)/d;\n",
    "\n",
    "        # convergence criterion\n",
    "        err = norm(q - q_old)/length(q);\n",
    "        \n",
    "        # convergence check\n",
    "        if err < convtol\n",
    "            if verbose == true\n",
    "                @printf \"iteration: %d, error: %0.2e\\n\" i err;\n",
    "                println(\"the algorithm converges at $i-th iteration\");\n",
    "            end\n",
    "            break;\n",
    "        end\n",
    "        \n",
    "        # printout\n",
    "        if rem(i,5) == 0 && verbose == true\n",
    "            @printf \"iteration: %d, error: %0.2e\\n\" i err;\n",
    "        end\n",
    "    end\n",
    "    \n",
    "    return Dict([\n",
    "                (:theta, theta), (:mu, mu), (:q, 2*q-1), (:X, X), (:y, y), (:sigmasq, sigmasq)\n",
    "                ])\n",
    "end"
   ]
  },
  {
   "cell_type": "code",
   "execution_count": 231,
   "metadata": {},
   "outputs": [
    {
     "name": "stdout",
     "output_type": "stream",
     "text": [
      "A data \"y\" has input of length \"n\" = 100\n",
      "A graph incidence matrix \"D\" has input of size (\"m\" = 200,\"p\" = 201)\n",
      "We initialize at \"α\" = mean(y), \"θ\" = y-α, \"σ^2\" = var(y) and \"η\" = 1/2\n",
      "iteration: 5, error: 6.37e-03\n",
      "iteration: 10, error: 5.01e-04\n",
      "iteration: 15, error: 9.97e-05\n",
      "iteration: 20, error: 2.43e-03\n",
      "iteration: 25, error: 8.66e-04\n",
      "iteration: 30, error: 2.97e-04\n",
      "iteration: 35, error: 7.98e-04\n",
      "iteration: 38, error: 6.64e-13\n",
      "the algorithm converges at 38-th iteration\n"
     ]
    }
   ],
   "source": [
    "srand(1);\n",
    "n = 100; p = 200;\n",
    "X = randn(n,p); X1 = [zeros(n) X];\n",
    "w = [1;zeros(p)];\n",
    "t = [zeros(Int(4*p/5));5.0*ones(Int(p/5))]\n",
    "y = X*t + randn(n);\n",
    "g = Graph(p+1);\n",
    "for i = 1:p\n",
    "    add_edge!(g,(1,i+1))\n",
    "end\n",
    "A = adjacency_matrix(g);\n",
    "D = full(incidence_matrix(g, oriented = true))';\n",
    "include(\"code/BGSM_general.jl\")\n",
    "out = BGSM_general(y, D, v0 = 1e-1*0.8, X = X1, w = w, A = size(D,2), b = sum(size(D)), nu = Inf);"
   ]
  },
  {
   "cell_type": "code",
   "execution_count": 234,
   "metadata": {},
   "outputs": [
    {
     "name": "stdout",
     "output_type": "stream",
     "text": [
      "\"y\" is a vector of length 100\n",
      "iteration: 5, error: 2.93e-03\n",
      "iteration: 10, error: 2.07e-03\n",
      "iteration: 15, error: 1.94e-03\n",
      "iteration: 20, error: 6.49e-04\n",
      "iteration: 25, error: 4.84e-05\n",
      "iteration: 30, error: 9.23e-04\n",
      "iteration: 35, error: 1.34e-03\n",
      "iteration: 40, error: 1.04e-05\n",
      "iteration: 45, error: 1.26e-03\n",
      "iteration: 50, error: 1.13e-08\n",
      "iteration: 52, error: 1.85e-12\n",
      "the algorithm converges at 52-th iteration\n"
     ]
    }
   ],
   "source": [
    "out = BGSM_clust_reg(y, X = X, v0 = 1e-1 * 5);"
   ]
  },
  {
   "cell_type": "code",
   "execution_count": 237,
   "metadata": {},
   "outputs": [
    {
     "data": {
      "image/png": "[encoded data removed]",
      "text/plain": [
       "PyPlot.Figure(PyObject <Figure size 640x480 with 1 Axes>)"
      ]
     },
     "metadata": {},
     "output_type": "display_data"
    },
    {
     "name": "stdout",
     "output_type": "stream",
     "text": [
      "a fitted sigma2 value is 1.000"
     ]
    }
   ],
   "source": [
    "plot(out[:theta])\n",
    "@printf \"a fitted sigma2 value is %0.3f\" out[:sigmasq]"
   ]
  },
  {
   "cell_type": "code",
   "execution_count": 240,
   "metadata": {},
   "outputs": [
    {
     "name": "stdout",
     "output_type": "stream",
     "text": [
      "\"y\" is a matrix of size 100 by 10\n",
      "iteration: 5, error: 3.71e-03\n",
      "iteration: 10, error: 1.46e-03\n",
      "iteration: 15, error: 1.24e-03\n",
      "iteration: 19, error: 3.01e-11\n",
      "the algorithm converges at 19-th iteration\n"
     ]
    }
   ],
   "source": [
    "srand(1)\n",
    "n = 100; p = 200; d = 10;\n",
    "X = randn(n,p); X1 = [zeros(n) X];\n",
    "w = [1;zeros(p)];\n",
    "t = [zeros(Int(4*p/5),d);5.0*ones(Int(p/5),d)]\n",
    "y = X*t + randn(n,d);\n",
    "out = BGSM_clust_reg(y, X = X, v0 = 1e0, b = (n+p) * d, B = d);"
   ]
  },
  {
   "cell_type": "code",
   "execution_count": 241,
   "metadata": {},
   "outputs": [
    {
     "data": {
      "image/png": "[encoded data removed]",
      "text/plain": [
       "PyPlot.Figure(PyObject <Figure size 640x480 with 1 Axes>)"
      ]
     },
     "metadata": {},
     "output_type": "display_data"
    },
    {
     "data": {
      "text/plain": [
       "1-element Array{PyCall.PyObject,1}:\n",
       " PyObject <matplotlib.lines.Line2D object at 0x142e3f810>"
      ]
     },
     "execution_count": 241,
     "metadata": {},
     "output_type": "execute_result"
    }
   ],
   "source": [
    "plot(out[:q])"
   ]
  },
  {
   "cell_type": "code",
   "execution_count": 333,
   "metadata": {},
   "outputs": [
    {
     "data": {
      "text/plain": [
       "BSGM_newmodel (generic function with 1 method)"
      ]
     },
     "execution_count": 333,
     "metadata": {},
     "output_type": "execute_result"
    }
   ],
   "source": [
    "# a function for BSGM_cartesian_biclust (Section 5.2.)\n",
    "\n",
    "# y       : a matrix of data\n",
    "# init    : initialization of y\n",
    "\n",
    "function BSGM_newmodel(y;\n",
    "                       v0 = 1e-1,\n",
    "                       convtol = 1e-14,  \n",
    "                       iter = 100)\n",
    "                            \n",
    "    \n",
    "    # get size\n",
    "    n1,n2 = size(y); n = n1 * n2;\n",
    "    \n",
    "    # initialize\n",
    "    theta = copy(y);\n",
    "    mu1 = copy(y); mu2 = copy(y);\n",
    "    q1 = zeros(n1); q2 = zeros(n2,n2);\n",
    "    sigmasq1 = 1; sigmasq2 = 1;\n",
    "    \n",
    "    # loop start\n",
    "    for i = 1:iter\n",
    "        \n",
    "        # save previous iteration\n",
    "        q1_old = copy(q1);\n",
    "        q2_old = copy(q2);\n",
    "        \n",
    "        # E-step: update g1\n",
    "        d1 = sum(theta .* mu1,2)[:];\n",
    "        q1 = 1./(1 + exp.(-2*d1/(n2*v0)));\n",
    "        \n",
    "        # E-step: update g2\n",
    "        d2 = reshape(sum((repmat(theta',n2,1) - kron(mu2',ones(n2))).^2,2),n2,n2)';\n",
    "        q2 = exp.(-d2/(2*n1*v0)); q2 = q2 ./ sum(q2,2);\n",
    "        \n",
    "        # M-step: update theta\n",
    "        L1 = Diagonal(4 .* q1 .*(1-q1))/v0;\n",
    "        L2 = (speye(n2) - (q2 ./ sum(q2,1)) * q2')/v0;\n",
    "        L = kron(L2, speye(n1)) + kron(speye(n2),L1);\n",
    "        theta = reshape((speye(n) + L/n)\\y[:], n1,n2);\n",
    "        mu1 = (2 * q1 - 1) .* theta;\n",
    "        mu2 = theta * (q2 ./ sum(q2,1));\n",
    "        \n",
    "        if rem(i,5) == 0\n",
    "            @printf \"%3d-th iteration done: error = %0.2e\\n\" i norm(q1 - q1_old) + norm(q2 - q2_old)\n",
    "        end\n",
    "        \n",
    "        if norm(q1 - q1_old) + norm(q2 - q2_old) < convtol\n",
    "            @printf \"the algorithm converged at %3d-th iteration: error = %0.2e\\n\" i norm(q1 - q1_old) + norm(q2 - q2_old)\n",
    "            break;\n",
    "        end\n",
    "        \n",
    "    end\n",
    "    \n",
    "    return Dict([\n",
    "                (:theta, theta), (:q1, q1), (:q2, q2),\n",
    "                (:mu1, ((2 * q1 - 1) .* mu1) * q2'), (:mu2, ((2 * q1 - 1) .* mu2) * q2')\n",
    "                ])\n",
    "end"
   ]
  },
  {
   "cell_type": "code",
   "execution_count": 342,
   "metadata": {},
   "outputs": [
    {
     "data": {
      "image/png": "[encoded data removed]",
      "text/plain": [
       "PyPlot.Figure(PyObject <Figure size 640x480 with 1 Axes>)"
      ]
     },
     "metadata": {},
     "output_type": "display_data"
    },
    {
     "data": {
      "text/plain": [
       "PyObject <matplotlib.collections.QuadMesh object at 0x13ca60cd0>"
      ]
     },
     "execution_count": 342,
     "metadata": {},
     "output_type": "execute_result"
    }
   ],
   "source": [
    "q2 = out[:q2]\n",
    "pcolormesh((q2 ./ sum(q2,1)) * q2')"
   ]
  },
  {
   "cell_type": "code",
   "execution_count": 340,
   "metadata": {},
   "outputs": [
    {
     "name": "stdout",
     "output_type": "stream",
     "text": [
      "  5-th iteration done: error = 7.07e-02\n",
      " 10-th iteration done: error = 1.17e-02\n",
      " 15-th iteration done: error = 6.43e-03\n",
      " 20-th iteration done: error = 4.09e-03\n",
      " 25-th iteration done: error = 2.72e-03\n",
      " 30-th iteration done: error = 1.84e-03\n",
      " 35-th iteration done: error = 1.26e-03\n",
      " 40-th iteration done: error = 8.65e-04\n",
      " 45-th iteration done: error = 5.94e-04\n",
      " 50-th iteration done: error = 4.09e-04\n",
      " 55-th iteration done: error = 2.82e-04\n",
      " 60-th iteration done: error = 1.94e-04\n",
      " 65-th iteration done: error = 1.34e-04\n",
      " 70-th iteration done: error = 9.20e-05\n",
      " 75-th iteration done: error = 6.33e-05\n",
      " 80-th iteration done: error = 4.36e-05\n",
      " 85-th iteration done: error = 3.00e-05\n",
      " 90-th iteration done: error = 2.07e-05\n",
      " 95-th iteration done: error = 1.42e-05\n",
      "100-th iteration done: error = 9.81e-06\n"
     ]
    },
    {
     "data": {
      "text/plain": [
       "Dict{Symbol,Array{Float64,N} where N} with 5 entries:\n",
       "  :q2    => [0.116436 0.103201 … 1.24823e-58 4.7821e-60; 0.116436 0.103201 … 1.…\n",
       "  :mu1   => [9.82525 9.82525 … 30.3206 30.3206; 9.66252 9.66252 … 29.9584 29.95…\n",
       "  :mu2   => [9.74991 9.74991 … 30.2223 30.2223; 9.68494 9.68494 … 29.981 29.981…\n",
       "  :theta => [10.2961 9.83468 … 30.4786 31.4501; 10.3808 7.88862 … 30.1236 28.79…\n",
       "  :q1    => [1.0, 1.0, 1.0, 1.0, 1.0, 1.0, 1.0, 1.0, 1.0, 1.0  …  0.986027, 0.9…"
      ]
     },
     "execution_count": 340,
     "metadata": {},
     "output_type": "execute_result"
    }
   ],
   "source": [
    "srand(1);\n",
    "y = [ones(10,10) 2*ones(10,10) 3*ones(10,10); zeros(20,30)] * 10 + randn(30,30)\n",
    "out = BSGM_newmodel(y, v0 = 1e-1*5)"
   ]
  },
  {
   "cell_type": "code",
   "execution_count": 341,
   "metadata": {},
   "outputs": [
    {
     "data": {
      "image/png": "[encoded data removed]",
      "text/plain": [
       "PyPlot.Figure(PyObject <Figure size 1500x500 with 3 Axes>)"
      ]
     },
     "metadata": {},
     "output_type": "display_data"
    },
    {
     "data": {
      "text/plain": [
       "PyObject <matplotlib.collections.QuadMesh object at 0x13fb71790>"
      ]
     },
     "execution_count": 341,
     "metadata": {},
     "output_type": "execute_result"
    }
   ],
   "source": [
    "fig, ax = subplots(figsize = (15,5))\n",
    "subplot(131); pcolormesh(out[:theta], cmap = \"PuBu\")\n",
    "subplot(132); pcolormesh(out[:mu1], cmap = \"PuBu\")\n",
    "subplot(133); pcolormesh(out[:mu2], cmap = \"PuBu\")"
   ]
  },
  {
   "cell_type": "code",
   "execution_count": 298,
   "metadata": {},
   "outputs": [
    {
     "name": "stdout",
     "output_type": "stream",
     "text": [
      "  5-th iteration done: error = 1.86e-03\n",
      " 10-th iteration done: error = 1.08e-06\n",
      "the algorithm converged at  14-th iteration: error = 2.77e-09\n"
     ]
    },
    {
     "data": {
      "text/plain": [
       "30×30 Array{Float64,2}:\n",
       "  9.53024   9.23339  10.0076   …  28.7818  29.3813  30.1756  29.4128\n",
       "  8.69164   9.71715  11.8101      29.4787  30.1364  29.0313  28.0152\n",
       " 11.2101    9.68845   9.09726     29.5813  30.6122  30.4457  29.0561\n",
       " 10.215    10.6118    9.59879     28.5626  29.7547  29.8093  29.5393\n",
       " 10.7258    9.70111   9.6434      30.8554  29.6288  29.9516  30.7503\n",
       "  8.73786   9.17702   9.64516  …  29.8872  29.6712  29.419   30.553 \n",
       "  8.48463   8.78837   9.51786     31.6284  30.9559  31.0573  28.2987\n",
       "  9.72412   9.96176   8.78843     30.1043  30.0317  31.4629  31.8868\n",
       "  8.69448   9.77187   9.90224     30.7348  30.8797  28.6348  31.2232\n",
       "  7.8877   11.3793   10.39        30.3304  29.1053  30.5454  31.9181\n",
       "  0.0       0.0      -0.0      …  -0.0     -0.0      0.0     -0.0   \n",
       " -0.0      -0.0       0.0         -0.0     -0.0      0.0     -0.0   \n",
       "  0.0       0.0      -0.0          0.0     -0.0     -0.0     -0.0   \n",
       "  ⋮                            ⋱                                    \n",
       "  0.0      -0.0      -0.0          0.0     -0.0     -0.0      0.0   \n",
       "  0.0      -0.0      -0.0         -0.0     -0.0     -0.0      0.0   \n",
       " -0.0       0.0      -0.0      …  -0.0      0.0      0.0     -0.0   \n",
       " -0.0       0.0       0.0         -0.0      0.0     -0.0      0.0   \n",
       "  0.0      -0.0       0.0          0.0     -0.0     -0.0      0.0   \n",
       "  0.0       0.0       0.0          0.0     -0.0     -0.0     -0.0   \n",
       "  0.0      -0.0       0.0          0.0      0.0      0.0      0.0   \n",
       " -0.0      -0.0       0.0      …  -0.0      0.0     -0.0      0.0   \n",
       " -0.0       0.0       0.0          0.0      0.0      0.0     -0.0   \n",
       " -0.0      -0.0      -0.0          0.0      0.0      0.0      0.0   \n",
       "  0.0      -0.0      -0.0         -0.0      0.0     -0.0     -0.0   \n",
       " -0.0      -0.0       0.0          0.0     -0.0      0.0     -0.0   "
      ]
     },
     "execution_count": 298,
     "metadata": {},
     "output_type": "execute_result"
    }
   ],
   "source": [
    "# get size\n",
    "v0 = 1e2\n",
    "    n1,n2 = size(y); n = n1 * n2;\n",
    "    \n",
    "    \n",
    "    # initialize\n",
    "    theta = copy(y);\n",
    "    mu1 = copy(y); mu2 = copy(y);\n",
    "    q1 = zeros(n1); q2 = zeros(n2,n2);\n",
    "    sigmasq1 = 1; sigmasq2 = 1;\n",
    "    \n",
    "    # loop start\n",
    "    for i = 1:iter\n",
    "        \n",
    "        # save previous iteration\n",
    "        q1_old = copy(q1);\n",
    "        q2_old = copy(q2);\n",
    "        \n",
    "        # E-step: update g1\n",
    "        d1 = sum(theta .* mu1,2)[:];\n",
    "        q1 = 1./(1 + exp.(-2*d1/(n2*v0)));\n",
    "        \n",
    "        # E-step: update g2\n",
    "        d2 = reshape(sum((repmat(theta',n2,1) - kron(mu2',ones(n2))).^2,2),n2,n2)';\n",
    "        q2 = exp.(-d2/(2*n1*v0)); q2 = q2 ./ sum(q2,2);\n",
    "        \n",
    "        # M-step: update theta\n",
    "        L1 = Diagonal(4 .* q1 .*(1-q1))/v0;\n",
    "        L2 = (speye(n2) - (q2 ./ sum(q2,1)) * q2')/v0;\n",
    "        L = kron(L2, speye(n1)) + kron(speye(n2),L1);\n",
    "        theta = reshape((speye(n) + L)\\y[:], n1,n2);\n",
    "        mu1 = (2 * q1 - 1) .* theta;\n",
    "        mu2 = theta * (q2 ./ sum(q2,1));\n",
    "        \n",
    "        if rem(i,5) == 0\n",
    "            @printf \"%3d-th iteration done: error = %0.2e\\n\" i norm(q1 - q1_old) + norm(q2 - q2_old)\n",
    "        end\n",
    "        \n",
    "        if norm(q1 - q1_old) + norm(q2 - q2_old) < convtol\n",
    "            @printf \"the algorithm converged at %3d-th iteration: error = %0.2e\\n\" i norm(q1 - q1_old) + norm(q2 - q2_old)\n",
    "            break;\n",
    "        end\n",
    "        \n",
    "end\n",
    "mu1"
   ]
  }
 ],
 "metadata": {
  "kernelspec": {
   "display_name": "Julia 0.6.2",
   "language": "julia",
   "name": "julia-0.6"
  },
  "language_info": {
   "file_extension": ".jl",
   "mimetype": "application/julia",
   "name": "julia",
   "version": "0.6.2"
  }
 },
 "nbformat": 4,
 "nbformat_minor": 2
}

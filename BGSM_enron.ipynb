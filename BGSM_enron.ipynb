{
 "cells": [
  {
   "cell_type": "code",
   "execution_count": 45,
   "metadata": {},
   "outputs": [],
   "source": [
    "using DataFrames, PyPlot, LightGraphs, Cairo, Fontconfig, Colors, CSV, RCall, Gadfly"
   ]
  },
  {
   "cell_type": "code",
   "execution_count": 46,
   "metadata": {},
   "outputs": [],
   "source": [
    "include(\"code/BGSM_effective_resistance.jl\");\n",
    "include(\"code/model_selection.jl\");"
   ]
  },
  {
   "cell_type": "code",
   "execution_count": 47,
   "metadata": {},
   "outputs": [],
   "source": [
    "using PyCall, Suppressor\n",
    "@pyimport GraphSegment\n",
    "@pyimport numpy"
   ]
  },
  {
   "cell_type": "code",
   "execution_count": 48,
   "metadata": {},
   "outputs": [],
   "source": [
    "edge = CSV.read(\"data/email-Enron.txt\", delim = '\t', header = false);"
   ]
  },
  {
   "cell_type": "code",
   "execution_count": 49,
   "metadata": {},
   "outputs": [],
   "source": [
    "p = maximum(Matrix(edge)) + 1;\n",
    "m = size(edge,1);\n",
    "G = SimpleGraph(p);\n",
    "for i = 1:m\n",
    "    add_edge!(G,(edge[i,1] + 1, edge[i,2] + 1));\n",
    "end\n",
    "largestcomp = connected_components(G)[1]\n",
    "G = G[largestcomp];\n",
    "G = G[3001:10000]\n",
    "node = connected_components(G)[3];\n",
    "G = G[node];"
   ]
  },
  {
   "cell_type": "code",
   "execution_count": 56,
   "metadata": {},
   "outputs": [],
   "source": [
    "D   = -incidence_matrix(G, oriented = true)';\n",
    "R   = effective_resistance(G, D);\n",
    "m,p = size(D)\n",
    "edges = repeat([(0,0)],m);\n",
    "for i = 1:m\n",
    "    temp = find(D[i,:] .!= 0);\n",
    "    edges[i] = (temp[1]-1, temp[2]-1);\n",
    "end\n",
    "tind = find(abs.(D * col) .> 1e-8);"
   ]
  },
  {
   "cell_type": "code",
   "execution_count": 51,
   "metadata": {},
   "outputs": [
    {
     "name": "stdout",
     "output_type": "stream",
     "text": [
      "1659 384 538 1531\n"
     ]
    }
   ],
   "source": [
    "srand(4)\n",
    "src = rand(1:p, 4); distance = zeros(p,4); col = zeros(Int, p);\n",
    "for i = 1:4\n",
    "    temp = dijkstra_shortest_paths(G, src[i]).dists;\n",
    "    distance[:,i] = temp;\n",
    "end\n",
    "for i = 1:p\n",
    "    col[i] = findmin(distance[i,:])[2]\n",
    "end\n",
    "col = [1;3;4;2][col];\n",
    "println(sum(col .== 1),\" \",sum(col .== 2),\" \", sum(col .== 3),\" \", sum(col .== 4))"
   ]
  },
  {
   "cell_type": "code",
   "execution_count": 8,
   "metadata": {},
   "outputs": [],
   "source": [
    "srand(1);\n",
    "y = 1 * col + rand(length(col));\n",
    "bgsm = zeros(length(y),20);\n",
    "for i = 1:20\n",
    "    res1      = BGSM_effective_resistance(y,D,R, v0 = 1e-2 * 1.4^i, b = size(D,1), verbose = false);\n",
    "    mss1      = model_selection(res1);\n",
    "    bgsm[:,i] = mss1[:beta]\n",
    "    println(\"score: \", mss1[:score],\" and # of comp: \",length(mss1[:c]))\n",
    "end"
   ]
  },
  {
   "cell_type": "code",
   "execution_count": null,
   "metadata": {},
   "outputs": [],
   "source": [
    "score: 20009.766141432487 and # of comp: 46\n",
    "score: 19936.16843310993 and # of comp: 20\n",
    "score: 19886.386503137142 and # of comp: 8\n",
    "score: 19870.209142829597 and # of comp: 4\n",
    "score: 19859.981404209735 and # of comp: 2\n",
    "score: 19860.984179017654 and # of comp: 2\n",
    "score: 19860.602914413852 and # of comp: 2\n",
    "score: 19866.01906018282 and # of comp: 2\n",
    "score: 20581.06866170354 and # of comp: 1\n",
    "score: 20581.06866170354 and # of comp: 1\n",
    "score: 20581.06866170354 and # of comp: 1\n",
    "score: 20581.06866170354 and # of comp: 1\n",
    "score: 20581.06866170354 and # of comp: 1\n",
    "score: 20581.06866170354 and # of comp: 1\n",
    "score: 20581.06866170354 and # of comp: 1\n",
    "score: 20581.06866170354 and # of comp: 1\n",
    "score: 20581.06866170354 and # of comp: 1\n",
    "score: 20581.06866170354 and # of comp: 1\n",
    "score: 20581.06866170354 and # of comp: 1\n",
    "score: 20581.06866170354 and # of comp: 1"
   ]
  },
  {
   "cell_type": "code",
   "execution_count": 77,
   "metadata": {},
   "outputs": [
    {
     "name": "stdout",
     "output_type": "stream",
     "text": [
      "score: 19859.981404209735 and # of comp: 2\n",
      "mse: 0.2648029492610089 fdr: 0.0058021467943139005 power : 0.749890590809628\n"
     ]
    }
   ],
   "source": [
    "srand(1);\n",
    "y         = 1 * col +  rand(length(col));\n",
    "res1      = BGSM_effective_resistance(y,D,R, v0 = 1e-2 * 1.4^5, b = size(D,1), verbose = false);\n",
    "mss1      = model_selection(res1);\n",
    "println(\"score: \", mss1[:score],\" and # of comp: \",length(mss1[:c]))\n",
    "nzind     = find(abs.(D * mss1[:beta]) .> 1e-8);\n",
    "tp        = length(findin(tind, nzind));\n",
    "println(\"mse: \", norm(y - mss1[:beta])^2/p,\" fdr: \", 1 - tp/length(nzind),\" power : \", tp/length(tind))"
   ]
  },
  {
   "cell_type": "code",
   "execution_count": 64,
   "metadata": {},
   "outputs": [
    {
     "name": "stdout",
     "output_type": "stream",
     "text": [
      "mse: 1.803684347814692 fdr: 0.9090909090909091 power : 0.0002188183807439825\n",
      "mse: 1.7616890387528121 fdr: 0.782608695652174 power : 0.0010940919037199124\n",
      "mse: 1.6780536124529895 fdr: 0.5238095238095238 power : 0.0087527352297593\n",
      "mse: 1.55197001136238 fdr: 0.5464480874316939 power : 0.018161925601750548\n",
      "mse: 0.49790297357876967 fdr: 0.1674047829937998 power : 0.4113785557986871\n",
      "mse: 0.32802673343969574 fdr: 0.05290659699542788 power : 0.6345733041575492\n",
      "mse: 0.2765682726117164 fdr: 0.029376135675348247 power : 0.7013129102844639\n",
      "mse: 0.2521988222977717 fdr: 0.03209019947961844 power : 0.7326039387308534\n",
      "mse: 0.22852374685224738 fdr: 0.07449392712550607 power : 0.750328227571116\n",
      "mse: 0.16891223852053336 fdr: 0.22699256110520727 power : 0.7958424507658644\n",
      "mse: 0.11285177301077297 fdr: 0.3829956930929973 power : 0.8463894967177243\n",
      "mse: 0.07796727522524105 fdr: 0.470595939751146 power : 0.8844638949671773\n",
      "mse: 0.06187959186014932 fdr: 0.5059502344031734 power : 0.899343544857768\n",
      "mse: 0.05482097795660049 fdr: 0.5226617460500519 power : 0.9056892778993435\n",
      "mse: 0.05144783625819632 fdr: 0.5292792792792793 power : 0.9146608315098468\n",
      "mse: 0.049172153260970075 fdr: 0.537715041905602 power : 0.9172866520787746\n",
      "mse: 0.047812882703848494 fdr: 0.5395297977036633 power : 0.9214442013129103\n",
      "mse: 0.045547864127233405 fdr: 0.5426465806871139 power : 0.9234135667396062\n",
      "mse: 0.04412129807121476 fdr: 0.5442477876106195 power : 0.9240700218818381\n",
      "mse: 0.04282138279931121 fdr: 0.5455815953558374 power : 0.924945295404814\n"
     ]
    }
   ],
   "source": [
    "srand(1)\n",
    "y = 1 * col +  rand(length(col));\n",
    "l0pen = 0;\n",
    "for i = 1:20\n",
    "    l0pen = GraphSegment.GraphSegment(y,edges, 1.5^(8-i), weights = R, delta = 1, verbose = false);\n",
    "    nzind = find(abs.(D * l0pen) .> 1e-8);\n",
    "    tp    = length(findin(tind, nzind));\n",
    "    println(\"mse: \", norm(y-l0pen)^2/p,\" fdr: \", 1 - tp/length(nzind),\" power : \", tp/length(tind))\n",
    "end"
   ]
  },
  {
   "cell_type": "code",
   "execution_count": 98,
   "metadata": {},
   "outputs": [
    {
     "name": "stdout",
     "output_type": "stream",
     "text": [
      "1\n",
      "2\n",
      "3\n",
      "4\n",
      "5\n"
     ]
    }
   ],
   "source": [
    "srand(1)\n",
    "y = 1 * col +  rand(length(col));\n",
    "B     = 5;\n",
    "err   = zeros(20, B);\n",
    "out_l0pen = 0;\n",
    "srand(1);\n",
    "for b = 1:B\n",
    "    println(b);\n",
    "    for i = 1:20\n",
    "        out_l0pen = GraphSegment.GraphSegment(y,edges, 1.5^(8-i), delta = 1, weights = R, verbose = false);\n",
    "        sigma     = 1;\n",
    "        alpha     = 0.2;\n",
    "        z         = alpha * sigma * randn(p);\n",
    "        y1        = y + z;\n",
    "        y2        = y - z/alpha^2;\n",
    "        mu1       = GraphSegment.GraphSegment(y1,edges, 1.5^(8-i), delta = 1, weights = R, verbose = false);\n",
    "        err[i,b]  = norm(y2 - mu1)^2/p;\n",
    "    end\n",
    "end"
   ]
  },
  {
   "cell_type": "code",
   "execution_count": 104,
   "metadata": {},
   "outputs": [
    {
     "name": "stdout",
     "output_type": "stream",
     "text": [
      "mse: 0.32802673343969574 fdr: 0.05290659699542788 power : 0.6345733041575492\n"
     ]
    }
   ],
   "source": [
    "l0pen = GraphSegment.GraphSegment(y,edges, 1.5^(8-findmin(sum(err,2))[2]), delta = 1, weights = R, verbose = false)\n",
    "nzind = find(abs.(D * l0pen) .> 1e-8);\n",
    "tp    = length(findin(tind, nzind));\n",
    "println(\"mse: \", norm(y-l0pen)^2/p,\" fdr: \", 1 - tp/length(nzind),\" power : \", tp/length(tind))"
   ]
  },
  {
   "cell_type": "code",
   "execution_count": 69,
   "metadata": {},
   "outputs": [
    {
     "name": "stdout",
     "output_type": "stream",
     "text": [
      "score: 20394.74554138314 and # of comp: 146\n",
      "score: 20023.749320630253 and # of comp: 62\n",
      "score: 19816.6313909981 and # of comp: 14\n",
      "score: 19773.748526045358 and # of comp: 4\n",
      "score: 19773.748526045358 and # of comp: 4\n",
      "score: 19773.748526045358 and # of comp: 4\n",
      "score: 19773.748526045358 and # of comp: 4\n",
      "score: 19774.416130740883 and # of comp: 4\n",
      "score: 19990.164364576594 and # of comp: 3\n",
      "score: 20037.936236023004 and # of comp: 4\n",
      "score: 20087.03289574866 and # of comp: 6\n",
      "score: 20145.183526472778 and # of comp: 7\n",
      "score: 20138.636928797154 and # of comp: 4\n",
      "score: 20138.124104856062 and # of comp: 3\n",
      "score: 20155.19758343638 and # of comp: 2\n",
      "score: 22003.619064450195 and # of comp: 1\n",
      "score: 22013.39598715098 and # of comp: 3\n",
      "score: 22003.619064450195 and # of comp: 1\n",
      "score: 22003.619064450195 and # of comp: 1\n",
      "score: 22003.619064450195 and # of comp: 1\n"
     ]
    }
   ],
   "source": [
    "srand(1);\n",
    "y = 2 * col +  rand(length(col));\n",
    "bgsm = zeros(length(y),20);\n",
    "for i = 1:20\n",
    "    res1      = BGSM_effective_resistance(y,D,R, v0 = 1e-3 * 2 * 1.4^i, b = size(D,1), verbose = false);\n",
    "    mss1      = model_selection(res1);\n",
    "    bgsm[:,i] = mss1[:beta]\n",
    "    println(\"score: \", mss1[:score],\" and # of comp: \", length(mss1[:c]))\n",
    "end"
   ]
  },
  {
   "cell_type": "code",
   "execution_count": null,
   "metadata": {},
   "outputs": [],
   "source": [
    "score: 21692.471391903568 and # of comp: 433\n",
    "score: 21015.80155721818 and # of comp: 284\n",
    "score: 20412.460436867914 and # of comp: 150\n",
    "score: 20037.083720790077 and # of comp: 65\n",
    "score: 19825.19904217826 and # of comp: 16\n",
    "score: 19780.415174231868 and # of comp: 5\n",
    "score: 19773.748526045358 and # of comp: 4\n",
    "score: 19773.748526045358 and # of comp: 4\n",
    "score: 19773.748526045358 and # of comp: 4\n",
    "score: 19774.416130740883 and # of comp: 4\n",
    "score: 19990.164364576594 and # of comp: 3\n",
    "score: 20037.936236023004 and # of comp: 4\n",
    "score: 20087.03289574866 and # of comp: 6\n",
    "score: 20143.015211438473 and # of comp: 6\n",
    "score: 20138.636928797154 and # of comp: 4\n",
    "score: 20138.124104856062 and # of comp: 3\n",
    "score: 20154.03579986702 and # of comp: 2\n",
    "score: 22003.619064450195 and # of comp: 1\n",
    "score: 22018.523964046784 and # of comp: 4\n",
    "score: 22003.619064450195 and # of comp: 1"
   ]
  },
  {
   "cell_type": "code",
   "execution_count": 78,
   "metadata": {},
   "outputs": [
    {
     "name": "stdout",
     "output_type": "stream",
     "text": [
      "score: 19773.748526045358 and # of comp: 4\n",
      "mse: 0.08387687951803596 fdr: 0.0 power : 1.0\n"
     ]
    }
   ],
   "source": [
    "srand(1);\n",
    "y         = 2 * col +  rand(length(col));\n",
    "res1      = BGSM_effective_resistance(y,D,R, v0 = 1e-3 * 2 * 1.4^5, b = size(D,1), verbose = false);\n",
    "mss1      = model_selection(res1);\n",
    "println(\"score: \", mss1[:score],\" and # of comp: \",length(mss1[:c]))\n",
    "nzind     = find(abs.(D * mss1[:beta]) .> 1e-8);\n",
    "tp        = length(findin(tind, nzind));\n",
    "println(\"mse: \", norm(y-mss1[:beta])^2/p,\" fdr: \", 1 - tp/length(nzind),\" power : \", tp/length(tind))"
   ]
  },
  {
   "cell_type": "code",
   "execution_count": 63,
   "metadata": {},
   "outputs": [
    {
     "name": "stdout",
     "output_type": "stream",
     "text": [
      "mse: 4.6359864410989475 fdr: 0.37768817204301075 power : 0.10131291028446389\n",
      "mse: 1.040814872589927 fdr: 0.047940797940797975 power : 0.6474835886214442\n",
      "mse: 0.5668778372490905 fdr: 0.05054454063110858 power : 0.7439824945295405\n",
      "mse: 0.40214460426896337 fdr: 0.038738979428266096 power : 0.787308533916849\n",
      "mse: 0.2851000585996561 fdr: 0.034403080872913994 power : 0.8229759299781182\n",
      "mse: 0.1754446511017759 fdr: 0.0366116295764537 power : 0.8809628008752736\n",
      "mse: 0.12359331632725205 fdr: 0.02809502055733215 power : 0.9310722100656456\n",
      "mse: 0.09949824125394781 fdr: 0.03829225352112675 power : 0.9562363238512035\n",
      "mse: 0.08520381575118657 fdr: 0.10950371709865381 power : 0.9698030634573304\n",
      "mse: 0.06682641994995761 fdr: 0.2363666778186685 power : 0.9989059080962801\n",
      "mse: 0.05221676790006594 fdr: 0.3452722063037249 power : 1.0\n",
      "mse: 0.03666669219518331 fdr: 0.43208649186032067 power : 1.0\n",
      "mse: 0.027631196216344557 fdr: 0.4782509418883434 power : 1.0\n",
      "mse: 0.023701211153300195 fdr: 0.4983534577387486 power : 1.0\n",
      "mse: 0.022196901092726967 fdr: 0.5069586794691985 power : 1.0\n",
      "mse: 0.021350729395561426 fdr: 0.5150164491138703 power : 1.0\n",
      "mse: 0.021035371209750714 fdr: 0.5184912021915499 power : 1.0\n",
      "mse: 0.020865697087999287 fdr: 0.5216663177726606 power : 1.0\n",
      "mse: 0.02080317562051168 fdr: 0.5233625365039634 power : 1.0\n",
      "mse: 0.020777153646553116 fdr: 0.524948024948025 power : 1.0\n"
     ]
    }
   ],
   "source": [
    "srand(1)\n",
    "y = 2 * col +  rand(length(col));\n",
    "l0pen = 0;\n",
    "for i = 1:20\n",
    "    l0pen = GraphSegment.GraphSegment(y,edges, 1.5^(8-i), weights = R, delta = 1, verbose = false);\n",
    "    nzind = find(abs.(D * l0pen) .> 1e-8);\n",
    "    tp    = length(findin(tind, nzind));\n",
    "    println(\"mse: \", norm(y-l0pen)^2/p,\" fdr: \", 1 - tp/length(nzind),\" power : \", tp/length(tind))\n",
    "end"
   ]
  },
  {
   "cell_type": "code",
   "execution_count": 117,
   "metadata": {},
   "outputs": [
    {
     "name": "stdout",
     "output_type": "stream",
     "text": [
      "1\n",
      "2\n",
      "3\n",
      "4\n",
      "5\n",
      "mse: 0.06682641994995761 fdr: 0.2363666778186685 power : 0.9989059080962801\n"
     ]
    }
   ],
   "source": [
    "srand(1)\n",
    "y = 2 * col +  rand(length(col));\n",
    "B     = 5;\n",
    "err   = zeros(20, B);\n",
    "out_l0pen = 0;\n",
    "srand(1);\n",
    "for b = 1:B\n",
    "    println(b);\n",
    "    for i = 1:20\n",
    "        out_l0pen = GraphSegment.GraphSegment(y,edges, 1.5^(8-i), delta = 1, weights = R, verbose = false);\n",
    "        sigma     = 1;\n",
    "        alpha     = 0.2;\n",
    "        z         = alpha * sigma * randn(p);\n",
    "        y1        = y + z;\n",
    "        y2        = y - z/alpha^2;\n",
    "        mu1       = GraphSegment.GraphSegment(y1,edges, 1.5^(8-i), delta = 1, weights = R, verbose = false);\n",
    "        err[i,b]  = norm(y2 - mu1)^2/p;\n",
    "    end\n",
    "end\n",
    "l0pen = GraphSegment.GraphSegment(y,edges, 1.5^(8-findmin(sum(err,2))[2]), delta = 1, weights = R, verbose = false)\n",
    "nzind = find(abs.(D * l0pen) .> 1e-8);\n",
    "tp    = length(findin(tind, nzind));\n",
    "println(\"mse: \", norm(y-l0pen)^2/p,\" fdr: \", 1 - tp/length(nzind),\" power : \", tp/length(tind))"
   ]
  },
  {
   "cell_type": "code",
   "execution_count": 71,
   "metadata": {},
   "outputs": [
    {
     "name": "stdout",
     "output_type": "stream",
     "text": [
      "score: 19799.687925568465 and # of comp: 10\n",
      "score: 19773.748526045794 and # of comp: 4\n",
      "score: 19773.748526045794 and # of comp: 4\n",
      "score: 19773.748526045794 and # of comp: 4\n",
      "score: 19773.748526045794 and # of comp: 4\n",
      "score: 19773.748526045794 and # of comp: 4\n",
      "score: 19773.748526045794 and # of comp: 4\n",
      "score: 19773.748526045794 and # of comp: 4\n",
      "score: 19773.748526045794 and # of comp: 4\n",
      "score: 19784.95896315207 and # of comp: 4\n",
      "score: 19926.754417525037 and # of comp: 7\n",
      "score: 20353.519720156575 and # of comp: 7\n",
      "score: 20525.13712634944 and # of comp: 6\n",
      "score: 20528.65737695159 and # of comp: 5\n",
      "score: 20547.570053147923 and # of comp: 9\n",
      "score: 20550.220763536636 and # of comp: 5\n",
      "score: 20605.099021030703 and # of comp: 6\n",
      "score: 23360.10321344413 and # of comp: 35\n",
      "score: 23248.94543055043 and # of comp: 1\n",
      "score: 23248.94543055043 and # of comp: 1\n"
     ]
    }
   ],
   "source": [
    "srand(1);\n",
    "y = 3 * col +  rand(length(col));\n",
    "bgsm = zeros(length(y),20);\n",
    "for i = 1:20\n",
    "    res1      = BGSM_effective_resistance(y,D,R, v0 = 1e-3 * 2 * 1.4^i, b = size(D,1), verbose = false);\n",
    "    mss1      = model_selection(res1);\n",
    "    bgsm[:,i] = mss1[:beta]\n",
    "    println(\"score: \", mss1[:score],\" and # of comp: \",length(mss1[:c]))\n",
    "end"
   ]
  },
  {
   "cell_type": "code",
   "execution_count": 79,
   "metadata": {},
   "outputs": [
    {
     "name": "stdout",
     "output_type": "stream",
     "text": [
      "score: 19773.748526045794 and # of comp: 4\n",
      "mse: 0.08387687951880218 fdr: 0.0 power : 1.0\n"
     ]
    }
   ],
   "source": [
    "srand(1);\n",
    "y         = 3 * col +  rand(length(col));\n",
    "res1      = BGSM_effective_resistance(y,D,R, v0 = 1e-3 * 2 * 1.4^5, b = size(D,1), verbose = false);\n",
    "mss1      = model_selection(res1);\n",
    "println(\"score: \", mss1[:score],\" and # of comp: \",length(mss1[:c]))\n",
    "nzind     = find(abs.(D * mss1[:beta]) .> 1e-8);\n",
    "tp        = length(findin(tind, nzind));\n",
    "println(\"mse: \", norm(y-mss1[:beta])^2/p,\" fdr: \", 1 - tp/length(nzind),\" power : \", tp/length(tind))"
   ]
  },
  {
   "cell_type": "code",
   "execution_count": null,
   "metadata": {},
   "outputs": [],
   "source": [
    "score: 20285.88402593696 and # of comp: 121\n",
    "score: 19898.489455920884 and # of comp: 33\n",
    "score: 19799.687925568465 and # of comp: 10\n",
    "score: 19773.748526045794 and # of comp: 4\n",
    "score: 19773.748526045794 and # of comp: 4\n",
    "score: 19773.748526045794 and # of comp: 4\n",
    "score: 19773.748526045794 and # of comp: 4\n",
    "score: 19773.748526045794 and # of comp: 4\n",
    "score: 19773.748526045794 and # of comp: 4\n",
    "score: 19773.748526045794 and # of comp: 4\n",
    "score: 19773.748526045794 and # of comp: 4\n",
    "score: 19782.050487646295 and # of comp: 4\n",
    "score: 19888.57011529519 and # of comp: 5\n",
    "score: 20353.519720156575 and # of comp: 7\n",
    "score: 20525.13712634944 and # of comp: 6\n",
    "score: 20528.65737695159 and # of comp: 5\n",
    "score: 20547.570053147923 and # of comp: 9\n",
    "score: 20550.220763536636 and # of comp: 5\n",
    "score: 20614.067214498984 and # of comp: 8\n",
    "score: 23370.166241295923 and # of comp: 37"
   ]
  },
  {
   "cell_type": "code",
   "execution_count": 62,
   "metadata": {},
   "outputs": [
    {
     "name": "stdout",
     "output_type": "stream",
     "text": [
      "mse: 1.0518294913817359 fdr: 0.04892205638474301 power : 0.7529540481400437\n",
      "mse: 0.6457127117804858 fdr: 0.03722019781363872 power : 0.8094091903719912\n",
      "mse: 0.4389786575765318 fdr: 0.031786074672048414 power : 0.8398249452954049\n",
      "mse: 0.23042434309604537 fdr: 0.02686778222955455 power : 0.9035010940919037\n",
      "mse: 0.13198465699728584 fdr: 0.010662431941923733 power : 0.9542669584245077\n",
      "mse: 0.10098025189209565 fdr: 0.010685663401602818 power : 0.9724288840262582\n",
      "mse: 0.08612444200520927 fdr: 0.012179208351457138 power : 0.9938730853391685\n",
      "mse: 0.08071760972331984 fdr: 0.03627161535217205 power : 1.0\n",
      "mse: 0.07591919553019674 fdr: 0.1060250391236307 power : 1.0\n",
      "mse: 0.06626400597221509 fdr: 0.2365519545606415 power : 1.0\n",
      "mse: 0.05221676790006594 fdr: 0.3452722063037249 power : 1.0\n",
      "mse: 0.03666669219518331 fdr: 0.43208649186032067 power : 1.0\n",
      "mse: 0.027631196216344557 fdr: 0.4782509418883434 power : 1.0\n",
      "mse: 0.023701211153300195 fdr: 0.4983534577387486 power : 1.0\n",
      "mse: 0.022196901092726977 fdr: 0.5069586794691985 power : 1.0\n",
      "mse: 0.021350729395561426 fdr: 0.5150164491138703 power : 1.0\n",
      "mse: 0.021035371209750714 fdr: 0.5184912021915499 power : 1.0\n",
      "mse: 0.020865697087999287 fdr: 0.5216663177726606 power : 1.0\n",
      "mse: 0.02080317562051168 fdr: 0.5233625365039634 power : 1.0\n",
      "mse: 0.020777153646553116 fdr: 0.524948024948025 power : 1.0\n"
     ]
    }
   ],
   "source": [
    "srand(1)\n",
    "y = 3 * col +  rand(length(col));\n",
    "l0pen = 0;\n",
    "for i = 1:20\n",
    "    l0pen = GraphSegment.GraphSegment(y,edges, 1.5^(8-i), weights = R, delta = 1, verbose = false);\n",
    "    nzind = find(abs.(D * l0pen) .> 1e-8);\n",
    "    tp    = length(findin(tind, nzind));\n",
    "    println(\"mse: \", norm(y-l0pen)^2/p,\" fdr: \", 1 - tp/length(nzind),\" power : \", tp/length(tind))\n",
    "end"
   ]
  },
  {
   "cell_type": "code",
   "execution_count": 128,
   "metadata": {},
   "outputs": [
    {
     "name": "stdout",
     "output_type": "stream",
     "text": [
      "1\n",
      "2\n",
      "3\n",
      "4\n",
      "5\n",
      "mse: 0.13198465699728584 fdr: 0.010662431941923733 power : 0.9542669584245077\n"
     ]
    }
   ],
   "source": [
    "srand(1)\n",
    "y = 3 * col +  rand(length(col));\n",
    "B     = 5;\n",
    "err   = zeros(20, B);\n",
    "out_l0pen = 0;\n",
    "srand(1);\n",
    "for b = 1:B\n",
    "    println(b);\n",
    "    for i = 1:20\n",
    "        out_l0pen = GraphSegment.GraphSegment(y,edges, 1.5^(8-i), delta = 1, weights = R, verbose = false);\n",
    "        sigma     = 1;\n",
    "        alpha     = 0.2;\n",
    "        z         = alpha * sigma * randn(p);\n",
    "        y1        = y + z;\n",
    "        y2        = y - z/alpha^2;\n",
    "        mu1       = GraphSegment.GraphSegment(y1,edges, 1.5^(8-i), delta = 1, weights = R, verbose = false);\n",
    "        err[i,b]  = norm(y2 - mu1)^2/p;\n",
    "    end\n",
    "end\n",
    "l0pen = GraphSegment.GraphSegment(y,edges, 1.5^(8-findmin(sum(err,2))[2]), delta = 1, weights = R, verbose = false)\n",
    "nzind = find(abs.(D * l0pen) .> 1e-8);\n",
    "tp    = length(findin(tind, nzind));\n",
    "println(\"mse: \", norm(y-l0pen)^2/p,\" fdr: \", 1 - tp/length(nzind),\" power : \", tp/length(tind))"
   ]
  },
  {
   "cell_type": "code",
   "execution_count": null,
   "metadata": {},
   "outputs": [],
   "source": [
    "srand(1);\n",
    "y = 4 * col +  rand(length(col));\n",
    "bgsm = zeros(length(y),20);\n",
    "for i = 1:20\n",
    "    res1      = BGSM_effective_resistance(y,D,R, v0 = 1e-3 * 1.4^i, b = size(D,1), verbose = false);\n",
    "    mss1      = model_selection(res1);\n",
    "    bgsm[:,i] = mss1[:beta]\n",
    "    println(\"score: \", mss1[:score],\" and # of comp: \",length(mss1[:c]))\n",
    "end"
   ]
  },
  {
   "cell_type": "code",
   "execution_count": null,
   "metadata": {},
   "outputs": [],
   "source": [
    "score: 19821.35611975347 and # of comp: 15\n",
    "score: 19773.748526046402 and # of comp: 4\n",
    "score: 19773.748526046402 and # of comp: 4\n",
    "score: 19773.748526046402 and # of comp: 4\n",
    "score: 19773.748526046402 and # of comp: 4\n",
    "score: 19773.748526046402 and # of comp: 4\n",
    "score: 19773.748526046402 and # of comp: 4\n",
    "score: 19773.748526046402 and # of comp: 4\n",
    "score: 19773.748526046402 and # of comp: 4\n",
    "score: 19773.748526046402 and # of comp: 4\n",
    "score: 19773.748526046402 and # of comp: 4\n",
    "score: 19775.530715949142 and # of comp: 4\n",
    "score: 19845.400031627396 and # of comp: 5\n",
    "score: 20064.73920023877 and # of comp: 8\n",
    "score: 20124.806328552044 and # of comp: 10\n",
    "score: 20129.65931946699 and # of comp: 10\n",
    "score: 20135.008106032954 and # of comp: 11\n",
    "score: 20671.619586371035 and # of comp: 13\n",
    "score: 20990.440174843003 and # of comp: 10\n",
    "score: 21018.250020787767 and # of comp: 9"
   ]
  },
  {
   "cell_type": "code",
   "execution_count": 83,
   "metadata": {},
   "outputs": [
    {
     "name": "stdout",
     "output_type": "stream",
     "text": [
      "score: 19773.748526046402 and # of comp: 4\n",
      "mse: 0.08387687951987512 fdr: 0.0 power : 1.0\n"
     ]
    }
   ],
   "source": [
    "srand(1);\n",
    "y         = 4 * col +  rand(length(col));\n",
    "res1      = BGSM_effective_resistance(y,D,R, v0 = 1e-3 * 1.4^5, b = size(D,1), verbose = false);\n",
    "mss1      = model_selection(res1);\n",
    "println(\"score: \", mss1[:score],\" and # of comp: \",length(mss1[:c]))\n",
    "nzind     = find(abs.(D * mss1[:beta]) .> 1e-8);\n",
    "tp        = length(findin(tind, nzind));\n",
    "println(\"mse: \", norm(y-mss1[:beta])^2/p,\" fdr: \", 1 - tp/length(nzind),\" power : \", tp/length(tind))"
   ]
  },
  {
   "cell_type": "code",
   "execution_count": 81,
   "metadata": {},
   "outputs": [
    {
     "name": "stdout",
     "output_type": "stream",
     "text": [
      "mse: 0.8267255068229964 fdr: 0.035705177250701325 power : 0.8273522975929978\n",
      "mse: 0.3631092838921691 fdr: 0.025992438563327003 power : 0.9019693654266958\n",
      "mse: 0.20096012796482582 fdr: 0.012802926383173263 power : 0.9448577680525164\n",
      "mse: 0.13092259452172855 fdr: 0.00784577449002466 power : 0.9684901531728666\n",
      "mse: 0.10479893968674958 fdr: 0.004662522202486641 power : 0.9809628008752735\n",
      "mse: 0.0867967650500517 fdr: 0.005030621172353422 power : 0.9954048140043764\n",
      "mse: 0.08261158756248291 fdr: 0.01146441704520873 power : 1.0\n",
      "mse: 0.08071760972331984 fdr: 0.03627161535217205 power : 1.0\n",
      "mse: 0.07591919553019674 fdr: 0.1060250391236307 power : 1.0\n",
      "mse: 0.06626400597221509 fdr: 0.2365519545606415 power : 1.0\n",
      "mse: 0.05221676790006594 fdr: 0.3452722063037249 power : 1.0\n",
      "mse: 0.03666669219518332 fdr: 0.43208649186032067 power : 1.0\n",
      "mse: 0.027631196216344567 fdr: 0.4782509418883434 power : 1.0\n",
      "mse: 0.023701211153300202 fdr: 0.4983534577387486 power : 1.0\n",
      "mse: 0.022196901092726977 fdr: 0.5069586794691985 power : 1.0\n",
      "mse: 0.021350729395561426 fdr: 0.5150164491138703 power : 1.0\n",
      "mse: 0.02103537120975072 fdr: 0.5184912021915499 power : 1.0\n",
      "mse: 0.020865697087999287 fdr: 0.5216663177726606 power : 1.0\n",
      "mse: 0.02080317562051168 fdr: 0.5233625365039634 power : 1.0\n",
      "mse: 0.020777153646553116 fdr: 0.524948024948025 power : 1.0\n"
     ]
    }
   ],
   "source": [
    "srand(1)\n",
    "y = 4 * col +  rand(length(col));\n",
    "l0pen = 0;\n",
    "for i = 1:20\n",
    "    l0pen = GraphSegment.GraphSegment(y,edges, 1.5^(8-i), weights = R, delta = 1, verbose = false);\n",
    "    nzind = find(abs.(D * l0pen) .> 1e-8);\n",
    "    tp    = length(findin(tind, nzind));\n",
    "    println(\"mse: \", norm(y-l0pen)^2/p,\" fdr: \", 1 - tp/length(nzind),\" power : \", tp/length(tind))\n",
    "end"
   ]
  },
  {
   "cell_type": "code",
   "execution_count": 129,
   "metadata": {},
   "outputs": [
    {
     "name": "stdout",
     "output_type": "stream",
     "text": [
      "1\n",
      "2\n",
      "3\n",
      "4\n",
      "5\n",
      "mse: 0.13092259452172855 fdr: 0.00784577449002466 power : 0.9684901531728666\n"
     ]
    }
   ],
   "source": [
    "srand(1)\n",
    "y = 4 * col +  rand(length(col));\n",
    "B     = 5;\n",
    "err   = zeros(20, B);\n",
    "out_l0pen = 0;\n",
    "srand(1);\n",
    "for b = 1:B\n",
    "    println(b);\n",
    "    for i = 1:20\n",
    "        out_l0pen = GraphSegment.GraphSegment(y,edges, 1.5^(8-i), delta = 1, weights = R, verbose = false);\n",
    "        sigma     = 1;\n",
    "        alpha     = 0.2;\n",
    "        z         = alpha * sigma * randn(p);\n",
    "        y1        = y + z;\n",
    "        y2        = y - z/alpha^2;\n",
    "        mu1       = GraphSegment.GraphSegment(y1,edges, 1.5^(8-i), delta = 1, weights = R, verbose = false);\n",
    "        err[i,b]  = norm(y2 - mu1)^2/p;\n",
    "    end\n",
    "end\n",
    "l0pen = GraphSegment.GraphSegment(y,edges, 1.5^(8-findmin(sum(err,2))[2]), delta = 1, weights = R, verbose = false)\n",
    "nzind = find(abs.(D * l0pen) .> 1e-8);\n",
    "tp    = length(findin(tind, nzind));\n",
    "println(\"mse: \", norm(y-l0pen)^2/p,\" fdr: \", 1 - tp/length(nzind),\" power : \", tp/length(tind))"
   ]
  },
  {
   "cell_type": "code",
   "execution_count": null,
   "metadata": {},
   "outputs": [],
   "source": [
    "srand(1);\n",
    "y = 5 * col +  rand(length(col));\n",
    "bgsm = zeros(length(y),20);\n",
    "for i = 1:20\n",
    "    res1      = BGSM_effective_resistance(y,D,R, v0 = 1e-3 * 1.4^i, b = size(D,1), verbose = false);\n",
    "    mss1      = model_selection(res1);\n",
    "    bgsm[:,i] = mss1[:beta]\n",
    "    println(\"score: \", mss1[:score],\" and # of comp: \",length(mss1[:c]))\n",
    "end"
   ]
  },
  {
   "cell_type": "code",
   "execution_count": null,
   "metadata": {},
   "outputs": [],
   "source": [
    "score: 19773.748526047188 and # of comp: 4\n",
    "score: 19773.748526047188 and # of comp: 4\n",
    "score: 19773.748526047188 and # of comp: 4\n",
    "score: 19773.748526047188 and # of comp: 4\n",
    "score: 19773.748526047188 and # of comp: 4\n",
    "score: 19773.748526047188 and # of comp: 4\n",
    "score: 19773.748526047188 and # of comp: 4\n",
    "score: 19773.748526047188 and # of comp: 4\n",
    "score: 19773.748526047188 and # of comp: 4\n",
    "score: 19773.748526047188 and # of comp: 4\n",
    "score: 19773.748526047188 and # of comp: 4\n",
    "score: 19773.748526047188 and # of comp: 4\n",
    "score: 19818.80366910341 and # of comp: 5\n",
    "score: 20039.194933336898 and # of comp: 9\n",
    "score: 20097.1650249767 and # of comp: 12\n",
    "score: 20202.7333784069 and # of comp: 13\n",
    "score: 20126.87199021805 and # of comp: 14\n",
    "score: 20095.37225347825 and # of comp: 15\n",
    "score: 20071.250232969574 and # of comp: 17\n",
    "score: 20066.374991969467 and # of comp: 27"
   ]
  },
  {
   "cell_type": "code",
   "execution_count": 93,
   "metadata": {},
   "outputs": [
    {
     "name": "stdout",
     "output_type": "stream",
     "text": [
      "score: 19773.748526047188 and # of comp: 4\n",
      "mse: 0.08387687952125479 fdr: 0.0 power : 1.0\n"
     ]
    }
   ],
   "source": [
    "srand(1);\n",
    "y         = 5 * col +  rand(length(col));\n",
    "res1      = BGSM_effective_resistance(y,D,R, v0 = 1e-3 * 1.4^5, b = size(D,1), verbose = false);\n",
    "mss1      = model_selection(res1);\n",
    "println(\"score: \", mss1[:score],\" and # of comp: \",length(mss1[:c]))\n",
    "nzind     = find(abs.(D * mss1[:beta]) .> 1e-8);\n",
    "tp        = length(findin(tind, nzind));\n",
    "println(\"mse: \", norm(y-mss1[:beta])^2/p,\" fdr: \", 1 - tp/length(nzind),\" power : \", tp/length(tind))"
   ]
  },
  {
   "cell_type": "code",
   "execution_count": 61,
   "metadata": {},
   "outputs": [
    {
     "name": "stdout",
     "output_type": "stream",
     "text": [
      "mse: 0.4700634932095659 fdr: 0.025176470588235245 power : 0.9065645514223195\n",
      "mse: 0.23821126522574892 fdr: 0.009543285616905206 power : 0.9538293216630197\n",
      "mse: 0.13532395958899485 fdr: 0.0062611806797853164 power : 0.9724288840262582\n",
      "mse: 0.09446396606350393 fdr: 0.0013192612137202797 power : 0.9938730853391685\n",
      "mse: 0.08350013780376078 fdr: 0.0021834061135370675 power : 1.0\n",
      "mse: 0.08323112735144393 fdr: 0.004357298474945481 power : 1.0\n",
      "mse: 0.08261158756248291 fdr: 0.01146441704520873 power : 1.0\n",
      "mse: 0.08071760972331984 fdr: 0.03627161535217205 power : 1.0\n",
      "mse: 0.07591919553019674 fdr: 0.1060250391236307 power : 1.0\n",
      "mse: 0.06626400597221509 fdr: 0.2365519545606415 power : 1.0\n",
      "mse: 0.05221676790006594 fdr: 0.3452722063037249 power : 1.0\n",
      "mse: 0.03666669219518332 fdr: 0.43208649186032067 power : 1.0\n",
      "mse: 0.027631196216344567 fdr: 0.4782509418883434 power : 1.0\n",
      "mse: 0.023701211153300202 fdr: 0.4983534577387486 power : 1.0\n",
      "mse: 0.022196901092726977 fdr: 0.5069586794691985 power : 1.0\n",
      "mse: 0.021350729395561426 fdr: 0.5150164491138703 power : 1.0\n",
      "mse: 0.02103537120975072 fdr: 0.5184912021915499 power : 1.0\n",
      "mse: 0.020865697087999287 fdr: 0.5216663177726606 power : 1.0\n",
      "mse: 0.02080317562051168 fdr: 0.5233625365039634 power : 1.0\n",
      "mse: 0.020777153646553116 fdr: 0.524948024948025 power : 1.0\n"
     ]
    }
   ],
   "source": [
    "srand(1)\n",
    "y = 5 * col +  rand(length(col));\n",
    "l0pen = 0;\n",
    "for i = 1:20\n",
    "    l0pen = GraphSegment.GraphSegment(y,edges, 1.5^(8-i), weights = R, delta = 1, verbose = false);\n",
    "    nzind = find(abs.(D * l0pen) .> 1e-8);\n",
    "    tp    = length(findin(tind, nzind));\n",
    "    println(\"mse: \", norm(y-l0pen)^2/p,\" fdr: \", 1 - tp/length(nzind),\" power : \", tp/length(tind))\n",
    "end"
   ]
  },
  {
   "cell_type": "code",
   "execution_count": 131,
   "metadata": {},
   "outputs": [
    {
     "name": "stdout",
     "output_type": "stream",
     "text": [
      "1\n",
      "2\n",
      "3\n",
      "4\n",
      "5\n",
      "mse: 0.09446396606350393 fdr: 0.0013192612137202797 power : 0.9938730853391685\n"
     ]
    }
   ],
   "source": [
    "srand(1)\n",
    "y = 5 * col +  rand(length(col));\n",
    "B     = 5;\n",
    "err   = zeros(20, B);\n",
    "out_l0pen = 0;\n",
    "srand(1);\n",
    "for b = 1:B\n",
    "    println(b);\n",
    "    for i = 1:20\n",
    "        out_l0pen = GraphSegment.GraphSegment(y,edges, 1.5^(8-i), delta = 1, weights = R, verbose = false);\n",
    "        sigma     = 1;\n",
    "        alpha     = 0.2;\n",
    "        z         = alpha * sigma * randn(p);\n",
    "        y1        = y + z;\n",
    "        y2        = y - z/alpha^2;\n",
    "        mu1       = GraphSegment.GraphSegment(y1,edges, 1.5^(8-i), delta = 1, weights = R, verbose = false);\n",
    "        err[i,b]  = norm(y2 - mu1)^2/p;\n",
    "    end\n",
    "end\n",
    "l0pen = GraphSegment.GraphSegment(y,edges, 1.5^(8-findmin(sum(err,2))[2]), delta = 1, weights = R, verbose = false)\n",
    "nzind = find(abs.(D * l0pen) .> 1e-8);\n",
    "tp    = length(findin(tind, nzind));\n",
    "println(\"mse: \", norm(y-l0pen)^2/p,\" fdr: \", 1 - tp/length(nzind),\" power : \", tp/length(tind))"
   ]
  },
  {
   "cell_type": "code",
   "execution_count": 92,
   "metadata": {},
   "outputs": [
    {
     "name": "stdout",
     "output_type": "stream",
     "text": [
      "mse: 0.09446396606350393 fdr: 0.0013192612137202797 power : 0.9938730853391685\n"
     ]
    }
   ],
   "source": [
    "l0pen = GraphSegment.GraphSegment(y,edges, 1.5^(8-4), weights = R, delta = 1, verbose = false);\n",
    "nzind = find(abs.(D * l0pen) .> 1e-8);\n",
    "tp    = length(findin(tind, nzind));\n",
    "println(\"mse: \", norm(y-l0pen)^2/p,\" fdr: \", 1 - tp/length(nzind),\" power : \", tp/length(tind))"
   ]
  },
  {
   "cell_type": "code",
   "execution_count": 216,
   "metadata": {},
   "outputs": [],
   "source": [
    "df = DataFrame(mse = mse[:], fdr = fdr[:], power = power[:],\n",
    "                signal = [1:5;1:5;1:5], method = repeat([\"BGSM\",\"Genlasso\",\"L0pen\"], inner = 5))\n",
    "CSV.write(\"result/enron1.txt\", df, delim = ',');"
   ]
  },
  {
   "cell_type": "code",
   "execution_count": 106,
   "metadata": {},
   "outputs": [],
   "source": [
    "mse = zeros(5,3); fdr = zeros(5,3); power = zeros(5,3);"
   ]
  },
  {
   "cell_type": "code",
   "execution_count": 147,
   "metadata": {},
   "outputs": [],
   "source": [
    "X = pinv(full(D)); R\"library(glmnet);\"; @rput X;"
   ]
  },
  {
   "cell_type": "code",
   "execution_count": 186,
   "metadata": {},
   "outputs": [
    {
     "name": "stdout",
     "output_type": "stream",
     "text": [
      "mse: 9.252736759647846 fdr: 0.3312741312741313 power : 0.18949671772428883\n"
     ]
    }
   ],
   "source": [
    "y = 1 * col +  rand(length(col));\n",
    "@rput y; \n",
    "R\"y = y - mean(y);\n",
    "res1 = cv.glmnet(X, y, family='gaussian', standardize = FALSE);\";\n",
    "R\"genl = coef(res1)[-1];\"; @rget genl;\n",
    "nzind = find(abs.(genl) .> 1e-8);\n",
    "println(\"mse: \", norm(y-X * genl)^2/p,\" fdr: \", 1 - tp/length(nzind),\" power : \", tp/length(tind))"
   ]
  },
  {
   "cell_type": "code",
   "execution_count": 187,
   "metadata": {},
   "outputs": [
    {
     "name": "stdout",
     "output_type": "stream",
     "text": [
      "mse: 31.140736602892417 fdr: 0.304975922953451 power : 0.18949671772428883\n"
     ]
    }
   ],
   "source": [
    "y = 2 * col +  rand(length(col));\n",
    "@rput y; \n",
    "R\"y = y - mean(y);\n",
    "res2 = cv.glmnet(X, y, family='gaussian', standardize = FALSE);\";\n",
    "R\"genl = coef(res2)[-1];\"; @rget genl;\n",
    "nzind = find(abs.(genl) .> 1e-8);\n",
    "println(\"mse: \", norm(y-X * genl)^2/p,\" fdr: \", 1 - tp/length(nzind),\" power : \", tp/length(tind))"
   ]
  },
  {
   "cell_type": "code",
   "execution_count": 188,
   "metadata": {},
   "outputs": [
    {
     "name": "stdout",
     "output_type": "stream",
     "text": [
      "mse: 65.99406937587976 fdr: 0.31649565903709553 power : 0.18949671772428883\n"
     ]
    }
   ],
   "source": [
    "y = 3 * col +  rand(length(col));\n",
    "@rput y; \n",
    "R\"y = y - mean(y);\n",
    "res3 = cv.glmnet(X, y, family='gaussian', standardize = FALSE);\";\n",
    "R\"genl = coef(res3)[-1];\"; @rget genl;\n",
    "nzind = find(abs.(genl) .> 1e-8);\n",
    "println(\"mse: \", norm(y-X * genl)^2/p,\" fdr: \", 1 - tp/length(nzind),\" power : \", tp/length(tind))"
   ]
  },
  {
   "cell_type": "code",
   "execution_count": 189,
   "metadata": {},
   "outputs": [
    {
     "name": "stdout",
     "output_type": "stream",
     "text": [
      "mse: 114.0042595261158 fdr: 0.2765246449456976 power : 0.18949671772428883\n"
     ]
    }
   ],
   "source": [
    "y = 4 * col +  rand(length(col));\n",
    "@rput y; \n",
    "R\"y = y - mean(y);\n",
    "res4 = cv.glmnet(X, y, family='gaussian', standardize = FALSE);\";\n",
    "R\"genl = coef(res4)[-1];\"; @rget genl;\n",
    "nzind = find(abs.(genl) .> 1e-8);\n",
    "println(\"mse: \", norm(y-X * genl)^2/p,\" fdr: \", 1 - tp/length(nzind),\" power : \", tp/length(tind))"
   ]
  },
  {
   "cell_type": "code",
   "execution_count": 190,
   "metadata": {},
   "outputs": [
    {
     "name": "stdout",
     "output_type": "stream",
     "text": [
      "mse: 9.312360129774417 fdr: 0.29878542510121453 power : 0.18949671772428883\n"
     ]
    }
   ],
   "source": [
    "y = 5 * col +  rand(length(col));\n",
    "@rput y; \n",
    "R\"y = y - mean(y);\n",
    "res5 = cv.glmnet(X, y, family='gaussian', standardize = FALSE);\";\n",
    "R\"genl = coef(res5)[-1];\"; @rget genl;\n",
    "nzind = find(abs.(genl) .> 1e-8);\n",
    "println(\"mse: \", norm(y - mean(y) - X * genl)^2/p,\" fdr: \", 1 - tp/length(nzind),\" power : \", tp/length(tind))"
   ]
  },
  {
   "cell_type": "code",
   "execution_count": 212,
   "metadata": {},
   "outputs": [
    {
     "name": "stdout",
     "output_type": "stream",
     "text": [
      "mse: 0.4590461936685914 fdr: 0.6601977842218753 power : 1.0\n",
      "mse: 1.5346344323955565 fdr: 0.6572671366431678 power : 1.0\n",
      "mse: 3.303586209061094 fdr: 0.6576522585961495 power : 1.0\n",
      "mse: 6.236157613164027 fdr: 0.6570099069348544 power : 1.0\n",
      "mse: 9.3487573053296 fdr: 0.6569841627261128 power : 1.0\n"
     ]
    }
   ],
   "source": [
    "y = 1 * col +  rand(length(col));\n",
    "R\"genl = coef(res1)[-1];\"; @rget genl;\n",
    "nzind = find(abs.(D * X * genl) .> 1e-8);\n",
    "tp    = length(findin(tind, nzind));\n",
    "println(\"mse: \", norm(y- mean(y) - X * genl)^2/p,\" fdr: \", 1 - tp/length(nzind),\" power : \", tp/length(tind))\n",
    "y = 2 * col +  rand(length(col));\n",
    "R\"genl = coef(res2)[-1];\"; @rget genl;\n",
    "nzind = find(abs.(D * X * genl) .> 1e-8);\n",
    "tp    = length(findin(tind, nzind));\n",
    "println(\"mse: \", norm(y- mean(y) - X * genl)^2/p,\" fdr: \", 1 - tp/length(nzind),\" power : \", tp/length(tind))\n",
    "y = 3 * col +  rand(length(col));\n",
    "R\"genl = coef(res3)[-1];\"; @rget genl;\n",
    "nzind = find(abs.(D * X * genl) .> 1e-8);\n",
    "tp    = length(findin(tind, nzind));\n",
    "println(\"mse: \", norm(y- mean(y) - X * genl)^2/p,\" fdr: \", 1 - tp/length(nzind),\" power : \", tp/length(tind))\n",
    "y = 4 * col +  rand(length(col));\n",
    "R\"genl = coef(res4)[-1];\"; @rget genl;\n",
    "nzind = find(abs.(D * X * genl) .> 1e-8);\n",
    "tp    = length(findin(tind, nzind));\n",
    "println(\"mse: \", norm(y- mean(y) - X * genl)^2/p,\" fdr: \", 1 - tp/length(nzind),\" power : \", tp/length(tind))\n",
    "y = 5 * col +  rand(length(col));\n",
    "R\"genl = coef(res5)[-1];\"; @rget genl;\n",
    "nzind = find(abs.(D * X * genl) .> 1e-8);\n",
    "tp    = length(findin(tind, nzind));\n",
    "println(\"mse: \", norm(y- mean(y) - X * genl)^2/p,\" fdr: \", 1 - tp/length(nzind),\" power : \", tp/length(tind))"
   ]
  }
 ],
 "metadata": {
  "kernelspec": {
   "display_name": "Julia 0.6.2",
   "language": "julia",
   "name": "julia-0.6"
  },
  "language_info": {
   "file_extension": ".jl",
   "mimetype": "application/julia",
   "name": "julia",
   "version": "0.6.2"
  }
 },
 "nbformat": 4,
 "nbformat_minor": 2
}

{
 "cells": [
  {
   "cell_type": "markdown",
   "metadata": {},
   "source": [
    "Pkg.add(\"Distributions.jl\")"
   ]
  },
  {
   "cell_type": "code",
   "execution_count": 2,
   "metadata": {},
   "outputs": [],
   "source": [
    "using Distributions, PyPlot"
   ]
  },
  {
   "cell_type": "code",
   "execution_count": 1,
   "metadata": {},
   "outputs": [],
   "source": [
    "type LeagueObject\n",
    "    n_teams::Int64\n",
    "    n_games::Int64\n",
    "    lambda::Array{Float64,1}\n",
    "end"
   ]
  },
  {
   "cell_type": "code",
   "execution_count": 12,
   "metadata": {},
   "outputs": [],
   "source": [
    "import Base.getindex"
   ]
  },
  {
   "cell_type": "code",
   "execution_count": 20,
   "metadata": {},
   "outputs": [
    {
     "data": {
      "text/plain": [
       "getindex (generic function with 219 methods)"
      ]
     },
     "execution_count": 20,
     "metadata": {},
     "output_type": "execute_result"
    }
   ],
   "source": [
    "function getindex(l::LeagueObject, d::Symbol)\n",
    "    if     d == :t   return l.n_teams\n",
    "    elseif d == :g   return l.n_games\n",
    "    elseif d == :l   return l.lambda\n",
    "    elseif d == :s   return Int64(l.n_games * l.n_teams * (l.n_teams - 1)/2)\n",
    "    elseif d == :e   return Int64(l.n_games * l.n_teams/2)\n",
    "    else             throw(KeyError(d))\n",
    "    end\n",
    "end"
   ]
  },
  {
   "cell_type": "code",
   "execution_count": 79,
   "metadata": {},
   "outputs": [
    {
     "data": {
      "text/plain": [
       "league_table (generic function with 1 method)"
      ]
     },
     "execution_count": 79,
     "metadata": {},
     "output_type": "execute_result"
    }
   ],
   "source": [
    "function league_table(l::LeagueObject; names = true)\n",
    "    table = [repeat(1:l[:t],inner = l[:e]) repeat(1:l[:t],outer = l[:e])];\n",
    "    table = table[find(table[:,1] .!= table[:,2]),:];\n",
    "    table = [table table];\n",
    "    for i = 1:size(table,1)\n",
    "        table[i,3] = rand(Poisson(l[:l][table[i,1]]),1)[1];\n",
    "        table[i,4] = rand(Poisson(l[:l][table[i,2]]),1)[1];\n",
    "    end\n",
    "    if names == true table = [\"home\" \"away\" \"score1\" \"score2\"; table];\n",
    "    end\n",
    "    return table\n",
    "end"
   ]
  },
  {
   "cell_type": "code",
   "execution_count": 83,
   "metadata": {},
   "outputs": [
    {
     "data": {
      "text/plain": [
       "league_ranking (generic function with 1 method)"
      ]
     },
     "execution_count": 83,
     "metadata": {},
     "output_type": "execute_result"
    }
   ],
   "source": [
    "function league_ranking(l::LeagueObject, table::Array{Int64,2}; names = true)\n",
    "    [\"team\" \"rank\" \"win\" \"draw\" \"lose\" \"gf\" \"gl\" \"gd\" \"points\"]\n",
    "    ranking = Array{Int64,2}(zeros(l[:t],9));\n",
    "    ranking[:,1] = 1:l[:t];\n",
    "    for i = 1:size(table,1)\n",
    "        if table[i,3] > table[i,4]\n",
    "            ranking[table[i,1],3] += 1; ranking[table[i,1],end] += 3; # home win\n",
    "            ranking[table[i,2],5] += 1;                               # away lose\n",
    "        elseif table[i,3] < table[i,4]\n",
    "            ranking[table[i,2],3] += 1; ranking[table[i,2],end] += 3; # away win\n",
    "            ranking[table[i,1],5] += 1;                               # home lose\n",
    "        else\n",
    "            ranking[table[i,1],4] += 1; ranking[table[i,1],end] += 1; # home draw\n",
    "            ranking[table[i,2],4] += 1; ranking[table[i,2],end] += 1; # away draw\n",
    "        end\n",
    "        ranking[table[i,1],6] += table[i,3]; ranking[table[i,2],7] += table[i,3]; # goal for home/against away\n",
    "        ranking[table[i,2],6] += table[i,4]; ranking[table[i,1],7] += table[i,4]; # goal for away/against home\n",
    "    end\n",
    "    ranking[:,8] = ranking[:,6] - ranking[:,7]; # goal difference\n",
    "    ranking[:,2] = \n",
    "    \n",
    "    if names == true ranking = [\"team\" \"rank\" \"win\" \"draw\" \"lose\" \"gf\" \"gl\" \"gd\" \"points\"; ranking];\n",
    "    end\n",
    "    return ranking\n",
    "end"
   ]
  },
  {
   "cell_type": "code",
   "execution_count": 104,
   "metadata": {},
   "outputs": [
    {
     "data": {
      "text/plain": [
       "20-element Array{Int64,1}:\n",
       " 71\n",
       " 47\n",
       " 23\n",
       " 82\n",
       " 17\n",
       " 45\n",
       " 61\n",
       " 37\n",
       " 28\n",
       " 47\n",
       " 60\n",
       " 68\n",
       " 83\n",
       " 33\n",
       " 18\n",
       " 49\n",
       " 38\n",
       " 74\n",
       " 71\n",
       " 60"
      ]
     },
     "execution_count": 104,
     "metadata": {},
     "output_type": "execute_result"
    }
   ],
   "source": [
    "a = Array{Int64,1}(table[2:end,end])"
   ]
  },
  {
   "cell_type": "code",
   "execution_count": 122,
   "metadata": {},
   "outputs": [
    {
     "data": {
      "text/plain": [
       "20-element Array{Int64,1}:\n",
       " 13\n",
       "  4\n",
       " 18\n",
       "  1\n",
       " 19\n",
       " 12\n",
       "  7\n",
       " 11\n",
       " 20\n",
       " 16\n",
       "  2\n",
       " 10\n",
       "  6\n",
       " 17\n",
       "  8\n",
       " 14\n",
       "  9\n",
       "  3\n",
       " 15\n",
       "  5"
      ]
     },
     "execution_count": 122,
     "metadata": {},
     "output_type": "execute_result"
    }
   ],
   "source": [
    "\n",
    "o = sortperm(a, rev = true);\n",
    "a[o]\n",
    "o"
   ]
  },
  {
   "cell_type": "code",
   "execution_count": 114,
   "metadata": {},
   "outputs": [
    {
     "data": {
      "text/plain": [
       "20-element Array{Int64,1}:\n",
       " 13\n",
       "  4\n",
       " 18\n",
       "  1\n",
       " 19\n",
       " 12\n",
       "  7\n",
       " 11\n",
       " 20\n",
       " 16\n",
       "  2\n",
       " 10\n",
       "  6\n",
       " 17\n",
       "  8\n",
       " 14\n",
       "  9\n",
       "  3\n",
       " 15\n",
       "  5"
      ]
     },
     "execution_count": 114,
     "metadata": {},
     "output_type": "execute_result"
    }
   ],
   "source": [
    "for i = 1:20\n",
    "    if(a[o][i] == a[o][i+1])\n",
    "        o\n",
    "    end\n",
    "end"
   ]
  },
  {
   "cell_type": "code",
   "execution_count": 85,
   "metadata": {},
   "outputs": [
    {
     "data": {
      "text/plain": [
       "LeagueObject(20, 2, [1.53144, 0.816417, 0.12081, 1.79578, 0.0747391, 0.849187, 1.24211, 0.554504, 0.223435, 1.21572, 0.843782, 1.93832, 1.74467, 0.394742, 0.0148155, 0.909222, 0.388409, 1.78032, 1.47989, 1.43662])"
      ]
     },
     "execution_count": 85,
     "metadata": {},
     "output_type": "execute_result"
    }
   ],
   "source": [
    "l = LeagueObject(20,2,rand(20)*2)"
   ]
  },
  {
   "cell_type": "code",
   "execution_count": 86,
   "metadata": {},
   "outputs": [
    {
     "data": {
      "text/plain": [
       "381×4 Array{Any,2}:\n",
       "   \"home\"    \"away\"   \"score1\"   \"score2\"\n",
       "  1         2        0          1        \n",
       "  1         3        2          0        \n",
       "  1         4        1          1        \n",
       "  1         5        1          0        \n",
       "  1         6        2          1        \n",
       "  1         7        1          0        \n",
       "  1         8        0          0        \n",
       "  1         9        2          0        \n",
       "  1        10        2          0        \n",
       "  1        11        1          0        \n",
       "  1        12        2          3        \n",
       "  1        13        0          4        \n",
       "  ⋮                                      \n",
       " 20         8        1          1        \n",
       " 20         9        0          0        \n",
       " 20        10        1          2        \n",
       " 20        11        2          0        \n",
       " 20        12        2          1        \n",
       " 20        13        4          0        \n",
       " 20        14        1          0        \n",
       " 20        15        2          0        \n",
       " 20        16        1          0        \n",
       " 20        17        1          1        \n",
       " 20        18        0          1        \n",
       " 20        19        1          3        "
      ]
     },
     "execution_count": 86,
     "metadata": {},
     "output_type": "execute_result"
    }
   ],
   "source": [
    "table = league_table(l)"
   ]
  },
  {
   "cell_type": "code",
   "execution_count": 93,
   "metadata": {},
   "outputs": [
    {
     "data": {
      "text/plain": [
       "21×9 Array{Any,2}:\n",
       "   \"team\"   \"rank\"    \"win\"    \"draw\"  …    \"gf\"    \"gl\"     \"gd\"    \"points\"\n",
       "  1        0        21        8           58      34       24      71        \n",
       "  2        0        11       14           38      38        0      47        \n",
       "  3        0         0       23            0      28      -28      23        \n",
       "  4        0        24       10           71      24       47      82        \n",
       "  5        0         0       17        …   2      38      -36      17        \n",
       "  6        0        11       12           28      38      -10      45        \n",
       "  7        0        19        4           50      45        5      61        \n",
       "  8        0         8       13           19      38      -19      37        \n",
       "  9        0         4       16           12      40      -28      28        \n",
       " 10        0        13        8        …  34      44      -10      47        \n",
       " 11        0        15       15           28      25        3      60        \n",
       " 12        0        19       11           60      37       23      68        \n",
       " 13        0        25        8           76      27       49      83        \n",
       " 14        0         6       15           12      29      -17      33        \n",
       " 15        0         0       18        …   1      33      -32      18        \n",
       " 16        0        11       16           28      41      -13      49        \n",
       " 17        0         7       17           11      31      -20      38        \n",
       " 18        0        21       11           74      38       36      74        \n",
       " 19        0        21        8           47      29       18      71        \n",
       " 20        0        16       12        …  44      36        8      60        "
      ]
     },
     "execution_count": 93,
     "metadata": {},
     "output_type": "execute_result"
    }
   ],
   "source": [
    "table = league_ranking(l,league_table(l,names = false))"
   ]
  },
  {
   "cell_type": "code",
   "execution_count": null,
   "metadata": {},
   "outputs": [],
   "source": []
  },
  {
   "cell_type": "code",
   "execution_count": 26,
   "metadata": {},
   "outputs": [
    {
     "data": {
      "image/png": "[encoded data removed]",
      "text/plain": [
       "PyPlot.Figure(PyObject <matplotlib.figure.Figure object at 0x1406a4f50>)"
      ]
     },
     "metadata": {},
     "output_type": "display_data"
    }
   ],
   "source": [
    "skel = rand(Skellam(10,20),100000);\n",
    "plt[:hist](skel, 20);"
   ]
  }
 ],
 "metadata": {
  "kernelspec": {
   "display_name": "Julia 0.6.2",
   "language": "julia",
   "name": "julia-0.6"
  },
  "language_info": {
   "file_extension": ".jl",
   "mimetype": "application/julia",
   "name": "julia",
   "version": "0.6.2"
  }
 },
 "nbformat": 4,
 "nbformat_minor": 2
}

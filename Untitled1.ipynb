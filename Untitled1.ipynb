{
 "cells": [
  {
   "cell_type": "code",
   "execution_count": null,
   "metadata": {},
   "outputs": [],
   "source": [
    "using RCall\n",
    "R\"require(cvxbiclustr)\"\n",
    "R\"data(lung)\"\n",
    "R\"lung = as.matrix(lung)\"\n",
    "lung = (@rget lung);"
   ]
  },
  {
   "cell_type": "code",
   "execution_count": null,
   "metadata": {},
   "outputs": [],
   "source": [
    "using PyPlot"
   ]
  },
  {
   "cell_type": "code",
   "execution_count": null,
   "metadata": {},
   "outputs": [],
   "source": [
    "function bayes_rowclust_hidden(Y;v0 = 1e-1, sigma = 1, iter = 1000, k = 2)\n",
    "    n,m = size(Y);\n",
    "    Theta = Y + 0.0 * randn(n,m);\n",
    "    S = randperm(n)[1:k];\n",
    "    Mu = Y[S,:] + 0.0 * randn(k,m);\n",
    "    Q = zeros(n,n);\n",
    "    for i = 1:iter\n",
    "        diff_sq = reshape(sum((repeat(Theta,outer = [k,1]) - repeat(Mu,inner = [n,1])).^2,2),n,k);\n",
    "    #    Q = 1./ (1 + sqrt(v0/v1) * exp.(diff_sq/sigma^2 * (1/v0 - 1/v1)));\n",
    "        Q = exp.(-diff_sq/(v0*sigma^2));\n",
    "        Q = Q./ sum(Q,2);\n",
    "        R = Diagonal(1./sum(Q,1)[:]) * Q';\n",
    "        Theta = (eye(n) + (eye(n) - Q * R)/v0)\\Y;\n",
    "        Mu = R * Theta;\n",
    "    end\n",
    "    return Theta, Mu, Q\n",
    "end"
   ]
  },
  {
   "cell_type": "code",
   "execution_count": null,
   "metadata": {},
   "outputs": [],
   "source": []
  }
 ],
 "metadata": {
  "kernelspec": {
   "display_name": "Julia 0.6.2",
   "language": "julia",
   "name": "julia-0.6"
  },
  "language_info": {
   "file_extension": ".jl",
   "mimetype": "application/julia",
   "name": "julia",
   "version": "0.6.2"
  }
 },
 "nbformat": 4,
 "nbformat_minor": 2
}

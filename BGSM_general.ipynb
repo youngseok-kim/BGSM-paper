{
 "cells": [
  {
   "cell_type": "code",
   "execution_count": 26,
   "metadata": {},
   "outputs": [],
   "source": [
    "using LightGraphs, PyPlot"
   ]
  },
  {
   "cell_type": "code",
   "execution_count": 116,
   "metadata": {},
   "outputs": [
    {
     "data": {
      "text/plain": [
       "BGSM_general (generic function with 1 method)"
      ]
     },
     "execution_count": 116,
     "metadata": {},
     "output_type": "execute_result"
    }
   ],
   "source": [
    "# a function for BGSM_general (Section 2,3)\n",
    "\n",
    "# y : a vector of data\n",
    "# D : graph incidence matrix\n",
    "# X : a design matrix\n",
    "# w : a support vector\n",
    "# nu : a prior precision for alpha\n",
    "# v0, v1 : tuning parameters\n",
    "# a, b : inverse gamma hyperparameters\n",
    "# convtol : convergence tolerance\n",
    "# orthotol : tolerance to check whether w is an eigenvector of X'X\n",
    "# iter : a number of maximum allowed iteration\n",
    "\n",
    "function BGSM_general(    y, D;                                 # a \n",
    "                          X = zeros(0,0), w = zeros(0),         # a design matrix and a support vector\n",
    "                          nu = 0,                               # a prior precision for alpha\n",
    "                          v0 = 1e-1, v1 = 1e4,                  # tuning parameters\n",
    "                          a = 0, b = 1,                         # inverse gamma hyperparmeters\n",
    "                          A = 1, B = 1,                         # beta bernoulli hyperparmeters\n",
    "                          convtol = 1e-10, orthotol = 1e-10,    # tolerances\n",
    "                          iter = 1000,                          # a number of maximum allowed iteration\n",
    "                          verbose = true)                       # verbose option\n",
    "    \n",
    "    # n is the length of vector y\n",
    "    n = length(y);\n",
    "    m,p = size(D);\n",
    "    if verbose == true\n",
    "        println(\"A data \\\"y\\\" has input of length \\\"n\\\" = $n\");\n",
    "        println(\"A graph incidence matrix \\\"D\\\" has input of size (\\\"m\\\" = $m,\\\"p\\\" = $p)\");\n",
    "    end\n",
    "\n",
    "    if size(X) == (0,0)\n",
    "        if verbose == true\n",
    "            println(\"A design matrix \\\"X\\\" has no input: use speye(n) as a default, \\\"n\\\" = $n\");\n",
    "        end\n",
    "        X = speye(n);\n",
    "    elseif size(X,1) != n\n",
    "        error(\"Error: A data \\\"y\\\" has length \\\"n\\\" = $n thus a design matrix \\\"X\\\" must have $n rows.\");\n",
    "    end\n",
    "    \n",
    "    if length(w) == 0\n",
    "        if verbose == true\n",
    "            println(\"A support vector \\\"w\\\" has no input: use ones(p) as a default, \\\"p\\\" = $p\");\n",
    "        end\n",
    "        w = ones(p);\n",
    "    elseif length(w) != p\n",
    "        error(\"Error: A graph incidence matrix \\\"D\\\" has \\\"p\\\" = $p columns thus a support vector \\\"w\\\" must have $p rows.\");\n",
    "    end\n",
    "    \n",
    "    if nu == 0\n",
    "        # orthogonality check\n",
    "        temp = X'*X*w;\n",
    "        alpha = w'*X'*y / norm(w)^2;\n",
    "        if norm(temp/norm(temp) - w/norm(w)) < orthotol && verbose == true\n",
    "            println(\"\\\"w\\\" seems an eigenvector of \\\"X'*X\\\". We use a simpler algorithm.\");\n",
    "        end\n",
    "    elseif nu == Inf\n",
    "        alpha = 0;\n",
    "    else\n",
    "        Error(\"\\\"ν\\\" values other than 0 or ∞ are not being implemented yet.\")\n",
    "    end\n",
    "\n",
    "    # initialization\n",
    "    theta = (X'*X + 1e-4 * speye(p))\\(X'*(y - alpha));\n",
    "    delta = D * theta;\n",
    "    if X == speye(n)\n",
    "        sigmasq = sum((y - alpha).^2)/n;\n",
    "    else\n",
    "        sigmasq = 1;\n",
    "    end\n",
    "    eta = 1/2;\n",
    "    q = ones(m)/2; q_old = copy(q);\n",
    "    if verbose == true\n",
    "        println(\"We initialize at \\\"α\\\" = mean(y), \\\"θ\\\" = y-α, \\\"σ^2\\\" = var(y) and \\\"η\\\" = 1/2\");\n",
    "    end\n",
    "\n",
    "    # loop start\n",
    "    for i = 1:iter\n",
    "        \n",
    "        # E-step : update q and tau\n",
    "        q = 1./( 1 + (1-eta)/eta * sqrt(v0/v1) * exp.(delta.^2/2 * (1/v0 - 1/v1)/sigmasq) );\n",
    "        tau = q/v0 + (1-q)/v1;\n",
    "        \n",
    "        # M-step : update theta, delta, sigma^2\n",
    "        theta = (X'*X + D'*Diagonal(tau)*D) \\ (X'*(y - alpha));\n",
    "        theta = theta - (w'*theta) * w/norm(w)^2; # projection\n",
    "        delta = D * theta;\n",
    "        sigmasq = (sum((y - alpha - X*theta).^2) + sum((delta .* sqrt.(tau)).^2) + b)/(n+m+a+1);\n",
    "\n",
    "        # convergence criterion\n",
    "        err = norm(q - q_old)/length(q);\n",
    "        \n",
    "        # convergence check\n",
    "        if err < convtol\n",
    "            if verbose == true\n",
    "                @printf \"iteration: %d, error: %0.2e\\n\" i err;\n",
    "                println(\"the algorithm converges at $i-th iteration\");\n",
    "            end\n",
    "            break;\n",
    "        end\n",
    "        \n",
    "        # printout\n",
    "        if rem(i,5) == 0 && verbose == true\n",
    "            @printf \"iteration: %d, error: %0.2e\\n\" i err;\n",
    "        end\n",
    "        \n",
    "        # update eta\n",
    "        eta = (sum(q) + A - 1)/(m + A + B - 2);\n",
    "        \n",
    "        # save for convergence check\n",
    "        q_old = copy(q);\n",
    "    end\n",
    "    return Dict([\n",
    "                 (:alpha,alpha), (:theta,theta), (:delta, delta), (:q, q),\n",
    "                 (:sigmasq,sigmasq), (:eta,eta), \n",
    "                 (:y, y), (:D, D), (:X,X), (:w, w), (:nu,nu),\n",
    "                 (:n, n), (:p, p), (:m, m),\n",
    "                 (:v0, v0), (:v1, v1)\n",
    "               ])\n",
    "end"
   ]
  },
  {
   "cell_type": "code",
   "execution_count": 232,
   "metadata": {},
   "outputs": [
    {
     "data": {
      "text/plain": [
       "model_selection (generic function with 2 methods)"
      ]
     },
     "execution_count": 232,
     "metadata": {},
     "output_type": "execute_result"
    }
   ],
   "source": [
    "function model_selection(out)\n",
    "    # thresholding step\n",
    "    ind = find(out[:q] .>= 0.5);\n",
    "    \n",
    "    # get original graph\n",
    "    A_orig = out[:D]'*out[:D]; A_orig = (abs.(A_orig) - A_orig)/2;\n",
    "    \n",
    "    # get a thresholded graph\n",
    "    D = out[:D][ind,:]; L = D'*D;\n",
    "    g = Graph((abs.(L) - L)/2);\n",
    "    \n",
    "    # edge contraction / node merger\n",
    "    c = connected_components(g);\n",
    "    s = length(c);\n",
    "    \n",
    "    # get reduced X, w\n",
    "    if out[:X] == speye(out[:n]) || out[:w] == ones(out[:n])\n",
    "        X = zeros(out[:n],s);\n",
    "        for i = 1:s\n",
    "            X[c[i],i] = 1;\n",
    "        end\n",
    "        w = ones(s);\n",
    "    elseif out[:w] == [1;zeros(out[:p]-1)]\n",
    "        S = collect(Iterators.flatten(c[2:end]));\n",
    "        X = zeros(out[:n],s); X[:,2:end] = out[:X][:,S];\n",
    "        w = sparse(zeros(s)); w[1] = 1;\n",
    "    else\n",
    "        error(\"For this case of \\\"x\\\" and \\\"w\\\", model selection is not supported yet.\")\n",
    "    end\n",
    "    \n",
    "    # get reduced P\n",
    "    P = speye(s) - w*w'/norm(w)^2;\n",
    "    \n",
    "    # get a reduced model graph-algebraic objects\n",
    "    A = zeros(s,s);\n",
    "    for i = 1:s\n",
    "        for j = i+1:s\n",
    "            A[i,j] = sum(A_orig[c[i],c[j]]);\n",
    "        end\n",
    "    end\n",
    "    A = (A .> 0); A = A + A';\n",
    "    L = Diagonal(sum(A,2)[:]) - A; L = L/out[:v1];\n",
    "    H = X'*X + P*L*P + out[:nu]*w*w'/norm(w)^2;\n",
    "    \n",
    "    # t_reduced : a vector of length s, which equals reduced alpha w + reduced theta\n",
    "    t_reduced = zeros(s);\n",
    "    if out[:nu] == Inf # just to avoid numerical issue - convention does not work here\n",
    "        H = H[2:end,2:end]; L = L[2:end,2:end];\n",
    "        eig_L = sort(eig(L)[1]);\n",
    "        eig_H = sort(eig(H)[1]);\n",
    "        t_reduced[2:end] = H\\(X[:,2:end]'*y);\n",
    "    else\n",
    "        eig_L = sort(eig(L)[1])[2:end];\n",
    "        eig_H = sort(eig(H)[1])[2:end];\n",
    "        t_reduced = H\\(X'*y);    \n",
    "    end\n",
    "    \n",
    "    # t_full : a vector of length p, which equals full alpha w + full theta\n",
    "    t_full = zeros(out[:p]);\n",
    "    for i = 1:s\n",
    "        t_full[c[i]] = t_reduced[i];\n",
    "    end\n",
    "    \n",
    "    # Xt : X * t_reduced\n",
    "    Xt = X*t_reduced;\n",
    "\n",
    "    \n",
    "    # model selection scores\n",
    "    # first_term = -1/2 * log det_w(L), negative log-sum of nonzero eigenvalues of L\n",
    "    first_term = -sum(log.(eig_L))/2;\n",
    "    # second_term = 1/2 * log det_w(H), log-sum of nonzero eigenvalues of H\n",
    "    second_term = sum(log.(eig_H))/2;\n",
    "    # third_term = n/2 * log l2 loss \n",
    "    third_term = log(sum((y-X*t_reduced).^2)) * n/2;\n",
    "    \n",
    "    return Dict([(:t_reduced, t_reduced), (:Xt, Xt), (:t_full, t_full),\n",
    "                 (:each, (first_term, second_term, third_term)),\n",
    "                 (:X, X), (:H, H), (:A, A), (:w, w), (:s, s), (:c, c),\n",
    "                 (:score, first_term + second_term + third_term)\n",
    "                ])\n",
    "end"
   ]
  },
  {
   "cell_type": "code",
   "execution_count": 243,
   "metadata": {},
   "outputs": [
    {
     "name": "stdout",
     "output_type": "stream",
     "text": [
      "A data \"y\" has input of length \"n\" = 441\n",
      "A graph incidence matrix \"D\" has input of size (\"m\" = 840,\"p\" = 441)\n",
      "A design matrix \"X\" has no input: use speye(n) as a default, \"n\" = 441\n",
      "A support vector \"w\" has no input: use ones(p) as a default, \"p\" = 441\n",
      "\"w\" seems an eigenvector of \"X'*X\". We use a simpler algorithm.\n",
      "We initialize at \"α\" = mean(y), \"θ\" = y-α, \"σ^2\" = var(y) and \"η\" = 1/2\n",
      "iteration: 5, error: 2.06e-03\n",
      "iteration: 8, error: 9.48e-13\n",
      "the algorithm converges at 8-th iteration\n"
     ]
    },
    {
     "data": {
      "text/plain": [
       "Dict{Symbol,Any} with 16 entries:\n",
       "  :alpha   => 5.32921\n",
       "  :p       => 441\n",
       "  :n       => 441\n",
       "  :D       => [1 -1 … 0 0; 1 0 … 0 0; … ; 0 0 … -1 0; 0 0 … 1 -1]\n",
       "  :delta   => [0.000667633, 0.00113498, 0.00390052, -0.000572224, 0.00120819, -…\n",
       "  :w       => [1.0, 1.0, 1.0, 1.0, 1.0, 1.0, 1.0, 1.0, 1.0, 1.0  …  1.0, 1.0, 1…\n",
       "  :eta     => 0.748557\n",
       "  :nu      => 0\n",
       "  :X       => …\n",
       "  :v1      => 10000.0\n",
       "  :q       => [0.999664, 0.999664, 0.999664, 0.999664, 0.999664, 0.999664, 0.0,…\n",
       "  :m       => 840\n",
       "  :v0      => 0.01\n",
       "  :y       => [-4.70271, -4.6176, -5.59763, -5.01045, -0.839027, 0.311111, 2.29…\n",
       "  :theta   => [-10.2121, -10.2128, -10.2167, -10.2179, -5.32839, -5.32522, -5.3…\n",
       "  :sigmasq => 1.33319"
      ]
     },
     "execution_count": 243,
     "metadata": {},
     "output_type": "execute_result"
    }
   ],
   "source": [
    "m = 21;\n",
    "x = linspace(-1,1,m); loc_x = repeat(x,inner = m);\n",
    "y = linspace(-1,1,m); loc_y = repeat(y,outer = m);\n",
    "Th = cos.(sqrt.(x.^2 .+ y'.^2) * pi/2);\n",
    "Theta = 5 * ceil.(2.8 * Th - 0.2);\n",
    "theta = Theta[:]; n = length(theta);\n",
    "sigma = 1.0;\n",
    "srand(1);\n",
    "y = theta + sigma * randn(n); Y = reshape(y,21,21);\n",
    "g = Grid([21;21]; periodic=false);\n",
    "A = adjacency_matrix(g);\n",
    "D = -full(incidence_matrix(g, oriented = true))';\n",
    "out = BGSM_general(y,D, v0 = 1e-3 * 10, v1 = 1e4, b = sum(size(D)), verbose = true)"
   ]
  },
  {
   "cell_type": "code",
   "execution_count": 244,
   "metadata": {},
   "outputs": [
    {
     "data": {
      "text/plain": [
       "Dict{Symbol,Any} with 11 entries:\n",
       "  :c         => Array{Int64,1}[[1, 2, 3, 4, 22, 23, 24, 43, 44, 64], [5, 6, 7, …\n",
       "  :score     => 1397.84\n",
       "  :w         => [1.0, 1.0, 1.0, 1.0, 1.0, 1.0, 1.0, 1.0, 1.0, 1.0, 1.0]\n",
       "  :t_reduced => [-4.88839, 0.00366643, -5.75669, 5.04009, 9.97776, 3.29098, 14.…\n",
       "  :each      => (43.2048, 13.734, 1340.9)\n",
       "  :X         => [1.0 0.0 … 0.0 0.0; 1.0 0.0 … 0.0 0.0; … ; 0.0 0.0 … 0.0 1.0; 0…\n",
       "  :A         => [0 1 … 0 0; 1 0 … 1 1; … ; 0 1 … 0 0; 0 1 … 0 0]\n",
       "  :s         => 11\n",
       "  :Xt        => [-4.88839, -4.88839, -4.88839, -4.88839, 0.00366643, 0.00366643…\n",
       "  :H         => [10.0001 -0.0001 … 2.25678e-21 2.20702e-21; -0.0001 109.001 … -…\n",
       "  :t_full    => [-4.88839, -4.88839, -4.88839, -4.88839, 0.00366643, 0.00366643…"
      ]
     },
     "execution_count": 244,
     "metadata": {},
     "output_type": "execute_result"
    }
   ],
   "source": [
    "# model selection result\n",
    "out_ms = model_selection(out)"
   ]
  },
  {
   "cell_type": "code",
   "execution_count": 251,
   "metadata": {},
   "outputs": [
    {
     "data": {
      "image/png": "[encoded data removed]",
      "text/plain": [
       "PyPlot.Figure(PyObject <Figure size 1050x300 with 3 Axes>)"
      ]
     },
     "metadata": {},
     "output_type": "display_data"
    },
    {
     "name": "stdout",
     "output_type": "stream",
     "text": [
      "misclassificiation rate: 0.0131\n"
     ]
    }
   ],
   "source": [
    "fig = figure(figsize = (10.5,3));\n",
    "subplot(131); pcolormesh(Theta, cmap = \"PuBu\"); axis(\"off\"); title(\"true θ heatmap\");\n",
    "subplot(132); pcolormesh(reshape(out[:alpha] + out[:theta],21,21), cmap = \"PuBu\"); axis(\"off\"); title(\"hat θ heatmap\");\n",
    "subplot(133); pcolormesh(reshape(out_ms[:t_full],21,21), cmap = \"PuBu\"); axis(\"off\"); title(\"tilde θ heatmap\");\n",
    "hat_gamma = (out[:q] .> 0.5); gamma = (D*theta .== 0);\n",
    "missed = sum(gamma .* (1-hat_gamma)) + sum((1-gamma) .* hat_gamma)\n",
    "println(\"misclassificiation rate: \", round(missed/out[:m],4));"
   ]
  },
  {
   "cell_type": "code",
   "execution_count": 253,
   "metadata": {},
   "outputs": [
    {
     "name": "stdout",
     "output_type": "stream",
     "text": [
      "A data \"y\" has input of length \"n\" = 100\n",
      "A graph incidence matrix \"D\" has input of size (\"m\" = 200,\"p\" = 201)\n",
      "We initialize at \"α\" = mean(y), \"θ\" = y-α, \"σ^2\" = var(y) and \"η\" = 1/2\n",
      "iteration: 5, error: 6.37e-03\n",
      "iteration: 10, error: 5.01e-04\n",
      "iteration: 15, error: 9.97e-05\n",
      "iteration: 20, error: 2.43e-03\n",
      "iteration: 25, error: 8.66e-04\n",
      "iteration: 30, error: 2.97e-04\n",
      "iteration: 35, error: 7.98e-04\n",
      "iteration: 38, error: 6.64e-13\n",
      "the algorithm converges at 38-th iteration\n"
     ]
    },
    {
     "data": {
      "text/plain": [
       "Dict{Symbol,Any} with 16 entries:\n",
       "  :alpha   => 0\n",
       "  :p       => 201\n",
       "  :n       => 100\n",
       "  :D       => [-1 1 … 0 0; -1 0 … 0 0; … ; -1 0 … 1 0; -1 0 … 0 1]\n",
       "  :delta   => [-0.0191805, -0.0120603, 0.0715204, 0.0360596, -0.0695142, 0.0137…\n",
       "  :w       => [1.0, 0.0, 0.0, 0.0, 0.0, 0.0, 0.0, 0.0, 0.0, 0.0  …  0.0, 0.0, 0…\n",
       "  :eta     => 0.899873\n",
       "  :nu      => Inf\n",
       "  :X       => [0.0 0.297288 … 1.55131 0.410975; 0.0 0.382396 … -0.886303 1.1673…\n",
       "  :v1      => 10000.0\n",
       "  :q       => [0.999685, 0.999685, 0.999678, 0.999683, 0.999678, 0.999685, 0.99…\n",
       "  :m       => 200\n",
       "  :v0      => 0.08\n",
       "  :y       => [35.737, -55.1175, 21.0849, -39.1381, 19.8212, -5.80741, 22.7392,…\n",
       "  :theta   => [0.0, -0.0191805, -0.0120603, 0.0715204, 0.0360596, -0.0695142, 0…\n",
       "  :sigmasq => 1.34915"
      ]
     },
     "execution_count": 253,
     "metadata": {},
     "output_type": "execute_result"
    }
   ],
   "source": [
    "srand(1);\n",
    "n = 100; p = 200;\n",
    "X = randn(n,p); X1 = [zeros(n) X];\n",
    "w = [1;zeros(p)];\n",
    "t = [zeros(Int(4*p/5));5.0*ones(Int(p/5))]\n",
    "y = X*t + randn(n);\n",
    "g = Graph(p+1);\n",
    "for i = 1:p\n",
    "    add_edge!(g,(1,i+1))\n",
    "end\n",
    "A = adjacency_matrix(g);\n",
    "D = full(incidence_matrix(g, oriented = true))';\n",
    "out = BGSM_general(y, D, v0 = 1e-1*0.8, X = X1, w = w, A = size(D,2), b = sum(size(D)), nu = Inf)"
   ]
  },
  {
   "cell_type": "code",
   "execution_count": 254,
   "metadata": {},
   "outputs": [
    {
     "data": {
      "text/plain": [
       "Dict{Symbol,Any} with 11 entries:\n",
       "  :c         => Array{Int64,1}[[1, 2, 3, 4, 5, 6, 7, 8, 9, 10  …  152, 153, 154…\n",
       "  :score     => 458.127\n",
       "  :w         =>   [1 ]  =  1.0\n",
       "  :t_reduced => [0.0, 4.84773, 4.95546, 5.06888, 4.92423, 4.81965, 5.14335, 5.0…\n",
       "  :each      => (184.207, 87.3752, 186.545)\n",
       "  :X         => [0.0 -0.442912 … 1.55131 0.410975; 0.0 -0.863675 … -0.886303 1.…\n",
       "  :A         => [0 1 … 1 1; 1 0 … 0 0; … ; 1 0 … 0 0; 1 0 … 0 0]\n",
       "  :s         => 41\n",
       "  :Xt        => [35.9289, -55.4433, 21.0323, -39.5484, 20.0262, -5.85848, 24.69…\n",
       "  :H         => [108.813 2.31559 … 15.3492 -27.9349; 2.31559 110.611 … 4.92077 …\n",
       "  :t_full    => [0.0, 0.0, 0.0, 0.0, 0.0, 0.0, 0.0, 0.0, 0.0, 0.0  …  4.88506, …"
      ]
     },
     "execution_count": 254,
     "metadata": {},
     "output_type": "execute_result"
    }
   ],
   "source": [
    "# model selection result\n",
    "out_ms = model_selection(out)"
   ]
  },
  {
   "cell_type": "code",
   "execution_count": 258,
   "metadata": {},
   "outputs": [
    {
     "data": {
      "image/png": "[encoded data removed]",
      "text/plain": [
       "PyPlot.Figure(PyObject <Figure size 1300x400 with 3 Axes>)"
      ]
     },
     "metadata": {},
     "output_type": "display_data"
    },
    {
     "name": "stdout",
     "output_type": "stream",
     "text": [
      "misclassificiation rate: 0.0\n"
     ]
    }
   ],
   "source": [
    "fig = figure(figsize = (13,4));\n",
    "subplot(131); plot(t); xlabel(\"index i\"); ylabel(\"θ_i\"); title(\"true θ\");\n",
    "subplot(132); plot(out[:delta]); xlabel(\"index i\"); ylabel(\"θ_i\"); title(\"hat θ\");\n",
    "subplot(133); plot(out_ms[:t_full]); xlabel(\"index i\"); ylabel(\"θ_i\"); title(\"tilde θ\");\n",
    "hat_gamma = (out[:q] .> 0.5); gamma = (t .== 0);\n",
    "missed = sum(gamma .* (1-hat_gamma)) + sum((1-gamma) .* hat_gamma);\n",
    "println(\"misclassificiation rate: \", round(missed/out[:m],4));"
   ]
  }
 ],
 "metadata": {
  "kernelspec": {
   "display_name": "Julia 0.6.2",
   "language": "julia",
   "name": "julia-0.6"
  },
  "language_info": {
   "file_extension": ".jl",
   "mimetype": "application/julia",
   "name": "julia",
   "version": "0.6.2"
  }
 },
 "nbformat": 4,
 "nbformat_minor": 2
}

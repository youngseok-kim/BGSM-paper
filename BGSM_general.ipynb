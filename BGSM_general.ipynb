{
 "cells": [
  {
   "cell_type": "code",
   "execution_count": 2,
   "metadata": {},
   "outputs": [],
   "source": [
    "using LightGraphs, GraphPlot, Compose, PyPlot"
   ]
  },
  {
   "cell_type": "code",
   "execution_count": 10,
   "metadata": {},
   "outputs": [
    {
     "data": {
      "text/plain": [
       "BSGM_general (generic function with 1 method)"
      ]
     },
     "execution_count": 10,
     "metadata": {},
     "output_type": "execute_result"
    }
   ],
   "source": [
    "# a function for BSGM_general (Section 2,3)\n",
    "\n",
    "# y : a vector of data\n",
    "# D : graph incidence matrix\n",
    "# X : a design matrix\n",
    "# w : a support vector\n",
    "# nu : a prior precision for alpha\n",
    "# v0, v1 : tuning parameters\n",
    "# a, b : inverse gamma hyperparameters\n",
    "# convtol : convergence tolerance\n",
    "# orthotol : tolerance to check whether w is an eigenvector of X'X\n",
    "# iter : a number of maximum allowed iteration\n",
    "\n",
    "function BSGM_general(    y, D;                                 # a \n",
    "                          X = zeros(0,0), w = zeros(0),         # a design matrix and a support vector\n",
    "                          nu = 0,                               # a prior precision for alpha\n",
    "                          v0 = 1e-1, v1 = 1e4,                  # tuning parameters\n",
    "                          a = 0, b = 1,                         # inverse gamma hyperparmeters\n",
    "                          A = 1, B = 1,                         # beta bernoulli hyperparmeters\n",
    "                          convtol = 1e-10, orthotol = 1e-10,    # tolerances\n",
    "                          iter = 1000,                          # a number of maximum allowed iteration\n",
    "                          verbose = true)                       # verbose option\n",
    "    \n",
    "    # n is the length of vector y\n",
    "    n = length(y);\n",
    "    m,p = size(D);\n",
    "    if verbose == true\n",
    "        println(\"A data \\\"y\\\" has input of length \\\"n\\\" = $n\");\n",
    "        println(\"A graph incidence matrix \\\"D\\\" has input of size (\\\"m\\\" = $m,\\\"p\\\" = $p)\");\n",
    "    end\n",
    "\n",
    "    if size(X) == (0,0)\n",
    "        if verbose == true\n",
    "            println(\"A design matrix \\\"X\\\" has no input: use speye(n) as a default, \\\"n\\\" = $n\");\n",
    "        end\n",
    "        X = speye(n);\n",
    "    elseif size(X,1) != n\n",
    "        error(\"Error: A data \\\"y\\\" has length \\\"n\\\" = $n thus a design matrix \\\"X\\\" must have $n rows.\");\n",
    "    end\n",
    "    \n",
    "    if length(w) == 0\n",
    "        if verbose == true\n",
    "            println(\"A support vector \\\"w\\\" has no input: use ones(p) as a default, \\\"p\\\" = $p\");\n",
    "        end\n",
    "        w = ones(p);\n",
    "    elseif length(w) != p\n",
    "        error(\"Error: A graph incidence matrix \\\"D\\\" has \\\"p\\\" = $p columns thus a support vector \\\"w\\\" must have $p rows.\");\n",
    "    end\n",
    "    \n",
    "    if nu == 0\n",
    "        # orthogonality check\n",
    "        temp = X'*X*w;\n",
    "        alpha = w'*X'*y / norm(w)^2;\n",
    "        if norm(temp/norm(temp) - w/norm(w)) < orthotol && verbose == true\n",
    "            println(\"\\\"w\\\" seems an eigenvector of \\\"X'*X\\\". We use a simpler algorithm.\");\n",
    "        end\n",
    "    elseif nu == Inf\n",
    "        alpha = 0;\n",
    "    else\n",
    "        Error(\"\\\"ν\\\" values other than 0 or ∞ are not being implemented yet.\")\n",
    "    end\n",
    "\n",
    "    # initialization\n",
    "    theta = (X'*X + 1e-4 * speye(p))\\(X'*(y - alpha));\n",
    "    delta = D * theta;\n",
    "    if X == speye(n)\n",
    "        sigmasq = sum((y - alpha).^2)/n;\n",
    "    else\n",
    "        sigmasq = 1;\n",
    "    end\n",
    "    eta = 1/2;\n",
    "    q = ones(m)/2; q_old = copy(q);\n",
    "    if verbose == true\n",
    "        println(\"We initialize at \\\"α\\\" = mean(y), \\\"θ\\\" = y-α, \\\"σ^2\\\" = var(y) and \\\"η\\\" = 1/2\");\n",
    "    end\n",
    "\n",
    "    # loop start\n",
    "    for i = 1:iter\n",
    "        \n",
    "        # E-step : update q and tau\n",
    "        q = 1./( 1 + (1-eta)/eta * sqrt(v0/v1) * exp.(delta.^2/2 * (1/v0 - 1/v1)/sigmasq) );\n",
    "        tau = q/v0 + (1-q)/v1;\n",
    "        \n",
    "        # M-step : update theta, delta, sigma^2\n",
    "        theta = (X'*X + D'*Diagonal(tau)*D) \\ (X'*(y - alpha));\n",
    "        theta = theta - (w'*theta) * w/norm(w)^2; # projection\n",
    "        delta = D * theta;\n",
    "        sigmasq = (sum((y - alpha - X*theta).^2) + sum((delta .* sqrt.(tau)).^2) + b)/(n+m+a+1);\n",
    "\n",
    "        # convergence criterion\n",
    "        err = norm(q - q_old)/length(q);\n",
    "        \n",
    "        # convergence check\n",
    "        if err < convtol\n",
    "            if verbose == true\n",
    "                @printf \"iteration: %d, error: %0.2e\\n\" i err;\n",
    "                println(\"the algorithm converges at $i-th iteration\");\n",
    "            end\n",
    "            break;\n",
    "        end\n",
    "        \n",
    "        # printout\n",
    "        if rem(i,5) == 0 && verbose == true\n",
    "            @printf \"iteration: %d, error: %0.2e\\n\" i err;\n",
    "        end\n",
    "        \n",
    "        # update eta\n",
    "        eta = (sum(q) + A - 1)/(m + A + B - 2);\n",
    "        \n",
    "        # save for convergence check\n",
    "        q_old = copy(q);\n",
    "    end\n",
    "    return Dict([\n",
    "                 (:alpha,alpha), (:theta,theta), (:delta, delta), (:q, q),\n",
    "                 (:sigmasq,sigmasq), (:eta,eta), (:w, w)\n",
    "               ])\n",
    "end"
   ]
  },
  {
   "cell_type": "code",
   "execution_count": 7,
   "metadata": {},
   "outputs": [
    {
     "data": {
      "text/plain": [
       "model_selection (generic function with 1 method)"
      ]
     },
     "execution_count": 7,
     "metadata": {},
     "output_type": "execute_result"
    }
   ],
   "source": [
    "function model_selection(y, D, out; v1 = 1e4)\n",
    "    # thresholding step\n",
    "    ind = find(out[:q] .>= 0.5);\n",
    "    \n",
    "    # get a reduced model\n",
    "    D_res = D[ind,:]\n",
    "    L_res = D_res'*D_res;\n",
    "    A_res = (abs.(L_res) - L_res)/2;\n",
    "    \n",
    "    # edge contraction / node merger\n",
    "    g_res = Graph(A_res);\n",
    "    c = connected_components(g_res)\n",
    "    t = zeros(n); i = 0;\n",
    "    for ind in c\n",
    "        i += 1;\n",
    "        t[ind] = mean(y[ind]);\n",
    "    end\n",
    "    \n",
    "    # get a reduced model graph-algebraic objects\n",
    "    s = length(c)\n",
    "    A_reduced = zeros(s,s)\n",
    "    for i = 1:s\n",
    "        for j = i+1:s\n",
    "            A_reduced[i,j] = sum(A[c[i],c[j]])\n",
    "        end\n",
    "    end\n",
    "    A_reduced = (A_reduced .> 0)\n",
    "    A_reduced = A_reduced + A_reduced';\n",
    "    L_reduced = Diagonal(sum(A_reduced,2)[:]) - A_reduced;\n",
    "    \n",
    "    # model selection scores\n",
    "    e_vals = eig(L_reduced/v1)[1][2:end]\n",
    "    first_term = -sum(log.(e_vals))/2;\n",
    "    second_term = sum(log.(1+e_vals))/2;\n",
    "    third_term = log(sum((y-t).^2)) * n/2;\n",
    "    \n",
    "    return Dict([(:theta,t), (:score, first_term + second_term + third_term)])\n",
    "end"
   ]
  },
  {
   "cell_type": "code",
   "execution_count": 11,
   "metadata": {},
   "outputs": [
    {
     "data": {
      "text/plain": [
       "Dict{Symbol,Any} with 7 entries:\n",
       "  :alpha   => 5.32921\n",
       "  :w       => [1.0, 1.0, 1.0, 1.0, 1.0, 1.0, 1.0, 1.0, 1.0, 1.0  …  1.0, 1.0, 1…\n",
       "  :eta     => 0.748557\n",
       "  :theta   => [-10.2121, -10.2128, -10.2167, -10.2179, -5.32839, -5.32522, -5.3…\n",
       "  :sigmasq => 1.33319\n",
       "  :q       => [0.999664, 0.999664, 0.999664, 0.999664, 0.999664, 0.999664, 0.0,…\n",
       "  :delta   => [0.000667633, 0.00113498, 0.00390052, -0.000572224, 0.00120819, -…"
      ]
     },
     "execution_count": 11,
     "metadata": {},
     "output_type": "execute_result"
    }
   ],
   "source": [
    "m = 21;\n",
    "x = linspace(-1,1,m); loc_x = repeat(x,inner = m);\n",
    "y = linspace(-1,1,m); loc_y = repeat(y,outer = m);\n",
    "Th = cos.(sqrt.(x.^2 .+ y'.^2) * pi/2);\n",
    "Theta = 5 * ceil.(2.8 * Th - 0.2);\n",
    "theta = Theta[:]; n = length(theta);\n",
    "sigma = 1.0;\n",
    "srand(1);\n",
    "y = theta + sigma * randn(n); Y = reshape(y,21,21);\n",
    "g = Grid([21;21]; periodic=false);\n",
    "A = adjacency_matrix(g);\n",
    "D = -full(incidence_matrix(g, oriented = true))';\n",
    "out = BSGM_general(y,D, v0 = 1e-3 * 10, v1 = 1e4, b = sum(size(D)), verbose = false)"
   ]
  },
  {
   "cell_type": "code",
   "execution_count": 8,
   "metadata": {},
   "outputs": [
    {
     "data": {
      "text/plain": [
       "Dict{Symbol,Any} with 2 entries:\n",
       "  :theta => [-4.88844, -4.88844, -4.88844, -4.88844, 0.00367979, 0.00367979, 0.…\n",
       "  :score => 1384.1"
      ]
     },
     "execution_count": 8,
     "metadata": {},
     "output_type": "execute_result"
    }
   ],
   "source": [
    "# model selection result\n",
    "out_ms = model_selection(y, D, out, v1 = 1e4)"
   ]
  },
  {
   "cell_type": "code",
   "execution_count": 57,
   "metadata": {},
   "outputs": [
    {
     "data": {
      "image/png": "[encoded data removed]",
      "text/plain": [
       "PyPlot.Figure(PyObject <Figure size 1050x300 with 3 Axes>)"
      ]
     },
     "metadata": {},
     "output_type": "display_data"
    }
   ],
   "source": [
    "fig = figure(figsize = (10.5,3));\n",
    "subplot(131); pcolormesh(Theta, cmap = \"PuBu\"); axis(\"off\"); title(\"true θ heatmap\");\n",
    "subplot(132); pcolormesh(reshape(out[:theta],21,21), cmap = \"PuBu\"); axis(\"off\"); title(\"hat θ heatmap\");\n",
    "subplot(133); pcolormesh(reshape(out_ms[:theta],21,21), cmap = \"PuBu\"); axis(\"off\"); title(\"tilde θ heatmap\");"
   ]
  },
  {
   "cell_type": "code",
   "execution_count": 62,
   "metadata": {},
   "outputs": [
    {
     "name": "stdout",
     "output_type": "stream",
     "text": [
      "A data \"y\" has input of length \"n\" = 100\n",
      "A graph incidence matrix \"D\" has input of size (\"m\" = 200,\"p\" = 201)\n",
      "We initialize at \"α\" = mean(y), \"θ\" = y-α, \"σ^2\" = var(y) and \"η\" = 1/2\n",
      "iteration: 5, error: 6.37e-03\n",
      "iteration: 10, error: 5.01e-04\n",
      "iteration: 15, error: 9.97e-05\n",
      "iteration: 20, error: 2.43e-03\n",
      "iteration: 25, error: 8.66e-04\n",
      "iteration: 30, error: 2.97e-04\n",
      "iteration: 35, error: 7.98e-04\n",
      "iteration: 38, error: 6.64e-13\n",
      "the algorithm converges at 38-th iteration\n"
     ]
    },
    {
     "data": {
      "text/plain": [
       "Dict{Symbol,Any} with 7 entries:\n",
       "  :alpha   => 0\n",
       "  :w       => [1.0, 0.0, 0.0, 0.0, 0.0, 0.0, 0.0, 0.0, 0.0, 0.0  …  0.0, 0.0, 0…\n",
       "  :eta     => 0.899873\n",
       "  :theta   => [0.0, -0.0191805, -0.0120603, 0.0715204, 0.0360596, -0.0695142, 0…\n",
       "  :sigmasq => 1.34915\n",
       "  :q       => [0.999685, 0.999685, 0.999678, 0.999683, 0.999678, 0.999685, 0.99…\n",
       "  :delta   => [-0.0191805, -0.0120603, 0.0715204, 0.0360596, -0.0695142, 0.0137…"
      ]
     },
     "execution_count": 62,
     "metadata": {},
     "output_type": "execute_result"
    }
   ],
   "source": [
    "srand(1);\n",
    "n = 100; p = 200;\n",
    "X = randn(n,p); X1 = [zeros(n) X];\n",
    "w = [1;zeros(p)];\n",
    "t = [zeros(Int(4*p/5));5.0*ones(Int(p/5))]\n",
    "y = X*t + randn(n);\n",
    "g = Graph(p+1);\n",
    "for i = 1:p\n",
    "    add_edge!(g,(1,i+1))\n",
    "end\n",
    "A = adjacency_matrix(g);\n",
    "D = full(incidence_matrix(g, oriented = true))';\n",
    "out1 = BSGM_general(y, D, v0 = 1e-1*0.8, X = X1, w = w, A = size(D,2), b = sum(size(D)), nu = Inf)"
   ]
  },
  {
   "cell_type": "code",
   "execution_count": 64,
   "metadata": {},
   "outputs": [
    {
     "ename": "LoadError",
     "evalue": "\u001b[91mBoundsError: attempt to access 100-element Array{Float64,1} at index [[1, 2, 3, 4, 5, 6, 7, 8, 9, 10, 11, 12, 13, 14, 15, 16, 17, 18, 19, 20, 21, 22, 23, 24, 25, 26, 27, 28, 29, 30, 31, 32, 33, 34, 35, 36, 37, 38, 39, 40, 41, 42, 43, 44, 45, 46, 47, 48, 49, 50, 51, 52, 53, 54, 55, 56, 57, 58, 59, 60, 61, 62, 63, 64, 65, 66, 67, 68, 69, 70, 71, 72, 73, 74, 75, 76, 77, 78, 79, 80, 81, 82, 83, 84, 85, 86, 87, 88, 89, 90, 91, 92, 93, 94, 95, 96, 97, 98, 99, 100, 101, 102, 103, 104, 105, 106, 107, 108, 109, 110, 111, 112, 113, 114, 115, 116, 117, 118, 119, 120, 121, 122, 123, 124, 125, 126, 127, 128, 129, 130, 131, 132, 133, 134, 135, 136, 137, 138, 139, 140, 141, 142, 143, 144, 145, 146, 147, 148, 149, 150, 151, 152, 153, 154, 155, 156, 157, 158, 159, 160, 161]]\u001b[39m",
     "output_type": "error",
     "traceback": [
      "\u001b[91mBoundsError: attempt to access 100-element Array{Float64,1} at index [[1, 2, 3, 4, 5, 6, 7, 8, 9, 10, 11, 12, 13, 14, 15, 16, 17, 18, 19, 20, 21, 22, 23, 24, 25, 26, 27, 28, 29, 30, 31, 32, 33, 34, 35, 36, 37, 38, 39, 40, 41, 42, 43, 44, 45, 46, 47, 48, 49, 50, 51, 52, 53, 54, 55, 56, 57, 58, 59, 60, 61, 62, 63, 64, 65, 66, 67, 68, 69, 70, 71, 72, 73, 74, 75, 76, 77, 78, 79, 80, 81, 82, 83, 84, 85, 86, 87, 88, 89, 90, 91, 92, 93, 94, 95, 96, 97, 98, 99, 100, 101, 102, 103, 104, 105, 106, 107, 108, 109, 110, 111, 112, 113, 114, 115, 116, 117, 118, 119, 120, 121, 122, 123, 124, 125, 126, 127, 128, 129, 130, 131, 132, 133, 134, 135, 136, 137, 138, 139, 140, 141, 142, 143, 144, 145, 146, 147, 148, 149, 150, 151, 152, 153, 154, 155, 156, 157, 158, 159, 160, 161]]\u001b[39m",
      "",
      "Stacktrace:",
      " [1] \u001b[1mthrow_boundserror\u001b[22m\u001b[22m\u001b[1m(\u001b[22m\u001b[22m::Array{Float64,1}, ::Tuple{Array{Int64,1}}\u001b[1m)\u001b[22m\u001b[22m at \u001b[1m./abstractarray.jl:434\u001b[22m\u001b[22m",
      " [2] \u001b[1mcheckbounds\u001b[22m\u001b[22m at \u001b[1m./abstractarray.jl:362\u001b[22m\u001b[22m [inlined]",
      " [3] \u001b[1mmacro expansion\u001b[22m\u001b[22m at \u001b[1m./multidimensional.jl:494\u001b[22m\u001b[22m [inlined]",
      " [4] \u001b[1m_getindex\u001b[22m\u001b[22m at \u001b[1m./multidimensional.jl:491\u001b[22m\u001b[22m [inlined]",
      " [5] \u001b[1mgetindex\u001b[22m\u001b[22m\u001b[1m(\u001b[22m\u001b[22m::Array{Float64,1}, ::Array{Int64,1}\u001b[1m)\u001b[22m\u001b[22m at \u001b[1m./abstractarray.jl:883\u001b[22m\u001b[22m",
      " [6] \u001b[1m#model_selection#78\u001b[22m\u001b[22m\u001b[1m(\u001b[22m\u001b[22m::Float64, ::Function, ::Array{Float64,1}, ::Array{Int64,2}, ::Dict{Symbol,Any}\u001b[1m)\u001b[22m\u001b[22m at \u001b[1m./In[29]:16\u001b[22m\u001b[22m",
      " [7] \u001b[1m(::#kw##model_selection)\u001b[22m\u001b[22m\u001b[1m(\u001b[22m\u001b[22m::Array{Any,1}, ::#model_selection, ::Array{Float64,1}, ::Array{Int64,2}, ::Dict{Symbol,Any}\u001b[1m)\u001b[22m\u001b[22m at \u001b[1m./<missing>:0\u001b[22m\u001b[22m"
     ]
    }
   ],
   "source": [
    "# model selection result\n",
    "out1_ms = model_selection(y, D, out1, v1 = 1e4)"
   ]
  },
  {
   "cell_type": "code",
   "execution_count": 60,
   "metadata": {},
   "outputs": [
    {
     "data": {
      "image/png": "[encoded data removed]",
      "text/plain": [
       "PyPlot.Figure(PyObject <Figure size 400x400 with 1 Axes>)"
      ]
     },
     "metadata": {},
     "output_type": "display_data"
    }
   ],
   "source": [
    "fig = figure(figsize = (9,4));\n",
    "subplot(121);\n",
    "plot(out1[:delta]); xlabel(\"index i\"); ylabel(\"θ_i\"); hat_gamma = (out1[:q] .> 0.5);\n",
    "subplot(122);\n"
   ]
  },
  {
   "cell_type": "code",
   "execution_count": null,
   "metadata": {},
   "outputs": [],
   "source": [
    "gamma = (t .== 0);\n",
    "println(\"misclassificiation rate: \", sum(gamma .* (1-hat_gamma)) + sum((1-gamma) .* hat_gamma))"
   ]
  }
 ],
 "metadata": {
  "kernelspec": {
   "display_name": "Julia 0.6.2",
   "language": "julia",
   "name": "julia-0.6"
  },
  "language_info": {
   "file_extension": ".jl",
   "mimetype": "application/julia",
   "name": "julia",
   "version": "0.6.2"
  }
 },
 "nbformat": 4,
 "nbformat_minor": 2
}
